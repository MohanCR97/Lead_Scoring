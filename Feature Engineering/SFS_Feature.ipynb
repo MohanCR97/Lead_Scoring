{
 "cells": [
  {
   "cell_type": "code",
   "execution_count": 3,
   "metadata": {},
   "outputs": [],
   "source": [
    "###Loading Initial libraries\n",
    "import numpy as np\n",
    "import pandas as pd \n",
    "import seaborn as sns\n",
    "import matplotlib.pyplot as plt\n",
    "%matplotlib inline\n",
    "from warnings import filterwarnings\n",
    "filterwarnings('ignore')"
   ]
  },
  {
   "cell_type": "markdown",
   "metadata": {
    "id": "219L3n6WDiqV"
   },
   "source": [
    "# **Dataset initial observations**"
   ]
  },
  {
   "cell_type": "code",
   "execution_count": 4,
   "metadata": {
    "colab": {
     "base_uri": "https://localhost:8080/",
     "height": 534
    },
    "executionInfo": {
     "elapsed": 1948,
     "status": "ok",
     "timestamp": 1605623644570,
     "user": {
      "displayName": "GL Capstone Group 8",
      "photoUrl": "",
      "userId": "02048998563036872362"
     },
     "user_tz": -330
    },
    "id": "UokENvc9DiqV",
    "outputId": "002f8766-3b66-42ee-f354-1538302d1e54"
   },
   "outputs": [
    {
     "data": {
      "text/html": [
       "<div>\n",
       "<style scoped>\n",
       "    .dataframe tbody tr th:only-of-type {\n",
       "        vertical-align: middle;\n",
       "    }\n",
       "\n",
       "    .dataframe tbody tr th {\n",
       "        vertical-align: top;\n",
       "    }\n",
       "\n",
       "    .dataframe thead th {\n",
       "        text-align: right;\n",
       "    }\n",
       "</style>\n",
       "<table border=\"1\" class=\"dataframe\">\n",
       "  <thead>\n",
       "    <tr style=\"text-align: right;\">\n",
       "      <th></th>\n",
       "      <th>Prospect ID</th>\n",
       "      <th>Lead Number</th>\n",
       "      <th>Lead Origin</th>\n",
       "      <th>Lead Source</th>\n",
       "      <th>Do Not Email</th>\n",
       "      <th>Do Not Call</th>\n",
       "      <th>Converted</th>\n",
       "      <th>TotalVisits</th>\n",
       "      <th>Total Time Spent on Website</th>\n",
       "      <th>Page Views Per Visit</th>\n",
       "      <th>...</th>\n",
       "      <th>Get updates on DM Content</th>\n",
       "      <th>Lead Profile</th>\n",
       "      <th>City</th>\n",
       "      <th>Asymmetrique Activity Index</th>\n",
       "      <th>Asymmetrique Profile Index</th>\n",
       "      <th>Asymmetrique Activity Score</th>\n",
       "      <th>Asymmetrique Profile Score</th>\n",
       "      <th>I agree to pay the amount through cheque</th>\n",
       "      <th>A free copy of Mastering The Interview</th>\n",
       "      <th>Last Notable Activity</th>\n",
       "    </tr>\n",
       "  </thead>\n",
       "  <tbody>\n",
       "    <tr>\n",
       "      <th>0</th>\n",
       "      <td>7927b2df-8bba-4d29-b9a2-b6e0beafe620</td>\n",
       "      <td>660737</td>\n",
       "      <td>API</td>\n",
       "      <td>Olark Chat</td>\n",
       "      <td>No</td>\n",
       "      <td>No</td>\n",
       "      <td>0</td>\n",
       "      <td>0.0</td>\n",
       "      <td>0</td>\n",
       "      <td>0.0</td>\n",
       "      <td>...</td>\n",
       "      <td>No</td>\n",
       "      <td>Select</td>\n",
       "      <td>Select</td>\n",
       "      <td>02.Medium</td>\n",
       "      <td>02.Medium</td>\n",
       "      <td>15.0</td>\n",
       "      <td>15.0</td>\n",
       "      <td>No</td>\n",
       "      <td>No</td>\n",
       "      <td>Modified</td>\n",
       "    </tr>\n",
       "    <tr>\n",
       "      <th>1</th>\n",
       "      <td>2a272436-5132-4136-86fa-dcc88c88f482</td>\n",
       "      <td>660728</td>\n",
       "      <td>API</td>\n",
       "      <td>Organic Search</td>\n",
       "      <td>No</td>\n",
       "      <td>No</td>\n",
       "      <td>0</td>\n",
       "      <td>5.0</td>\n",
       "      <td>674</td>\n",
       "      <td>2.5</td>\n",
       "      <td>...</td>\n",
       "      <td>No</td>\n",
       "      <td>Select</td>\n",
       "      <td>Select</td>\n",
       "      <td>02.Medium</td>\n",
       "      <td>02.Medium</td>\n",
       "      <td>15.0</td>\n",
       "      <td>15.0</td>\n",
       "      <td>No</td>\n",
       "      <td>No</td>\n",
       "      <td>Email Opened</td>\n",
       "    </tr>\n",
       "    <tr>\n",
       "      <th>2</th>\n",
       "      <td>8cc8c611-a219-4f35-ad23-fdfd2656bd8a</td>\n",
       "      <td>660727</td>\n",
       "      <td>Landing Page Submission</td>\n",
       "      <td>Direct Traffic</td>\n",
       "      <td>No</td>\n",
       "      <td>No</td>\n",
       "      <td>1</td>\n",
       "      <td>2.0</td>\n",
       "      <td>1532</td>\n",
       "      <td>2.0</td>\n",
       "      <td>...</td>\n",
       "      <td>No</td>\n",
       "      <td>Potential Lead</td>\n",
       "      <td>Mumbai</td>\n",
       "      <td>02.Medium</td>\n",
       "      <td>01.High</td>\n",
       "      <td>14.0</td>\n",
       "      <td>20.0</td>\n",
       "      <td>No</td>\n",
       "      <td>Yes</td>\n",
       "      <td>Email Opened</td>\n",
       "    </tr>\n",
       "    <tr>\n",
       "      <th>3</th>\n",
       "      <td>0cc2df48-7cf4-4e39-9de9-19797f9b38cc</td>\n",
       "      <td>660719</td>\n",
       "      <td>Landing Page Submission</td>\n",
       "      <td>Direct Traffic</td>\n",
       "      <td>No</td>\n",
       "      <td>No</td>\n",
       "      <td>0</td>\n",
       "      <td>1.0</td>\n",
       "      <td>305</td>\n",
       "      <td>1.0</td>\n",
       "      <td>...</td>\n",
       "      <td>No</td>\n",
       "      <td>Select</td>\n",
       "      <td>Mumbai</td>\n",
       "      <td>02.Medium</td>\n",
       "      <td>01.High</td>\n",
       "      <td>13.0</td>\n",
       "      <td>17.0</td>\n",
       "      <td>No</td>\n",
       "      <td>No</td>\n",
       "      <td>Modified</td>\n",
       "    </tr>\n",
       "    <tr>\n",
       "      <th>4</th>\n",
       "      <td>3256f628-e534-4826-9d63-4a8b88782852</td>\n",
       "      <td>660681</td>\n",
       "      <td>Landing Page Submission</td>\n",
       "      <td>Google</td>\n",
       "      <td>No</td>\n",
       "      <td>No</td>\n",
       "      <td>1</td>\n",
       "      <td>2.0</td>\n",
       "      <td>1428</td>\n",
       "      <td>1.0</td>\n",
       "      <td>...</td>\n",
       "      <td>No</td>\n",
       "      <td>Select</td>\n",
       "      <td>Mumbai</td>\n",
       "      <td>02.Medium</td>\n",
       "      <td>01.High</td>\n",
       "      <td>15.0</td>\n",
       "      <td>18.0</td>\n",
       "      <td>No</td>\n",
       "      <td>No</td>\n",
       "      <td>Modified</td>\n",
       "    </tr>\n",
       "  </tbody>\n",
       "</table>\n",
       "<p>5 rows × 37 columns</p>\n",
       "</div>"
      ],
      "text/plain": [
       "                            Prospect ID  Lead Number              Lead Origin  \\\n",
       "0  7927b2df-8bba-4d29-b9a2-b6e0beafe620       660737                      API   \n",
       "1  2a272436-5132-4136-86fa-dcc88c88f482       660728                      API   \n",
       "2  8cc8c611-a219-4f35-ad23-fdfd2656bd8a       660727  Landing Page Submission   \n",
       "3  0cc2df48-7cf4-4e39-9de9-19797f9b38cc       660719  Landing Page Submission   \n",
       "4  3256f628-e534-4826-9d63-4a8b88782852       660681  Landing Page Submission   \n",
       "\n",
       "      Lead Source Do Not Email Do Not Call  Converted  TotalVisits  \\\n",
       "0      Olark Chat           No          No          0          0.0   \n",
       "1  Organic Search           No          No          0          5.0   \n",
       "2  Direct Traffic           No          No          1          2.0   \n",
       "3  Direct Traffic           No          No          0          1.0   \n",
       "4          Google           No          No          1          2.0   \n",
       "\n",
       "   Total Time Spent on Website  Page Views Per Visit  ...  \\\n",
       "0                            0                   0.0  ...   \n",
       "1                          674                   2.5  ...   \n",
       "2                         1532                   2.0  ...   \n",
       "3                          305                   1.0  ...   \n",
       "4                         1428                   1.0  ...   \n",
       "\n",
       "  Get updates on DM Content    Lead Profile    City  \\\n",
       "0                        No          Select  Select   \n",
       "1                        No          Select  Select   \n",
       "2                        No  Potential Lead  Mumbai   \n",
       "3                        No          Select  Mumbai   \n",
       "4                        No          Select  Mumbai   \n",
       "\n",
       "  Asymmetrique Activity Index Asymmetrique Profile Index  \\\n",
       "0                   02.Medium                  02.Medium   \n",
       "1                   02.Medium                  02.Medium   \n",
       "2                   02.Medium                    01.High   \n",
       "3                   02.Medium                    01.High   \n",
       "4                   02.Medium                    01.High   \n",
       "\n",
       "  Asymmetrique Activity Score Asymmetrique Profile Score  \\\n",
       "0                        15.0                       15.0   \n",
       "1                        15.0                       15.0   \n",
       "2                        14.0                       20.0   \n",
       "3                        13.0                       17.0   \n",
       "4                        15.0                       18.0   \n",
       "\n",
       "  I agree to pay the amount through cheque  \\\n",
       "0                                       No   \n",
       "1                                       No   \n",
       "2                                       No   \n",
       "3                                       No   \n",
       "4                                       No   \n",
       "\n",
       "  A free copy of Mastering The Interview Last Notable Activity  \n",
       "0                                     No              Modified  \n",
       "1                                     No          Email Opened  \n",
       "2                                    Yes          Email Opened  \n",
       "3                                     No              Modified  \n",
       "4                                     No              Modified  \n",
       "\n",
       "[5 rows x 37 columns]"
      ]
     },
     "execution_count": 4,
     "metadata": {},
     "output_type": "execute_result"
    }
   ],
   "source": [
    "LS=pd.read_csv('Lead Scoring.csv')\n",
    "LS.head()"
   ]
  },
  {
   "cell_type": "code",
   "execution_count": 5,
   "metadata": {
    "colab": {
     "base_uri": "https://localhost:8080/"
    },
    "executionInfo": {
     "elapsed": 1080,
     "status": "ok",
     "timestamp": 1605623650930,
     "user": {
      "displayName": "GL Capstone Group 8",
      "photoUrl": "",
      "userId": "02048998563036872362"
     },
     "user_tz": -330
    },
    "id": "dDiNR49UDiqY",
    "outputId": "4ee98a8f-5881-4666-9d7a-6c6f9b76b39e"
   },
   "outputs": [
    {
     "name": "stdout",
     "output_type": "stream",
     "text": [
      "Number of Rows in Dataset= 9240 and number of Columns in dataset= 37\n"
     ]
    }
   ],
   "source": [
    "print(\"Number of Rows in Dataset=\",LS.shape[0],\"and number of Columns in dataset=\",LS.shape[1])"
   ]
  },
  {
   "cell_type": "markdown",
   "metadata": {
    "id": "c9yiLzCz6mSg"
   },
   "source": [
    "# #Replacing the space in column names by '_' and converting to lower case"
   ]
  },
  {
   "cell_type": "code",
   "execution_count": 6,
   "metadata": {
    "colab": {
     "base_uri": "https://localhost:8080/"
    },
    "executionInfo": {
     "elapsed": 771,
     "status": "ok",
     "timestamp": 1605623651396,
     "user": {
      "displayName": "GL Capstone Group 8",
      "photoUrl": "",
      "userId": "02048998563036872362"
     },
     "user_tz": -330
    },
    "id": "eZqIxEtE6j8j",
    "outputId": "b5004b77-be5c-4018-b1eb-d2be216de10c"
   },
   "outputs": [
    {
     "data": {
      "text/plain": [
       "Index(['prospect_id', 'lead_number', 'lead_origin', 'lead_source',\n",
       "       'do_not_email', 'do_not_call', 'converted', 'total_visits',\n",
       "       'total_time_spent_on_website', 'page_views_per_visit', 'last_activity',\n",
       "       'country', 'specialization', 'how_did_you_hear_about_x_education',\n",
       "       'what_is_your_current_occupation',\n",
       "       'what_matters_most_to_you_in_choosing_a_course', 'search', 'magazine',\n",
       "       'newspaper_article', 'x_education_forums', 'newspaper',\n",
       "       'digital_advertisement', 'through_recommendations',\n",
       "       'receive_more_updates_about_our_courses', 'tags', 'lead_quality',\n",
       "       'update_me_on_supply_chain_content', 'get_updates_on_dm_content',\n",
       "       'lead_profile', 'city', 'asymmetrique_activity_index',\n",
       "       'asymmetrique_profile_index', 'asymmetrique_activity_score',\n",
       "       'asymmetrique_profile_score',\n",
       "       'i_agree_to_pay_the_amount_through_cheque',\n",
       "       'a_free_copy_of_mastering_the_interview', 'last_notable_activity'],\n",
       "      dtype='object')"
      ]
     },
     "execution_count": 6,
     "metadata": {},
     "output_type": "execute_result"
    }
   ],
   "source": [
    "\n",
    "LS.columns = LS.columns.str.lower().str.strip().str.replace(' ','_')\n",
    "LS.rename(columns = {'totalvisits':'total_visits'},inplace = True)\n",
    "LS.columns"
   ]
  },
  {
   "cell_type": "markdown",
   "metadata": {
    "id": "70-m--saDiqc"
   },
   "source": [
    "#### Datatypes"
   ]
  },
  {
   "cell_type": "code",
   "execution_count": 7,
   "metadata": {
    "colab": {
     "base_uri": "https://localhost:8080/"
    },
    "executionInfo": {
     "elapsed": 1057,
     "status": "ok",
     "timestamp": 1605623653243,
     "user": {
      "displayName": "GL Capstone Group 8",
      "photoUrl": "",
      "userId": "02048998563036872362"
     },
     "user_tz": -330
    },
    "id": "xWt0UqugDiqc",
    "outputId": "c360ff42-6209-4079-a0fd-dd62d05e6d8a"
   },
   "outputs": [
    {
     "name": "stdout",
     "output_type": "stream",
     "text": [
      "<class 'pandas.core.frame.DataFrame'>\n",
      "RangeIndex: 9240 entries, 0 to 9239\n",
      "Data columns (total 37 columns):\n",
      " #   Column                                         Non-Null Count  Dtype  \n",
      "---  ------                                         --------------  -----  \n",
      " 0   prospect_id                                    9240 non-null   object \n",
      " 1   lead_number                                    9240 non-null   int64  \n",
      " 2   lead_origin                                    9240 non-null   object \n",
      " 3   lead_source                                    9204 non-null   object \n",
      " 4   do_not_email                                   9240 non-null   object \n",
      " 5   do_not_call                                    9240 non-null   object \n",
      " 6   converted                                      9240 non-null   int64  \n",
      " 7   total_visits                                   9103 non-null   float64\n",
      " 8   total_time_spent_on_website                    9240 non-null   int64  \n",
      " 9   page_views_per_visit                           9103 non-null   float64\n",
      " 10  last_activity                                  9137 non-null   object \n",
      " 11  country                                        6779 non-null   object \n",
      " 12  specialization                                 7802 non-null   object \n",
      " 13  how_did_you_hear_about_x_education             7033 non-null   object \n",
      " 14  what_is_your_current_occupation                6550 non-null   object \n",
      " 15  what_matters_most_to_you_in_choosing_a_course  6531 non-null   object \n",
      " 16  search                                         9240 non-null   object \n",
      " 17  magazine                                       9240 non-null   object \n",
      " 18  newspaper_article                              9240 non-null   object \n",
      " 19  x_education_forums                             9240 non-null   object \n",
      " 20  newspaper                                      9240 non-null   object \n",
      " 21  digital_advertisement                          9240 non-null   object \n",
      " 22  through_recommendations                        9240 non-null   object \n",
      " 23  receive_more_updates_about_our_courses         9240 non-null   object \n",
      " 24  tags                                           5887 non-null   object \n",
      " 25  lead_quality                                   4473 non-null   object \n",
      " 26  update_me_on_supply_chain_content              9240 non-null   object \n",
      " 27  get_updates_on_dm_content                      9240 non-null   object \n",
      " 28  lead_profile                                   6531 non-null   object \n",
      " 29  city                                           7820 non-null   object \n",
      " 30  asymmetrique_activity_index                    5022 non-null   object \n",
      " 31  asymmetrique_profile_index                     5022 non-null   object \n",
      " 32  asymmetrique_activity_score                    5022 non-null   float64\n",
      " 33  asymmetrique_profile_score                     5022 non-null   float64\n",
      " 34  i_agree_to_pay_the_amount_through_cheque       9240 non-null   object \n",
      " 35  a_free_copy_of_mastering_the_interview         9240 non-null   object \n",
      " 36  last_notable_activity                          9240 non-null   object \n",
      "dtypes: float64(4), int64(3), object(30)\n",
      "memory usage: 2.6+ MB\n"
     ]
    }
   ],
   "source": [
    "LS.info()"
   ]
  },
  {
   "cell_type": "code",
   "execution_count": 8,
   "metadata": {
    "executionInfo": {
     "elapsed": 1122,
     "status": "ok",
     "timestamp": 1605623655428,
     "user": {
      "displayName": "GL Capstone Group 8",
      "photoUrl": "",
      "userId": "02048998563036872362"
     },
     "user_tz": -330
    },
    "id": "6KkqVRBLDiqf"
   },
   "outputs": [],
   "source": [
    "\n",
    "Cat=[]\n",
    "Num=[]\n",
    "for i in LS.columns:\n",
    "    if LS[i].dtype=='float64' or LS[i].dtype=='int64':\n",
    "        Num.append(i)\n",
    "    else :\n",
    "        Cat.append(i)"
   ]
  },
  {
   "cell_type": "code",
   "execution_count": 9,
   "metadata": {
    "colab": {
     "base_uri": "https://localhost:8080/"
    },
    "executionInfo": {
     "elapsed": 956,
     "status": "ok",
     "timestamp": 1605623656284,
     "user": {
      "displayName": "GL Capstone Group 8",
      "photoUrl": "",
      "userId": "02048998563036872362"
     },
     "user_tz": -330
    },
    "id": "1F7CqKVsDiqh",
    "outputId": "47c9bd04-409f-4b30-9e96-c89cd752bcf2"
   },
   "outputs": [
    {
     "name": "stdout",
     "output_type": "stream",
     "text": [
      "The Numerical features in the dataset are  ['lead_number', 'converted', 'total_visits', 'total_time_spent_on_website', 'page_views_per_visit', 'asymmetrique_activity_score', 'asymmetrique_profile_score']\n"
     ]
    }
   ],
   "source": [
    "print(\"The Numerical features in the dataset are \",Num)"
   ]
  },
  {
   "cell_type": "code",
   "execution_count": 10,
   "metadata": {
    "colab": {
     "base_uri": "https://localhost:8080/"
    },
    "executionInfo": {
     "elapsed": 1046,
     "status": "ok",
     "timestamp": 1605623657225,
     "user": {
      "displayName": "GL Capstone Group 8",
      "photoUrl": "",
      "userId": "02048998563036872362"
     },
     "user_tz": -330
    },
    "id": "cvvrs3ZIDiqj",
    "outputId": "8b4fcaec-b916-4420-fa19-6263f2ae9e65"
   },
   "outputs": [
    {
     "name": "stdout",
     "output_type": "stream",
     "text": [
      "The categorical features in the dataset are  ['prospect_id', 'lead_origin', 'lead_source', 'do_not_email', 'do_not_call', 'last_activity', 'country', 'specialization', 'how_did_you_hear_about_x_education', 'what_is_your_current_occupation', 'what_matters_most_to_you_in_choosing_a_course', 'search', 'magazine', 'newspaper_article', 'x_education_forums', 'newspaper', 'digital_advertisement', 'through_recommendations', 'receive_more_updates_about_our_courses', 'tags', 'lead_quality', 'update_me_on_supply_chain_content', 'get_updates_on_dm_content', 'lead_profile', 'city', 'asymmetrique_activity_index', 'asymmetrique_profile_index', 'i_agree_to_pay_the_amount_through_cheque', 'a_free_copy_of_mastering_the_interview', 'last_notable_activity']\n"
     ]
    }
   ],
   "source": [
    "print(\"The categorical features in the dataset are \",Cat)"
   ]
  },
  {
   "cell_type": "markdown",
   "metadata": {
    "id": "TKDLZqwHFeKy"
   },
   "source": [
    "# **describe() - Five point summary and inferences**"
   ]
  },
  {
   "cell_type": "markdown",
   "metadata": {
    "id": "p5AM28yBUMT5"
   },
   "source": [
    "Calculating Five-number summary for numerical columns:"
   ]
  },
  {
   "cell_type": "code",
   "execution_count": 11,
   "metadata": {
    "colab": {
     "base_uri": "https://localhost:8080/",
     "height": 287
    },
    "executionInfo": {
     "elapsed": 1461,
     "status": "ok",
     "timestamp": 1605623659934,
     "user": {
      "displayName": "GL Capstone Group 8",
      "photoUrl": "",
      "userId": "02048998563036872362"
     },
     "user_tz": -330
    },
    "id": "OP-exE-ZDiqt",
    "outputId": "930b6c6c-70fa-4e23-e205-c67c6d8368f8"
   },
   "outputs": [
    {
     "data": {
      "text/html": [
       "<div>\n",
       "<style scoped>\n",
       "    .dataframe tbody tr th:only-of-type {\n",
       "        vertical-align: middle;\n",
       "    }\n",
       "\n",
       "    .dataframe tbody tr th {\n",
       "        vertical-align: top;\n",
       "    }\n",
       "\n",
       "    .dataframe thead th {\n",
       "        text-align: right;\n",
       "    }\n",
       "</style>\n",
       "<table border=\"1\" class=\"dataframe\">\n",
       "  <thead>\n",
       "    <tr style=\"text-align: right;\">\n",
       "      <th></th>\n",
       "      <th>lead_number</th>\n",
       "      <th>converted</th>\n",
       "      <th>total_visits</th>\n",
       "      <th>total_time_spent_on_website</th>\n",
       "      <th>page_views_per_visit</th>\n",
       "      <th>asymmetrique_activity_score</th>\n",
       "      <th>asymmetrique_profile_score</th>\n",
       "    </tr>\n",
       "  </thead>\n",
       "  <tbody>\n",
       "    <tr>\n",
       "      <th>count</th>\n",
       "      <td>9240.000000</td>\n",
       "      <td>9240.000000</td>\n",
       "      <td>9103.000000</td>\n",
       "      <td>9240.000000</td>\n",
       "      <td>9103.000000</td>\n",
       "      <td>5022.000000</td>\n",
       "      <td>5022.000000</td>\n",
       "    </tr>\n",
       "    <tr>\n",
       "      <th>mean</th>\n",
       "      <td>617188.435606</td>\n",
       "      <td>0.385390</td>\n",
       "      <td>3.445238</td>\n",
       "      <td>487.698268</td>\n",
       "      <td>2.362820</td>\n",
       "      <td>14.306252</td>\n",
       "      <td>16.344883</td>\n",
       "    </tr>\n",
       "    <tr>\n",
       "      <th>std</th>\n",
       "      <td>23405.995698</td>\n",
       "      <td>0.486714</td>\n",
       "      <td>4.854853</td>\n",
       "      <td>548.021466</td>\n",
       "      <td>2.161418</td>\n",
       "      <td>1.386694</td>\n",
       "      <td>1.811395</td>\n",
       "    </tr>\n",
       "    <tr>\n",
       "      <th>min</th>\n",
       "      <td>579533.000000</td>\n",
       "      <td>0.000000</td>\n",
       "      <td>0.000000</td>\n",
       "      <td>0.000000</td>\n",
       "      <td>0.000000</td>\n",
       "      <td>7.000000</td>\n",
       "      <td>11.000000</td>\n",
       "    </tr>\n",
       "    <tr>\n",
       "      <th>25%</th>\n",
       "      <td>596484.500000</td>\n",
       "      <td>0.000000</td>\n",
       "      <td>1.000000</td>\n",
       "      <td>12.000000</td>\n",
       "      <td>1.000000</td>\n",
       "      <td>14.000000</td>\n",
       "      <td>15.000000</td>\n",
       "    </tr>\n",
       "    <tr>\n",
       "      <th>50%</th>\n",
       "      <td>615479.000000</td>\n",
       "      <td>0.000000</td>\n",
       "      <td>3.000000</td>\n",
       "      <td>248.000000</td>\n",
       "      <td>2.000000</td>\n",
       "      <td>14.000000</td>\n",
       "      <td>16.000000</td>\n",
       "    </tr>\n",
       "    <tr>\n",
       "      <th>75%</th>\n",
       "      <td>637387.250000</td>\n",
       "      <td>1.000000</td>\n",
       "      <td>5.000000</td>\n",
       "      <td>936.000000</td>\n",
       "      <td>3.000000</td>\n",
       "      <td>15.000000</td>\n",
       "      <td>18.000000</td>\n",
       "    </tr>\n",
       "    <tr>\n",
       "      <th>max</th>\n",
       "      <td>660737.000000</td>\n",
       "      <td>1.000000</td>\n",
       "      <td>251.000000</td>\n",
       "      <td>2272.000000</td>\n",
       "      <td>55.000000</td>\n",
       "      <td>18.000000</td>\n",
       "      <td>20.000000</td>\n",
       "    </tr>\n",
       "  </tbody>\n",
       "</table>\n",
       "</div>"
      ],
      "text/plain": [
       "         lead_number    converted  total_visits  total_time_spent_on_website  \\\n",
       "count    9240.000000  9240.000000   9103.000000                  9240.000000   \n",
       "mean   617188.435606     0.385390      3.445238                   487.698268   \n",
       "std     23405.995698     0.486714      4.854853                   548.021466   \n",
       "min    579533.000000     0.000000      0.000000                     0.000000   \n",
       "25%    596484.500000     0.000000      1.000000                    12.000000   \n",
       "50%    615479.000000     0.000000      3.000000                   248.000000   \n",
       "75%    637387.250000     1.000000      5.000000                   936.000000   \n",
       "max    660737.000000     1.000000    251.000000                  2272.000000   \n",
       "\n",
       "       page_views_per_visit  asymmetrique_activity_score  \\\n",
       "count           9103.000000                  5022.000000   \n",
       "mean               2.362820                    14.306252   \n",
       "std                2.161418                     1.386694   \n",
       "min                0.000000                     7.000000   \n",
       "25%                1.000000                    14.000000   \n",
       "50%                2.000000                    14.000000   \n",
       "75%                3.000000                    15.000000   \n",
       "max               55.000000                    18.000000   \n",
       "\n",
       "       asymmetrique_profile_score  \n",
       "count                 5022.000000  \n",
       "mean                    16.344883  \n",
       "std                      1.811395  \n",
       "min                     11.000000  \n",
       "25%                     15.000000  \n",
       "50%                     16.000000  \n",
       "75%                     18.000000  \n",
       "max                     20.000000  "
      ]
     },
     "execution_count": 11,
     "metadata": {},
     "output_type": "execute_result"
    }
   ],
   "source": [
    "LS.describe()"
   ]
  },
  {
   "cell_type": "markdown",
   "metadata": {
    "id": "diq5qzSBjxFX"
   },
   "source": [
    "The Inferences from the 5 point summary are-\n",
    "\n",
    "1. **Lead Number** is a  unique Id generated for each customer. It will not add any value to the model as the statistical summary will not add  any insight or pattern .\n",
    "\n",
    "2. **Converted**- This is our target variable with only 0 and 1 as values.\n",
    "\n",
    "3. **Total Visits**- The distribution is right skewed because interested    individuals tend to visit the website more number of times.\n",
    "As per the values, 1st quartile(1 visit per person) of the visits come from people  who tend to visit the site once and never come back. The second and third quartiles(1-5 visit per person) of the visits come from customers who want to gain an idea about Z education.Lastly, the people whose number of  total visits lie in the last quartile are the most engaged customers, with upto a max of 251 visits to the website.\n",
    "Here the highest visits are outliers for the feature.\n",
    "\n",
    "4. **Total Time Spent on Website**- The distribution is right skewed because interested individuals tend to visit the website for longer duration of time.\n",
    "As per the values, the low 25 percentile engagement of the website comes from people  who tend to spend less time on the website. The second and third quartiles define an average of the engagement, 487 minutes. This comes from customers who want to gain an idea about X education. Lastly, the people whose time spent on the website lies in the last quartile are the most engaged customers.\n",
    "Here there are no outliers above IQR region.\n",
    "\n",
    "5. **Page Views Per Visit**-The distribution is right skewed because interested individuals tend to the visit more number of  pages on  the website.\n",
    "As per the values,25%(1 visit) of the page visits come  from people  who tend to visit only the landing page. 50-75 %(2-3 visit) of the page  visits come from customers who search for few courses but do not engage with X education. Lastly, the people whose number of page visits lie in the last quartile are the most engaged customers.\n",
    "Here the highest page visits are outliers for the feature.\n",
    "\n",
    "\n",
    "\n",
    "6. **Asymmetrique Activity Score** and \t**Asymmetrique Profile Score** are discrete values.Hence statistical summary will not add any insight. However, we will perform Univariate /Bivariate Analysis with other 'asymmetrique' features.\n"
   ]
  },
  {
   "cell_type": "markdown",
   "metadata": {
    "id": "dyKB8D7cCw8G"
   },
   "source": [
    "# **Lead Number and Prospect ID to be dropped.**\n",
    "It will not be of use for any insight, hence we will drop them"
   ]
  },
  {
   "cell_type": "code",
   "execution_count": 12,
   "metadata": {
    "colab": {
     "base_uri": "https://localhost:8080/"
    },
    "executionInfo": {
     "elapsed": 996,
     "status": "ok",
     "timestamp": 1605623661281,
     "user": {
      "displayName": "GL Capstone Group 8",
      "photoUrl": "",
      "userId": "02048998563036872362"
     },
     "user_tz": -330
    },
    "id": "sAY-8IpDrrRI",
    "outputId": "09780193-ebbe-4807-95fa-b56a57079cfe"
   },
   "outputs": [
    {
     "name": "stdout",
     "output_type": "stream",
     "text": [
      "9240\n",
      "9240\n"
     ]
    }
   ],
   "source": [
    "\n",
    "print(LS['lead_number'].nunique())\n",
    "print(LS['prospect_id'].nunique())\n",
    "\n",
    "LS=LS.drop(['lead_number'],axis=1)\n",
    "LS=LS.drop(['prospect_id'],axis=1)"
   ]
  },
  {
   "cell_type": "markdown",
   "metadata": {
    "id": "mMScPWPCjw4Z"
   },
   "source": [
    "# Grouping for categorical features:"
   ]
  },
  {
   "cell_type": "code",
   "execution_count": 13,
   "metadata": {
    "executionInfo": {
     "elapsed": 1098,
     "status": "ok",
     "timestamp": 1605623662748,
     "user": {
      "displayName": "GL Capstone Group 8",
      "photoUrl": "",
      "userId": "02048998563036872362"
     },
     "user_tz": -330
    },
    "id": "84szOtuejv1u"
   },
   "outputs": [],
   "source": [
    "LS['lead_origin']=LS['lead_origin'].replace(['Lead Import','Quick Add Form'],'others')\n",
    "LS['lead_source']=LS['lead_source'].replace(['NC_EDM','Pay per Click Ads','testone','youtubechannel','youtubechannel','welearnblog_Home','blog','WeLearn','Welingak Website','WeLearn','Live Chat','Referral Sites','Facebook','bing','Click2call','Social Media','Press_Release'],'others')\n",
    "LS['last_activity']=LS['last_activity'].replace(['Resubscribed to emails','Visited Booth in Tradeshow','Email Received','Email Marked Spam','View in browser link Clicked','Approached upfront','Had a Phone Conversation','Email Bounced','Email Link Clicked','Form Submitted on Website','Unreachable','Unsubscribed'],'others')\n",
    "\n",
    "LS['country']=LS['country'].replace(['Vietnam','Indonesia','Sri Lanka','Switzerland','Russia','Malaysia','Denmark','Tanzania','Liberia','Kenya','Italy','China','Bangladesh','Asia/Pacific Region','Belgium','Netherlands','Uganda','Philippines','Ghana','Sweden','Canada','South Africa','Germany','Nigeria','Kuwait','unknown','Oman','France','Bahrain','Hong Kong','Qatar','Australia','United Kingdom','Saudi Arabia','United States','United Arab Emirates','Singapore'],'Non Indian')\n",
    "\n",
    "LS['specialization']=LS['specialization'].replace(['Services Excellence','E-Business ','Rural and Agribusiness','Retail Management','E-COMMERCE','Hospitality Management','Travel and Tourism','Media and Advertising','International Business','Healthcare Management'],'others')\n",
    "\n",
    "\n",
    "LS['how_did_you_hear_about_x_education']=LS['how_did_you_hear_about_x_education'].replace(['Email','SMS','Other','Multiple Sources' ,'Advertisements','Social Media' ],'others')\n",
    "\n",
    "LS['what_is_your_current_occupation']=LS['what_is_your_current_occupation'].replace(['Other','Businessman','Housewife'],'others')\n",
    "\n",
    "LS['what_matters_most_to_you_in_choosing_a_course']=LS['what_matters_most_to_you_in_choosing_a_course'].replace(['Flexibility & Convenience','Other'],'Flexibility & Convenience')\n",
    "\n",
    "LS['tags']=LS['tags'].replace(['Recognition issue (DEC approval)','Shall take in the next coming month','University not recognized','Lateral student','Interested in Next batch','In confusion whether part time or DLP','Want to take admission but has financial problems','Still Thinking','Lost to Others','in touch with EINS','number not provided','opp hangup','wrong number given','invalid number','Diploma holder (Not Eligible)','Graduation in progress','Interested  in full time MBA','Not doing further education','Closed by Horizzon','switched off','Busy','Lost to EINS'],'others')\n",
    "\n",
    "LS['lead_quality'] = LS['lead_quality'].replace(np.nan, 'Not Sure')\n",
    "\n",
    "LS['lead_profile']=LS['lead_profile'].replace(['Student of SomeSchool','Lateral Student','Dual Specialization Student'],'others')\n",
    "LS['last_notable_activity']=LS['last_notable_activity'].replace(['Email Marked Spam','Email Received','Approached upfront' ,'Form Submitted on Website' ,'Resubscribed to emails',   'View in browser link Clicked'],'others')\n"
   ]
  },
  {
   "cell_type": "code",
   "execution_count": 14,
   "metadata": {
    "colab": {
     "base_uri": "https://localhost:8080/"
    },
    "executionInfo": {
     "elapsed": 1084,
     "status": "ok",
     "timestamp": 1605623663259,
     "user": {
      "displayName": "GL Capstone Group 8",
      "photoUrl": "",
      "userId": "02048998563036872362"
     },
     "user_tz": -330
    },
    "id": "x7h1ErtWohIt",
    "outputId": "ad17bea3-56f9-4c3f-f47e-545e3aa8e984"
   },
   "outputs": [
    {
     "data": {
      "text/plain": [
       "Landing Page Submission    4886\n",
       "API                        3580\n",
       "Lead Add Form               718\n",
       "others                       56\n",
       "Name: lead_origin, dtype: int64"
      ]
     },
     "execution_count": 14,
     "metadata": {},
     "output_type": "execute_result"
    }
   ],
   "source": [
    "LS['lead_origin'].value_counts()"
   ]
  },
  {
   "cell_type": "markdown",
   "metadata": {
    "id": "AYIMYBMyVTbi"
   },
   "source": [
    "# **Null Value Treatment**\n",
    "\n"
   ]
  },
  {
   "cell_type": "code",
   "execution_count": 15,
   "metadata": {
    "executionInfo": {
     "elapsed": 892,
     "status": "ok",
     "timestamp": 1605623664294,
     "user": {
      "displayName": "GL Capstone Group 8",
      "photoUrl": "",
      "userId": "02048998563036872362"
     },
     "user_tz": -330
    },
    "id": "PE3NhBKXsOC_"
   },
   "outputs": [],
   "source": [
    "LS['lead_source'].replace({'google':'Google'},inplace=True)\n",
    "LS = LS.replace('Select', np.nan)"
   ]
  },
  {
   "cell_type": "markdown",
   "metadata": {
    "id": "K8AF-UL99PRl"
   },
   "source": [
    "## **Replacing Null Values**"
   ]
  },
  {
   "cell_type": "markdown",
   "metadata": {
    "id": "h8KvA4iju9bc"
   },
   "source": [
    " **Lead source:**\n",
    "1.\tWhere lead_origin = lead add form update lead_source as ‘reference’ for null values (33 rows). Mode value with 534 value counts of referencs labels\n",
    "2.\tWhere lead_origin = others we are going to update it with ‘others’ (modal value) (2 rows)\n",
    "3.\tWhere lead_origin = Landing page submission lead_source will be imputed with because with lead_origin as LPS of the 4886 rows ‘Direct Traffic’ has value counts of 2433 "
   ]
  },
  {
   "cell_type": "code",
   "execution_count": 16,
   "metadata": {
    "executionInfo": {
     "elapsed": 1032,
     "status": "ok",
     "timestamp": 1605623666893,
     "user": {
      "displayName": "GL Capstone Group 8",
      "photoUrl": "",
      "userId": "02048998563036872362"
     },
     "user_tz": -330
    },
    "id": "76jdBsKEx9Js"
   },
   "outputs": [],
   "source": [
    "for value in list(LS['lead_origin'].unique()):\n",
    "    if value == 'Lead Add Form':\n",
    "        LS.loc[(LS.lead_origin == value), 'lead_source'] = 'Reference'\n",
    "    if value == 'others':\n",
    "        LS.loc[(LS.lead_origin == value), 'lead_source'] = 'others'\n",
    "    if value == 'Landing Page Submission':\n",
    "        LS.loc[(LS.lead_origin == value), 'lead_source'] = 'Direct Traffic'\n",
    "\n"
   ]
  },
  {
   "cell_type": "markdown",
   "metadata": {
    "id": "5onBtsA8_LHE"
   },
   "source": [
    " **Last Activity**\n",
    "1.\tWhen lead_origin = Lead Add Form, lead_source = Reference and last_notable activity = Modified we are replacing it with ‘SMS Sent’(modal value)\n",
    "\n",
    "2.\tWhen lead_origin = others, lead_source = others and last_notable activity = Modified we are replacing it with ‘Email Opened’(modal value)\n",
    "\n",
    "3.\tWhen lead_origin = others, lead_source = others and last_notable activity = Email Opened we are replacing it with ‘Email Opened’(modal value)"
   ]
  },
  {
   "cell_type": "code",
   "execution_count": 17,
   "metadata": {
    "executionInfo": {
     "elapsed": 1335,
     "status": "ok",
     "timestamp": 1605623670216,
     "user": {
      "displayName": "GL Capstone Group 8",
      "photoUrl": "",
      "userId": "02048998563036872362"
     },
     "user_tz": -330
    },
    "id": "X65CPYvI_JFd"
   },
   "outputs": [],
   "source": [
    "for value in list(LS['lead_origin'].unique()):\n",
    "    if value == 'Lead Add Form':\n",
    "        LS.loc[(LS.lead_origin == value) & (LS.lead_source=='Reference') & (LS.last_notable_activity=='Modified') , 'last_activity'] = 'SMS Sent'\n",
    "    if value == 'others':\n",
    "        LS.loc[(LS.lead_origin == value) & (LS.lead_source=='others') & (LS.last_notable_activity=='Modified'), 'last_activity'] = 'Email Opened'\n",
    "    if value == 'others':\n",
    "        LS.loc[(LS.lead_origin == value) & (LS.lead_source=='others') & (LS.last_notable_activity=='Email Opened'), 'last_activity'] = 'Email Opened'"
   ]
  },
  {
   "cell_type": "markdown",
   "metadata": {
    "id": "FNxFtykPF-2k"
   },
   "source": [
    "# Specialization"
   ]
  },
  {
   "cell_type": "code",
   "execution_count": 18,
   "metadata": {
    "executionInfo": {
     "elapsed": 888,
     "status": "ok",
     "timestamp": 1605623671290,
     "user": {
      "displayName": "GL Capstone Group 8",
      "photoUrl": "",
      "userId": "02048998563036872362"
     },
     "user_tz": -330
    },
    "id": "kCGchrtHF9Im"
   },
   "outputs": [],
   "source": [
    "LS['specialization']=LS['specialization'].fillna(method='bfill')"
   ]
  },
  {
   "cell_type": "code",
   "execution_count": 19,
   "metadata": {
    "executionInfo": {
     "elapsed": 1740,
     "status": "ok",
     "timestamp": 1605623672704,
     "user": {
      "displayName": "GL Capstone Group 8",
      "photoUrl": "",
      "userId": "02048998563036872362"
     },
     "user_tz": -330
    },
    "id": "zLaGMhStrrNP"
   },
   "outputs": [],
   "source": [
    "LS['total_visits']=LS['total_visits'].fillna(LS['total_visits'].median())\n",
    "LS['page_views_per_visit']=LS['page_views_per_visit'].fillna(LS['page_views_per_visit'].median())\n",
    "\n",
    "LS['country']=LS['country'].fillna(method='bfill')\n",
    "LS['specialization']=LS['specialization'].fillna(method='bfill')\n",
    "LS['how_did_you_hear_about_x_education']=LS['how_did_you_hear_about_x_education'].fillna(LS['how_did_you_hear_about_x_education'].mode()[0])\n",
    "LS['what_is_your_current_occupation']=LS['what_is_your_current_occupation'].fillna(method='bfill')\n",
    "LS['what_matters_most_to_you_in_choosing_a_course']=LS['what_matters_most_to_you_in_choosing_a_course'].fillna(method='bfill')\n",
    "LS['tags']=LS['tags'].fillna(method='bfill')\n",
    "LS['lead_quality'] = LS['lead_quality'].replace(np.nan, 'not sure')\n",
    "# We drop this column later \n",
    "LS['lead_profile']=LS['lead_profile'].fillna(method='bfill')\n",
    "LS['city']=LS['city'].fillna(method='bfill')\n",
    "\n"
   ]
  },
  {
   "cell_type": "code",
   "execution_count": null,
   "metadata": {},
   "outputs": [],
   "source": []
  },
  {
   "cell_type": "markdown",
   "metadata": {
    "id": "dx3yYSWx9yqM"
   },
   "source": [
    "# **Separating Numerical and categorical columns:**"
   ]
  },
  {
   "cell_type": "code",
   "execution_count": 20,
   "metadata": {
    "colab": {
     "base_uri": "https://localhost:8080/",
     "height": 197
    },
    "executionInfo": {
     "elapsed": 786,
     "status": "ok",
     "timestamp": 1605623673103,
     "user": {
      "displayName": "GL Capstone Group 8",
      "photoUrl": "",
      "userId": "02048998563036872362"
     },
     "user_tz": -330
    },
    "id": "atUAbSKGrrK9",
    "outputId": "f1da9f7b-c4db-402d-eec7-03d72f7ac3ec"
   },
   "outputs": [
    {
     "data": {
      "text/html": [
       "<div>\n",
       "<style scoped>\n",
       "    .dataframe tbody tr th:only-of-type {\n",
       "        vertical-align: middle;\n",
       "    }\n",
       "\n",
       "    .dataframe tbody tr th {\n",
       "        vertical-align: top;\n",
       "    }\n",
       "\n",
       "    .dataframe thead th {\n",
       "        text-align: right;\n",
       "    }\n",
       "</style>\n",
       "<table border=\"1\" class=\"dataframe\">\n",
       "  <thead>\n",
       "    <tr style=\"text-align: right;\">\n",
       "      <th></th>\n",
       "      <th>total_visits</th>\n",
       "      <th>total_time_spent_on_website</th>\n",
       "      <th>page_views_per_visit</th>\n",
       "    </tr>\n",
       "  </thead>\n",
       "  <tbody>\n",
       "    <tr>\n",
       "      <th>0</th>\n",
       "      <td>0.0</td>\n",
       "      <td>0</td>\n",
       "      <td>0.0</td>\n",
       "    </tr>\n",
       "    <tr>\n",
       "      <th>1</th>\n",
       "      <td>5.0</td>\n",
       "      <td>674</td>\n",
       "      <td>2.5</td>\n",
       "    </tr>\n",
       "    <tr>\n",
       "      <th>2</th>\n",
       "      <td>2.0</td>\n",
       "      <td>1532</td>\n",
       "      <td>2.0</td>\n",
       "    </tr>\n",
       "    <tr>\n",
       "      <th>3</th>\n",
       "      <td>1.0</td>\n",
       "      <td>305</td>\n",
       "      <td>1.0</td>\n",
       "    </tr>\n",
       "    <tr>\n",
       "      <th>4</th>\n",
       "      <td>2.0</td>\n",
       "      <td>1428</td>\n",
       "      <td>1.0</td>\n",
       "    </tr>\n",
       "  </tbody>\n",
       "</table>\n",
       "</div>"
      ],
      "text/plain": [
       "   total_visits  total_time_spent_on_website  page_views_per_visit\n",
       "0           0.0                            0                   0.0\n",
       "1           5.0                          674                   2.5\n",
       "2           2.0                         1532                   2.0\n",
       "3           1.0                          305                   1.0\n",
       "4           2.0                         1428                   1.0"
      ]
     },
     "execution_count": 20,
     "metadata": {},
     "output_type": "execute_result"
    }
   ],
   "source": [
    "LS_num=LS.select_dtypes(include=np.number)\n",
    "LS_num=LS_num.iloc[:, 1:-2] \n",
    "LS_num.head()"
   ]
  },
  {
   "cell_type": "code",
   "execution_count": 21,
   "metadata": {
    "colab": {
     "base_uri": "https://localhost:8080/",
     "height": 401
    },
    "executionInfo": {
     "elapsed": 1038,
     "status": "ok",
     "timestamp": 1605623674388,
     "user": {
      "displayName": "GL Capstone Group 8",
      "photoUrl": "",
      "userId": "02048998563036872362"
     },
     "user_tz": -330
    },
    "id": "qHeGiclQ-Ycc",
    "outputId": "a3717376-a626-47e2-f455-96595b0aa41a"
   },
   "outputs": [
    {
     "data": {
      "text/html": [
       "<div>\n",
       "<style scoped>\n",
       "    .dataframe tbody tr th:only-of-type {\n",
       "        vertical-align: middle;\n",
       "    }\n",
       "\n",
       "    .dataframe tbody tr th {\n",
       "        vertical-align: top;\n",
       "    }\n",
       "\n",
       "    .dataframe thead th {\n",
       "        text-align: right;\n",
       "    }\n",
       "</style>\n",
       "<table border=\"1\" class=\"dataframe\">\n",
       "  <thead>\n",
       "    <tr style=\"text-align: right;\">\n",
       "      <th></th>\n",
       "      <th>lead_origin</th>\n",
       "      <th>lead_source</th>\n",
       "      <th>do_not_email</th>\n",
       "      <th>do_not_call</th>\n",
       "      <th>last_activity</th>\n",
       "      <th>country</th>\n",
       "      <th>specialization</th>\n",
       "      <th>how_did_you_hear_about_x_education</th>\n",
       "      <th>what_is_your_current_occupation</th>\n",
       "      <th>what_matters_most_to_you_in_choosing_a_course</th>\n",
       "      <th>...</th>\n",
       "      <th>lead_quality</th>\n",
       "      <th>update_me_on_supply_chain_content</th>\n",
       "      <th>get_updates_on_dm_content</th>\n",
       "      <th>lead_profile</th>\n",
       "      <th>city</th>\n",
       "      <th>asymmetrique_activity_index</th>\n",
       "      <th>asymmetrique_profile_index</th>\n",
       "      <th>i_agree_to_pay_the_amount_through_cheque</th>\n",
       "      <th>a_free_copy_of_mastering_the_interview</th>\n",
       "      <th>last_notable_activity</th>\n",
       "    </tr>\n",
       "  </thead>\n",
       "  <tbody>\n",
       "    <tr>\n",
       "      <th>0</th>\n",
       "      <td>API</td>\n",
       "      <td>Olark Chat</td>\n",
       "      <td>No</td>\n",
       "      <td>No</td>\n",
       "      <td>Page Visited on Website</td>\n",
       "      <td>India</td>\n",
       "      <td>Business Administration</td>\n",
       "      <td>Online Search</td>\n",
       "      <td>Unemployed</td>\n",
       "      <td>Better Career Prospects</td>\n",
       "      <td>...</td>\n",
       "      <td>Low in Relevance</td>\n",
       "      <td>No</td>\n",
       "      <td>No</td>\n",
       "      <td>Potential Lead</td>\n",
       "      <td>Mumbai</td>\n",
       "      <td>02.Medium</td>\n",
       "      <td>02.Medium</td>\n",
       "      <td>No</td>\n",
       "      <td>No</td>\n",
       "      <td>Modified</td>\n",
       "    </tr>\n",
       "    <tr>\n",
       "      <th>1</th>\n",
       "      <td>API</td>\n",
       "      <td>Organic Search</td>\n",
       "      <td>No</td>\n",
       "      <td>No</td>\n",
       "      <td>Email Opened</td>\n",
       "      <td>India</td>\n",
       "      <td>Business Administration</td>\n",
       "      <td>Online Search</td>\n",
       "      <td>Unemployed</td>\n",
       "      <td>Better Career Prospects</td>\n",
       "      <td>...</td>\n",
       "      <td>Not Sure</td>\n",
       "      <td>No</td>\n",
       "      <td>No</td>\n",
       "      <td>Potential Lead</td>\n",
       "      <td>Mumbai</td>\n",
       "      <td>02.Medium</td>\n",
       "      <td>02.Medium</td>\n",
       "      <td>No</td>\n",
       "      <td>No</td>\n",
       "      <td>Email Opened</td>\n",
       "    </tr>\n",
       "    <tr>\n",
       "      <th>2</th>\n",
       "      <td>Landing Page Submission</td>\n",
       "      <td>Direct Traffic</td>\n",
       "      <td>No</td>\n",
       "      <td>No</td>\n",
       "      <td>Email Opened</td>\n",
       "      <td>India</td>\n",
       "      <td>Business Administration</td>\n",
       "      <td>Online Search</td>\n",
       "      <td>Student</td>\n",
       "      <td>Better Career Prospects</td>\n",
       "      <td>...</td>\n",
       "      <td>Might be</td>\n",
       "      <td>No</td>\n",
       "      <td>No</td>\n",
       "      <td>Potential Lead</td>\n",
       "      <td>Mumbai</td>\n",
       "      <td>02.Medium</td>\n",
       "      <td>01.High</td>\n",
       "      <td>No</td>\n",
       "      <td>Yes</td>\n",
       "      <td>Email Opened</td>\n",
       "    </tr>\n",
       "    <tr>\n",
       "      <th>3</th>\n",
       "      <td>Landing Page Submission</td>\n",
       "      <td>Direct Traffic</td>\n",
       "      <td>No</td>\n",
       "      <td>No</td>\n",
       "      <td>others</td>\n",
       "      <td>India</td>\n",
       "      <td>others</td>\n",
       "      <td>Word Of Mouth</td>\n",
       "      <td>Unemployed</td>\n",
       "      <td>Better Career Prospects</td>\n",
       "      <td>...</td>\n",
       "      <td>Not Sure</td>\n",
       "      <td>No</td>\n",
       "      <td>No</td>\n",
       "      <td>Potential Lead</td>\n",
       "      <td>Mumbai</td>\n",
       "      <td>02.Medium</td>\n",
       "      <td>01.High</td>\n",
       "      <td>No</td>\n",
       "      <td>No</td>\n",
       "      <td>Modified</td>\n",
       "    </tr>\n",
       "    <tr>\n",
       "      <th>4</th>\n",
       "      <td>Landing Page Submission</td>\n",
       "      <td>Direct Traffic</td>\n",
       "      <td>No</td>\n",
       "      <td>No</td>\n",
       "      <td>Converted to Lead</td>\n",
       "      <td>India</td>\n",
       "      <td>Supply Chain Management</td>\n",
       "      <td>others</td>\n",
       "      <td>Unemployed</td>\n",
       "      <td>Better Career Prospects</td>\n",
       "      <td>...</td>\n",
       "      <td>Might be</td>\n",
       "      <td>No</td>\n",
       "      <td>No</td>\n",
       "      <td>Potential Lead</td>\n",
       "      <td>Mumbai</td>\n",
       "      <td>02.Medium</td>\n",
       "      <td>01.High</td>\n",
       "      <td>No</td>\n",
       "      <td>No</td>\n",
       "      <td>Modified</td>\n",
       "    </tr>\n",
       "  </tbody>\n",
       "</table>\n",
       "<p>5 rows × 29 columns</p>\n",
       "</div>"
      ],
      "text/plain": [
       "               lead_origin     lead_source do_not_email do_not_call  \\\n",
       "0                      API      Olark Chat           No          No   \n",
       "1                      API  Organic Search           No          No   \n",
       "2  Landing Page Submission  Direct Traffic           No          No   \n",
       "3  Landing Page Submission  Direct Traffic           No          No   \n",
       "4  Landing Page Submission  Direct Traffic           No          No   \n",
       "\n",
       "             last_activity country           specialization  \\\n",
       "0  Page Visited on Website   India  Business Administration   \n",
       "1             Email Opened   India  Business Administration   \n",
       "2             Email Opened   India  Business Administration   \n",
       "3                   others   India                   others   \n",
       "4        Converted to Lead   India  Supply Chain Management   \n",
       "\n",
       "  how_did_you_hear_about_x_education what_is_your_current_occupation  \\\n",
       "0                      Online Search                      Unemployed   \n",
       "1                      Online Search                      Unemployed   \n",
       "2                      Online Search                         Student   \n",
       "3                      Word Of Mouth                      Unemployed   \n",
       "4                             others                      Unemployed   \n",
       "\n",
       "  what_matters_most_to_you_in_choosing_a_course  ...      lead_quality  \\\n",
       "0                       Better Career Prospects  ...  Low in Relevance   \n",
       "1                       Better Career Prospects  ...          Not Sure   \n",
       "2                       Better Career Prospects  ...          Might be   \n",
       "3                       Better Career Prospects  ...          Not Sure   \n",
       "4                       Better Career Prospects  ...          Might be   \n",
       "\n",
       "  update_me_on_supply_chain_content get_updates_on_dm_content    lead_profile  \\\n",
       "0                                No                        No  Potential Lead   \n",
       "1                                No                        No  Potential Lead   \n",
       "2                                No                        No  Potential Lead   \n",
       "3                                No                        No  Potential Lead   \n",
       "4                                No                        No  Potential Lead   \n",
       "\n",
       "     city asymmetrique_activity_index asymmetrique_profile_index  \\\n",
       "0  Mumbai                   02.Medium                  02.Medium   \n",
       "1  Mumbai                   02.Medium                  02.Medium   \n",
       "2  Mumbai                   02.Medium                    01.High   \n",
       "3  Mumbai                   02.Medium                    01.High   \n",
       "4  Mumbai                   02.Medium                    01.High   \n",
       "\n",
       "  i_agree_to_pay_the_amount_through_cheque  \\\n",
       "0                                       No   \n",
       "1                                       No   \n",
       "2                                       No   \n",
       "3                                       No   \n",
       "4                                       No   \n",
       "\n",
       "  a_free_copy_of_mastering_the_interview last_notable_activity  \n",
       "0                                     No              Modified  \n",
       "1                                     No          Email Opened  \n",
       "2                                    Yes          Email Opened  \n",
       "3                                     No              Modified  \n",
       "4                                     No              Modified  \n",
       "\n",
       "[5 rows x 29 columns]"
      ]
     },
     "execution_count": 21,
     "metadata": {},
     "output_type": "execute_result"
    }
   ],
   "source": [
    "LS_cat=LS.select_dtypes(include=object)\n",
    "LS_cat.head()\n"
   ]
  },
  {
   "cell_type": "markdown",
   "metadata": {
    "id": "Lac5SanF-l1Y"
   },
   "source": [
    "# ** Outlier treatment (for numerical columns)**"
   ]
  },
  {
   "cell_type": "code",
   "execution_count": 22,
   "metadata": {
    "executionInfo": {
     "elapsed": 1046,
     "status": "ok",
     "timestamp": 1605623676632,
     "user": {
      "displayName": "GL Capstone Group 8",
      "photoUrl": "",
      "userId": "02048998563036872362"
     },
     "user_tz": -330
    },
    "id": "4kusYg2LDhXv"
   },
   "outputs": [],
   "source": [
    "for col in LS_num:\n",
    "    q1=LS_num[col].quantile(0.25)\n",
    "    q3=LS_num[col].quantile(0.75)\n",
    "    IQR=q3-q1\n",
    "    UB=q3+IQR*1.5\n",
    "    LB=q1-IQR*1.5\n",
    "    #list1= LS[LS['total_visits'].isnull()]['lead_origin'].unique()\n",
    "    #label=[]\n",
    "    for i in  LS['lead_source'].unique():\n",
    "        LS_num.loc[(LS_num[col] > UB ) , col] = LS[LS['lead_source']==i][col].quantile(0.99)\n",
    "        LS_num.loc[(LS_num[col] < LB ) , col] = LS[LS['lead_source']==i][col].quantile(0.01)"
   ]
  },
  {
   "cell_type": "code",
   "execution_count": 23,
   "metadata": {
    "executionInfo": {
     "elapsed": 955,
     "status": "ok",
     "timestamp": 1605623678126,
     "user": {
      "displayName": "GL Capstone Group 8",
      "photoUrl": "",
      "userId": "02048998563036872362"
     },
     "user_tz": -330
    },
    "id": "97kYHuyFEEIt"
   },
   "outputs": [],
   "source": [
    "LS1=pd.concat([LS_num,LS_cat],axis=1)"
   ]
  },
  {
   "cell_type": "code",
   "execution_count": 24,
   "metadata": {
    "colab": {
     "base_uri": "https://localhost:8080/"
    },
    "executionInfo": {
     "elapsed": 645,
     "status": "ok",
     "timestamp": 1605623678653,
     "user": {
      "displayName": "GL Capstone Group 8",
      "photoUrl": "",
      "userId": "02048998563036872362"
     },
     "user_tz": -330
    },
    "id": "_kbbH8skESXc",
    "outputId": "093a2523-12b8-4e05-a0fc-982f9fd12676"
   },
   "outputs": [
    {
     "data": {
      "text/plain": [
       "Index(['total_visits', 'total_time_spent_on_website', 'page_views_per_visit',\n",
       "       'lead_origin', 'lead_source', 'do_not_email', 'do_not_call',\n",
       "       'last_activity', 'country', 'specialization',\n",
       "       'how_did_you_hear_about_x_education', 'what_is_your_current_occupation',\n",
       "       'what_matters_most_to_you_in_choosing_a_course', 'search', 'magazine',\n",
       "       'newspaper_article', 'x_education_forums', 'newspaper',\n",
       "       'digital_advertisement', 'through_recommendations',\n",
       "       'receive_more_updates_about_our_courses', 'tags', 'lead_quality',\n",
       "       'update_me_on_supply_chain_content', 'get_updates_on_dm_content',\n",
       "       'lead_profile', 'city', 'asymmetrique_activity_index',\n",
       "       'asymmetrique_profile_index',\n",
       "       'i_agree_to_pay_the_amount_through_cheque',\n",
       "       'a_free_copy_of_mastering_the_interview', 'last_notable_activity'],\n",
       "      dtype='object')"
      ]
     },
     "execution_count": 24,
     "metadata": {},
     "output_type": "execute_result"
    }
   ],
   "source": [
    "LS1.columns"
   ]
  },
  {
   "cell_type": "code",
   "execution_count": 25,
   "metadata": {
    "colab": {
     "base_uri": "https://localhost:8080/",
     "height": 177
    },
    "executionInfo": {
     "elapsed": 1566,
     "status": "ok",
     "timestamp": 1605623680577,
     "user": {
      "displayName": "GL Capstone Group 8",
      "photoUrl": "",
      "userId": "02048998563036872362"
     },
     "user_tz": -330
    },
    "id": "xYZ9OrlWET9S",
    "outputId": "80004693-585c-45af-df74-f18843a64091"
   },
   "outputs": [
    {
     "data": {
      "text/html": [
       "<div>\n",
       "<style scoped>\n",
       "    .dataframe tbody tr th:only-of-type {\n",
       "        vertical-align: middle;\n",
       "    }\n",
       "\n",
       "    .dataframe tbody tr th {\n",
       "        vertical-align: top;\n",
       "    }\n",
       "\n",
       "    .dataframe thead th {\n",
       "        text-align: right;\n",
       "    }\n",
       "</style>\n",
       "<table border=\"1\" class=\"dataframe\">\n",
       "  <thead>\n",
       "    <tr style=\"text-align: right;\">\n",
       "      <th></th>\n",
       "      <th>total_visits</th>\n",
       "      <th>total_time_spent_on_website</th>\n",
       "      <th>page_views_per_visit</th>\n",
       "      <th>lead_origin</th>\n",
       "      <th>lead_source</th>\n",
       "      <th>do_not_email</th>\n",
       "      <th>do_not_call</th>\n",
       "      <th>last_activity</th>\n",
       "      <th>country</th>\n",
       "      <th>specialization</th>\n",
       "      <th>...</th>\n",
       "      <th>lead_quality</th>\n",
       "      <th>update_me_on_supply_chain_content</th>\n",
       "      <th>get_updates_on_dm_content</th>\n",
       "      <th>lead_profile</th>\n",
       "      <th>city</th>\n",
       "      <th>asymmetrique_activity_index</th>\n",
       "      <th>asymmetrique_profile_index</th>\n",
       "      <th>i_agree_to_pay_the_amount_through_cheque</th>\n",
       "      <th>a_free_copy_of_mastering_the_interview</th>\n",
       "      <th>last_notable_activity</th>\n",
       "    </tr>\n",
       "  </thead>\n",
       "  <tbody>\n",
       "    <tr>\n",
       "      <th>0</th>\n",
       "      <td>0.0</td>\n",
       "      <td>0.0</td>\n",
       "      <td>0.0</td>\n",
       "      <td>API</td>\n",
       "      <td>Olark Chat</td>\n",
       "      <td>No</td>\n",
       "      <td>No</td>\n",
       "      <td>Page Visited on Website</td>\n",
       "      <td>India</td>\n",
       "      <td>Business Administration</td>\n",
       "      <td>...</td>\n",
       "      <td>Low in Relevance</td>\n",
       "      <td>No</td>\n",
       "      <td>No</td>\n",
       "      <td>Potential Lead</td>\n",
       "      <td>Mumbai</td>\n",
       "      <td>02.Medium</td>\n",
       "      <td>02.Medium</td>\n",
       "      <td>No</td>\n",
       "      <td>No</td>\n",
       "      <td>Modified</td>\n",
       "    </tr>\n",
       "    <tr>\n",
       "      <th>1</th>\n",
       "      <td>5.0</td>\n",
       "      <td>674.0</td>\n",
       "      <td>2.5</td>\n",
       "      <td>API</td>\n",
       "      <td>Organic Search</td>\n",
       "      <td>No</td>\n",
       "      <td>No</td>\n",
       "      <td>Email Opened</td>\n",
       "      <td>India</td>\n",
       "      <td>Business Administration</td>\n",
       "      <td>...</td>\n",
       "      <td>Not Sure</td>\n",
       "      <td>No</td>\n",
       "      <td>No</td>\n",
       "      <td>Potential Lead</td>\n",
       "      <td>Mumbai</td>\n",
       "      <td>02.Medium</td>\n",
       "      <td>02.Medium</td>\n",
       "      <td>No</td>\n",
       "      <td>No</td>\n",
       "      <td>Email Opened</td>\n",
       "    </tr>\n",
       "  </tbody>\n",
       "</table>\n",
       "<p>2 rows × 32 columns</p>\n",
       "</div>"
      ],
      "text/plain": [
       "   total_visits  total_time_spent_on_website  page_views_per_visit  \\\n",
       "0           0.0                          0.0                   0.0   \n",
       "1           5.0                        674.0                   2.5   \n",
       "\n",
       "  lead_origin     lead_source do_not_email do_not_call  \\\n",
       "0         API      Olark Chat           No          No   \n",
       "1         API  Organic Search           No          No   \n",
       "\n",
       "             last_activity country           specialization  ...  \\\n",
       "0  Page Visited on Website   India  Business Administration  ...   \n",
       "1             Email Opened   India  Business Administration  ...   \n",
       "\n",
       "       lead_quality update_me_on_supply_chain_content  \\\n",
       "0  Low in Relevance                                No   \n",
       "1          Not Sure                                No   \n",
       "\n",
       "  get_updates_on_dm_content    lead_profile    city  \\\n",
       "0                        No  Potential Lead  Mumbai   \n",
       "1                        No  Potential Lead  Mumbai   \n",
       "\n",
       "  asymmetrique_activity_index asymmetrique_profile_index  \\\n",
       "0                   02.Medium                  02.Medium   \n",
       "1                   02.Medium                  02.Medium   \n",
       "\n",
       "  i_agree_to_pay_the_amount_through_cheque  \\\n",
       "0                                       No   \n",
       "1                                       No   \n",
       "\n",
       "  a_free_copy_of_mastering_the_interview last_notable_activity  \n",
       "0                                     No              Modified  \n",
       "1                                     No          Email Opened  \n",
       "\n",
       "[2 rows x 32 columns]"
      ]
     },
     "execution_count": 25,
     "metadata": {},
     "output_type": "execute_result"
    }
   ],
   "source": [
    "LS1.head(2)"
   ]
  },
  {
   "cell_type": "code",
   "execution_count": null,
   "metadata": {
    "executionInfo": {
     "elapsed": 747,
     "status": "ok",
     "timestamp": 1605623680581,
     "user": {
      "displayName": "GL Capstone Group 8",
      "photoUrl": "",
      "userId": "02048998563036872362"
     },
     "user_tz": -330
    },
    "id": "ayNIAeNNE1UG"
   },
   "outputs": [],
   "source": []
  },
  {
   "cell_type": "markdown",
   "metadata": {
    "id": "NsxUWTCIzHRc"
   },
   "source": [
    "# **Univariate Analysis**"
   ]
  },
  {
   "cell_type": "markdown",
   "metadata": {
    "id": "BRM7-tN2pc_M"
   },
   "source": [
    "## **'Asymmetrique Activity Index','Asymmetrique Activity Score','Asymmetrique Profile Index','Asymmetrique Profile Score'**"
   ]
  },
  {
   "cell_type": "code",
   "execution_count": 26,
   "metadata": {
    "executionInfo": {
     "elapsed": 998,
     "status": "ok",
     "timestamp": 1605623687243,
     "user": {
      "displayName": "GL Capstone Group 8",
      "photoUrl": "",
      "userId": "02048998563036872362"
     },
     "user_tz": -330
    },
    "id": "zp7_qhi5b0L8"
   },
   "outputs": [],
   "source": [
    "LS =LS.drop(['asymmetrique_activity_index','asymmetrique_activity_score','asymmetrique_profile_index','asymmetrique_profile_score'],1)\n",
    "LS_cat =LS_cat.drop(['asymmetrique_activity_index','asymmetrique_profile_index'],1)"
   ]
  },
  {
   "cell_type": "code",
   "execution_count": 27,
   "metadata": {
    "colab": {
     "base_uri": "https://localhost:8080/"
    },
    "executionInfo": {
     "elapsed": 781,
     "status": "ok",
     "timestamp": 1605623688561,
     "user": {
      "displayName": "GL Capstone Group 8",
      "photoUrl": "",
      "userId": "02048998563036872362"
     },
     "user_tz": -330
    },
    "id": "o0J1gyVlUpTs",
    "outputId": "84e26ee6-0f5f-486a-e076-8b8fe4c99610"
   },
   "outputs": [
    {
     "data": {
      "text/plain": [
       "Index(['total_visits', 'total_time_spent_on_website', 'page_views_per_visit',\n",
       "       'lead_origin', 'lead_source', 'do_not_email', 'do_not_call',\n",
       "       'last_activity', 'country', 'specialization',\n",
       "       'how_did_you_hear_about_x_education', 'what_is_your_current_occupation',\n",
       "       'what_matters_most_to_you_in_choosing_a_course', 'search', 'magazine',\n",
       "       'newspaper_article', 'x_education_forums', 'newspaper',\n",
       "       'digital_advertisement', 'through_recommendations',\n",
       "       'receive_more_updates_about_our_courses', 'tags', 'lead_quality',\n",
       "       'update_me_on_supply_chain_content', 'get_updates_on_dm_content',\n",
       "       'lead_profile', 'city', 'asymmetrique_activity_index',\n",
       "       'asymmetrique_profile_index',\n",
       "       'i_agree_to_pay_the_amount_through_cheque',\n",
       "       'a_free_copy_of_mastering_the_interview', 'last_notable_activity'],\n",
       "      dtype='object')"
      ]
     },
     "execution_count": 27,
     "metadata": {},
     "output_type": "execute_result"
    }
   ],
   "source": [
    "LS1.columns"
   ]
  },
  {
   "cell_type": "markdown",
   "metadata": {
    "id": "RUY5FSRVpp_C"
   },
   "source": [
    "## **'Do Not Call', 'Search', 'Newspaper', 'Newspaper Article', 'Digital Advertisement', 'X Education Forums','Through Recommendations'**"
   ]
  },
  {
   "cell_type": "markdown",
   "metadata": {
    "id": "Rnukl6Pwc829"
   },
   "source": [
    "For the above columns Do Not Call, Search, Newspaper, Newspaper Article, Digital Advertisement, X Education Forums, Through Recommendations:  maximum values are same, so we cannot generate any insight for lead conversion from this data. Hence, we will drop these columns."
   ]
  },
  {
   "cell_type": "code",
   "execution_count": 28,
   "metadata": {
    "executionInfo": {
     "elapsed": 1325,
     "status": "ok",
     "timestamp": 1605623691598,
     "user": {
      "displayName": "GL Capstone Group 8",
      "photoUrl": "",
      "userId": "02048998563036872362"
     },
     "user_tz": -330
    },
    "id": "dcu0xaZSc6RP"
   },
   "outputs": [],
   "source": [
    "LS_cat= LS_cat.drop(['do_not_call', 'search', 'newspaper', 'newspaper_article', 'digital_advertisement', 'x_education_forums', 'through_recommendations','what_matters_most_to_you_in_choosing_a_course'],1)"
   ]
  },
  {
   "cell_type": "markdown",
   "metadata": {
    "id": "rQ4pbYOycu0a"
   },
   "source": [
    "## **Categorical Columns**"
   ]
  },
  {
   "cell_type": "code",
   "execution_count": 29,
   "metadata": {
    "colab": {
     "base_uri": "https://localhost:8080/"
    },
    "executionInfo": {
     "elapsed": 1074,
     "status": "ok",
     "timestamp": 1605623700727,
     "user": {
      "displayName": "GL Capstone Group 8",
      "photoUrl": "",
      "userId": "02048998563036872362"
     },
     "user_tz": -330
    },
    "id": "okdJIL6BK4TQ",
    "outputId": "54ce3af8-5395-4d89-bf2f-fd11c90bfe5a"
   },
   "outputs": [
    {
     "data": {
      "text/plain": [
       "Index(['lead_origin', 'lead_source', 'do_not_email', 'last_activity',\n",
       "       'country', 'specialization', 'how_did_you_hear_about_x_education',\n",
       "       'what_is_your_current_occupation', 'magazine',\n",
       "       'receive_more_updates_about_our_courses', 'tags', 'lead_quality',\n",
       "       'update_me_on_supply_chain_content', 'get_updates_on_dm_content',\n",
       "       'lead_profile', 'city', 'i_agree_to_pay_the_amount_through_cheque',\n",
       "       'a_free_copy_of_mastering_the_interview', 'last_notable_activity'],\n",
       "      dtype='object')"
      ]
     },
     "execution_count": 29,
     "metadata": {},
     "output_type": "execute_result"
    }
   ],
   "source": [
    "LS_cat.columns"
   ]
  },
  {
   "cell_type": "code",
   "execution_count": 30,
   "metadata": {
    "executionInfo": {
     "elapsed": 1262,
     "status": "ok",
     "timestamp": 1605623705428,
     "user": {
      "displayName": "GL Capstone Group 8",
      "photoUrl": "",
      "userId": "02048998563036872362"
     },
     "user_tz": -330
    },
    "id": "PYgBPKN3JzkL"
   },
   "outputs": [],
   "source": [
    "## Dropping 3,5,10,11,14,15,18,19\n",
    "LS_cat= LS_cat.drop(['do_not_email','country','magazine','receive_more_updates_about_our_courses','update_me_on_supply_chain_content','get_updates_on_dm_content','i_agree_to_pay_the_amount_through_cheque','a_free_copy_of_mastering_the_interview'],1)"
   ]
  },
  {
   "cell_type": "code",
   "execution_count": 31,
   "metadata": {
    "colab": {
     "base_uri": "https://localhost:8080/",
     "height": 281
    },
    "executionInfo": {
     "elapsed": 1702,
     "status": "ok",
     "timestamp": 1605623706455,
     "user": {
      "displayName": "GL Capstone Group 8",
      "photoUrl": "",
      "userId": "02048998563036872362"
     },
     "user_tz": -330
    },
    "id": "wAARNOGfQ4bW",
    "outputId": "26410287-3598-4953-8fd6-076d69b44ed5"
   },
   "outputs": [
    {
     "data": {
      "text/html": [
       "<div>\n",
       "<style scoped>\n",
       "    .dataframe tbody tr th:only-of-type {\n",
       "        vertical-align: middle;\n",
       "    }\n",
       "\n",
       "    .dataframe tbody tr th {\n",
       "        vertical-align: top;\n",
       "    }\n",
       "\n",
       "    .dataframe thead th {\n",
       "        text-align: right;\n",
       "    }\n",
       "</style>\n",
       "<table border=\"1\" class=\"dataframe\">\n",
       "  <thead>\n",
       "    <tr style=\"text-align: right;\">\n",
       "      <th></th>\n",
       "      <th>lead_origin</th>\n",
       "      <th>lead_source</th>\n",
       "      <th>last_activity</th>\n",
       "      <th>specialization</th>\n",
       "      <th>how_did_you_hear_about_x_education</th>\n",
       "      <th>what_is_your_current_occupation</th>\n",
       "      <th>tags</th>\n",
       "      <th>lead_quality</th>\n",
       "      <th>lead_profile</th>\n",
       "      <th>city</th>\n",
       "      <th>last_notable_activity</th>\n",
       "    </tr>\n",
       "  </thead>\n",
       "  <tbody>\n",
       "    <tr>\n",
       "      <th>0</th>\n",
       "      <td>API</td>\n",
       "      <td>Olark Chat</td>\n",
       "      <td>Page Visited on Website</td>\n",
       "      <td>Business Administration</td>\n",
       "      <td>Online Search</td>\n",
       "      <td>Unemployed</td>\n",
       "      <td>Interested in other courses</td>\n",
       "      <td>Low in Relevance</td>\n",
       "      <td>Potential Lead</td>\n",
       "      <td>Mumbai</td>\n",
       "      <td>Modified</td>\n",
       "    </tr>\n",
       "    <tr>\n",
       "      <th>1</th>\n",
       "      <td>API</td>\n",
       "      <td>Organic Search</td>\n",
       "      <td>Email Opened</td>\n",
       "      <td>Business Administration</td>\n",
       "      <td>Online Search</td>\n",
       "      <td>Unemployed</td>\n",
       "      <td>Ringing</td>\n",
       "      <td>Not Sure</td>\n",
       "      <td>Potential Lead</td>\n",
       "      <td>Mumbai</td>\n",
       "      <td>Email Opened</td>\n",
       "    </tr>\n",
       "    <tr>\n",
       "      <th>2</th>\n",
       "      <td>Landing Page Submission</td>\n",
       "      <td>Direct Traffic</td>\n",
       "      <td>Email Opened</td>\n",
       "      <td>Business Administration</td>\n",
       "      <td>Online Search</td>\n",
       "      <td>Student</td>\n",
       "      <td>Will revert after reading the email</td>\n",
       "      <td>Might be</td>\n",
       "      <td>Potential Lead</td>\n",
       "      <td>Mumbai</td>\n",
       "      <td>Email Opened</td>\n",
       "    </tr>\n",
       "    <tr>\n",
       "      <th>3</th>\n",
       "      <td>Landing Page Submission</td>\n",
       "      <td>Direct Traffic</td>\n",
       "      <td>others</td>\n",
       "      <td>others</td>\n",
       "      <td>Word Of Mouth</td>\n",
       "      <td>Unemployed</td>\n",
       "      <td>Ringing</td>\n",
       "      <td>Not Sure</td>\n",
       "      <td>Potential Lead</td>\n",
       "      <td>Mumbai</td>\n",
       "      <td>Modified</td>\n",
       "    </tr>\n",
       "    <tr>\n",
       "      <th>4</th>\n",
       "      <td>Landing Page Submission</td>\n",
       "      <td>Direct Traffic</td>\n",
       "      <td>Converted to Lead</td>\n",
       "      <td>Supply Chain Management</td>\n",
       "      <td>others</td>\n",
       "      <td>Unemployed</td>\n",
       "      <td>Will revert after reading the email</td>\n",
       "      <td>Might be</td>\n",
       "      <td>Potential Lead</td>\n",
       "      <td>Mumbai</td>\n",
       "      <td>Modified</td>\n",
       "    </tr>\n",
       "  </tbody>\n",
       "</table>\n",
       "</div>"
      ],
      "text/plain": [
       "               lead_origin     lead_source            last_activity  \\\n",
       "0                      API      Olark Chat  Page Visited on Website   \n",
       "1                      API  Organic Search             Email Opened   \n",
       "2  Landing Page Submission  Direct Traffic             Email Opened   \n",
       "3  Landing Page Submission  Direct Traffic                   others   \n",
       "4  Landing Page Submission  Direct Traffic        Converted to Lead   \n",
       "\n",
       "            specialization how_did_you_hear_about_x_education  \\\n",
       "0  Business Administration                      Online Search   \n",
       "1  Business Administration                      Online Search   \n",
       "2  Business Administration                      Online Search   \n",
       "3                   others                      Word Of Mouth   \n",
       "4  Supply Chain Management                             others   \n",
       "\n",
       "  what_is_your_current_occupation                                 tags  \\\n",
       "0                      Unemployed          Interested in other courses   \n",
       "1                      Unemployed                              Ringing   \n",
       "2                         Student  Will revert after reading the email   \n",
       "3                      Unemployed                              Ringing   \n",
       "4                      Unemployed  Will revert after reading the email   \n",
       "\n",
       "       lead_quality    lead_profile    city last_notable_activity  \n",
       "0  Low in Relevance  Potential Lead  Mumbai              Modified  \n",
       "1          Not Sure  Potential Lead  Mumbai          Email Opened  \n",
       "2          Might be  Potential Lead  Mumbai          Email Opened  \n",
       "3          Not Sure  Potential Lead  Mumbai              Modified  \n",
       "4          Might be  Potential Lead  Mumbai              Modified  "
      ]
     },
     "execution_count": 31,
     "metadata": {},
     "output_type": "execute_result"
    }
   ],
   "source": [
    "LS_cat.head()"
   ]
  },
  {
   "cell_type": "markdown",
   "metadata": {
    "id": "YgHpjFEep_p8"
   },
   "source": [
    "## **Numerical Columns**"
   ]
  },
  {
   "cell_type": "code",
   "execution_count": 32,
   "metadata": {
    "colab": {
     "base_uri": "https://localhost:8080/"
    },
    "executionInfo": {
     "elapsed": 1165,
     "status": "ok",
     "timestamp": 1605623707895,
     "user": {
      "displayName": "GL Capstone Group 8",
      "photoUrl": "",
      "userId": "02048998563036872362"
     },
     "user_tz": -330
    },
    "id": "XH0rQM7NFfef",
    "outputId": "751a7a07-51dc-408e-88ba-d3e6c6393756"
   },
   "outputs": [
    {
     "data": {
      "text/plain": [
       "Index(['lead_origin', 'lead_source', 'last_activity', 'specialization',\n",
       "       'how_did_you_hear_about_x_education', 'what_is_your_current_occupation',\n",
       "       'tags', 'lead_quality', 'lead_profile', 'city',\n",
       "       'last_notable_activity'],\n",
       "      dtype='object')"
      ]
     },
     "execution_count": 32,
     "metadata": {},
     "output_type": "execute_result"
    }
   ],
   "source": [
    "LS_cat.columns"
   ]
  },
  {
   "cell_type": "markdown",
   "metadata": {
    "id": "IntDQ9jMUSUq"
   },
   "source": [
    "def correlation(dataframe) : \n",
    "    cor0=dataframe.corr()\n",
    "    type(cor0)\n",
    "    cor0.where(np.triu(np.ones(cor0.shape),k=1).astype(np.bool))\n",
    "    cor0=cor0.unstack().reset_index()\n",
    "    cor0.columns=['VAR1','VAR2','CORR']\n",
    "    cor0.dropna(subset=['CORR'], inplace=True)\n",
    "    cor0.CORR=round(cor0['CORR'],2)\n",
    "    cor0.CORR=cor0.CORR.abs()\n",
    "    cor0.sort_values(by=['CORR'],ascending=False)\n",
    "    cor0=cor0[~(cor0['VAR1']==cor0['VAR2'])]\n",
    "    return pd.DataFrame(cor0.sort_values(by=['CORR'],ascending=False))"
   ]
  },
  {
   "cell_type": "markdown",
   "metadata": {
    "id": "5gLrHCMpSD0F"
   },
   "source": [
    "convertedCondition= LS1['converted']==1\n",
    "print('Correlations for converted Leads')\n",
    "correlation(LS1[convertedCondition])[1:30:2].style.background_gradient(cmap='GnBu').hide_index()"
   ]
  },
  {
   "cell_type": "markdown",
   "metadata": {
    "id": "i3f6vYC9Saqz"
   },
   "source": [
    "#Correlations for un-Converted Leads \n",
    "unconvertedCondition=LS1['converted']==0\n",
    "print('Correlations for Non-Converted Leads')\n",
    "correlation(LS1[unconvertedCondition])[1:30:2].style.background_gradient(cmap='GnBu').hide_index()"
   ]
  },
  {
   "cell_type": "code",
   "execution_count": 33,
   "metadata": {
    "executionInfo": {
     "elapsed": 1403,
     "status": "ok",
     "timestamp": 1605623727028,
     "user": {
      "displayName": "GL Capstone Group 8",
      "photoUrl": "",
      "userId": "02048998563036872362"
     },
     "user_tz": -330
    },
    "id": "eGri4r7nztXC"
   },
   "outputs": [],
   "source": [
    "import scipy.stats as stats"
   ]
  },
  {
   "cell_type": "code",
   "execution_count": 34,
   "metadata": {
    "executionInfo": {
     "elapsed": 1083,
     "status": "ok",
     "timestamp": 1605623727028,
     "user": {
      "displayName": "GL Capstone Group 8",
      "photoUrl": "",
      "userId": "02048998563036872362"
     },
     "user_tz": -330
    },
    "id": "_4FzAyw8104W"
   },
   "outputs": [],
   "source": [
    "LS2=pd.concat([LS_num,LS['converted'],LS_cat,LS['do_not_email'],LS['country'],LS['a_free_copy_of_mastering_the_interview'],LS['what_matters_most_to_you_in_choosing_a_course']],1)\n"
   ]
  },
  {
   "cell_type": "code",
   "execution_count": 35,
   "metadata": {
    "colab": {
     "base_uri": "https://localhost:8080/"
    },
    "executionInfo": {
     "elapsed": 1256,
     "status": "ok",
     "timestamp": 1605623727702,
     "user": {
      "displayName": "GL Capstone Group 8",
      "photoUrl": "",
      "userId": "02048998563036872362"
     },
     "user_tz": -330
    },
    "id": "Qq7S0U8GwD-_",
    "outputId": "254c1165-8baa-4b8a-b8a6-f0a092f8eef8"
   },
   "outputs": [
    {
     "data": {
      "text/plain": [
       "19"
      ]
     },
     "execution_count": 35,
     "metadata": {},
     "output_type": "execute_result"
    }
   ],
   "source": [
    "len(LS2.columns)"
   ]
  },
  {
   "cell_type": "code",
   "execution_count": 36,
   "metadata": {
    "colab": {
     "base_uri": "https://localhost:8080/"
    },
    "executionInfo": {
     "elapsed": 1155,
     "status": "ok",
     "timestamp": 1605623728174,
     "user": {
      "displayName": "GL Capstone Group 8",
      "photoUrl": "",
      "userId": "02048998563036872362"
     },
     "user_tz": -330
    },
    "id": "ly6Z2l-omr95",
    "outputId": "924a59f3-6663-42ce-f4c2-661323c22868"
   },
   "outputs": [
    {
     "name": "stdout",
     "output_type": "stream",
     "text": [
      "['lead_origin', 'lead_source', 'last_activity', 'specialization', 'how_did_you_hear_about_x_education', 'what_is_your_current_occupation', 'tags', 'lead_quality', 'lead_profile', 'city', 'last_notable_activity', 'do_not_email', 'country', 'a_free_copy_of_mastering_the_interview', 'what_matters_most_to_you_in_choosing_a_course']\n"
     ]
    }
   ],
   "source": [
    "Cat=[]\n",
    "for i in LS2.columns:\n",
    "    if LS2[i].dtype=='object':\n",
    "        Cat.append(i)\n",
    "print(Cat)\n"
   ]
  },
  {
   "cell_type": "markdown",
   "metadata": {
    "id": "8BnZwaxcnlT4"
   },
   "source": [
    "#LS3 is specifically for categorical columns\n",
    "LS3=LS2[Cat]\n",
    "LS3"
   ]
  },
  {
   "cell_type": "code",
   "execution_count": 37,
   "metadata": {
    "colab": {
     "base_uri": "https://localhost:8080/"
    },
    "executionInfo": {
     "elapsed": 1096,
     "status": "ok",
     "timestamp": 1605623730813,
     "user": {
      "displayName": "GL Capstone Group 8",
      "photoUrl": "",
      "userId": "02048998563036872362"
     },
     "user_tz": -330
    },
    "id": "E8ePpZspmr4x",
    "outputId": "d7c657a0-fc68-4130-f6e9-804c06a4c055"
   },
   "outputs": [
    {
     "name": "stdout",
     "output_type": "stream",
     "text": [
      "total_visits 1.7498701002952801e-29\n",
      "total_time_spent_on_website 5.219044086021993e-122\n",
      "page_views_per_visit 7.4601403269334395e-06\n",
      "converted 0.0\n",
      "lead_origin 3.297968402797898e-212\n",
      "lead_source 6.4377126536389006e-223\n",
      "last_activity 0.0\n",
      "specialization 0.003925326000894326\n",
      "how_did_you_hear_about_x_education 0.004525468280084786\n",
      "what_is_your_current_occupation 4.2546452161316175e-114\n",
      "tags 0.0\n",
      "lead_quality 0.0\n",
      "lead_profile 1.3981609784024118e-40\n",
      "city 0.18215545393865212\n",
      "last_notable_activity 5.55895202495475e-283\n",
      "do_not_email 1.3384599721779416e-38\n",
      "country 0.011100880939005268\n",
      "a_free_copy_of_mastering_the_interview 0.00014201097210552065\n",
      "what_matters_most_to_you_in_choosing_a_course 0.8779137137927155\n"
     ]
    }
   ],
   "source": [
    "import scipy.stats as stats\n",
    "for col in LS2:\n",
    "    cont = pd.crosstab(LS2[col],LS2['converted'])\n",
    "    print(col, stats.chi2_contingency(cont)[1])"
   ]
  },
  {
   "cell_type": "markdown",
   "metadata": {
    "id": "3c7PKNCeg2tV"
   },
   "source": [
    "# Transformation and Scaling:"
   ]
  },
  {
   "cell_type": "code",
   "execution_count": 38,
   "metadata": {
    "colab": {
     "base_uri": "https://localhost:8080/",
     "height": 197
    },
    "executionInfo": {
     "elapsed": 1228,
     "status": "ok",
     "timestamp": 1605623734106,
     "user": {
      "displayName": "GL Capstone Group 8",
      "photoUrl": "",
      "userId": "02048998563036872362"
     },
     "user_tz": -330
    },
    "id": "nQfvL8zqhBmv",
    "outputId": "1dfbe9d6-346a-43d7-cf10-c99e795a2277"
   },
   "outputs": [
    {
     "data": {
      "text/html": [
       "<div>\n",
       "<style scoped>\n",
       "    .dataframe tbody tr th:only-of-type {\n",
       "        vertical-align: middle;\n",
       "    }\n",
       "\n",
       "    .dataframe tbody tr th {\n",
       "        vertical-align: top;\n",
       "    }\n",
       "\n",
       "    .dataframe thead th {\n",
       "        text-align: right;\n",
       "    }\n",
       "</style>\n",
       "<table border=\"1\" class=\"dataframe\">\n",
       "  <thead>\n",
       "    <tr style=\"text-align: right;\">\n",
       "      <th></th>\n",
       "      <th>total_visits</th>\n",
       "      <th>total_time_spent_on_website</th>\n",
       "      <th>page_views_per_visit</th>\n",
       "    </tr>\n",
       "  </thead>\n",
       "  <tbody>\n",
       "    <tr>\n",
       "      <th>0</th>\n",
       "      <td>-1.447852</td>\n",
       "      <td>-1.473767</td>\n",
       "      <td>-1.460157</td>\n",
       "    </tr>\n",
       "    <tr>\n",
       "      <th>1</th>\n",
       "      <td>0.812110</td>\n",
       "      <td>0.729628</td>\n",
       "      <td>0.337853</td>\n",
       "    </tr>\n",
       "    <tr>\n",
       "      <th>2</th>\n",
       "      <td>-0.216838</td>\n",
       "      <td>1.306093</td>\n",
       "      <td>0.046968</td>\n",
       "    </tr>\n",
       "    <tr>\n",
       "      <th>3</th>\n",
       "      <td>-0.721778</td>\n",
       "      <td>0.264936</td>\n",
       "      <td>-0.613575</td>\n",
       "    </tr>\n",
       "    <tr>\n",
       "      <th>4</th>\n",
       "      <td>-0.216838</td>\n",
       "      <td>1.252499</td>\n",
       "      <td>-0.613575</td>\n",
       "    </tr>\n",
       "  </tbody>\n",
       "</table>\n",
       "</div>"
      ],
      "text/plain": [
       "   total_visits  total_time_spent_on_website  page_views_per_visit\n",
       "0     -1.447852                    -1.473767             -1.460157\n",
       "1      0.812110                     0.729628              0.337853\n",
       "2     -0.216838                     1.306093              0.046968\n",
       "3     -0.721778                     0.264936             -0.613575\n",
       "4     -0.216838                     1.252499             -0.613575"
      ]
     },
     "execution_count": 38,
     "metadata": {},
     "output_type": "execute_result"
    }
   ],
   "source": [
    "from sklearn.preprocessing import PowerTransformer\n",
    "pt=PowerTransformer()\n",
    "LS_num_pt=pd.DataFrame(pt.fit_transform(LS_num),columns=LS_num.columns)\n",
    "LS_num_pt.head()\n"
   ]
  },
  {
   "cell_type": "code",
   "execution_count": 39,
   "metadata": {
    "colab": {
     "base_uri": "https://localhost:8080/"
    },
    "executionInfo": {
     "elapsed": 1172,
     "status": "ok",
     "timestamp": 1605623735973,
     "user": {
      "displayName": "GL Capstone Group 8",
      "photoUrl": "",
      "userId": "02048998563036872362"
     },
     "user_tz": -330
    },
    "id": "lJpCinUdd-7J",
    "outputId": "4e601f88-20d6-446a-cd0e-645a8ed9fdd2"
   },
   "outputs": [
    {
     "data": {
      "text/plain": [
       "Index(['total_visits', 'total_time_spent_on_website', 'page_views_per_visit',\n",
       "       'lead_origin', 'lead_source', 'last_activity', 'specialization',\n",
       "       'how_did_you_hear_about_x_education', 'what_is_your_current_occupation',\n",
       "       'tags', 'lead_quality', 'lead_profile', 'city', 'last_notable_activity',\n",
       "       'converted', 'do_not_email', 'country',\n",
       "       'a_free_copy_of_mastering_the_interview',\n",
       "       'what_matters_most_to_you_in_choosing_a_course'],\n",
       "      dtype='object')"
      ]
     },
     "execution_count": 39,
     "metadata": {},
     "output_type": "execute_result"
    }
   ],
   "source": [
    "LS1=pd.concat([LS_num_pt,LS_cat,LS['converted'],LS['do_not_email'],LS['country'],LS['a_free_copy_of_mastering_the_interview'],LS['what_matters_most_to_you_in_choosing_a_course']],axis=1)\n",
    "LS1.columns"
   ]
  },
  {
   "cell_type": "code",
   "execution_count": 40,
   "metadata": {
    "executionInfo": {
     "elapsed": 1101,
     "status": "ok",
     "timestamp": 1605623736408,
     "user": {
      "displayName": "GL Capstone Group 8",
      "photoUrl": "",
      "userId": "02048998563036872362"
     },
     "user_tz": -330
    },
    "id": "UOjhtg56WAFZ"
   },
   "outputs": [],
   "source": [
    "Cat=[]\n",
    "for i in LS1.columns:\n",
    "    if LS1[i].dtype=='object':\n",
    "        Cat.append(i)\n",
    "df1=LS1\n",
    "df1=pd.get_dummies(data=df1,drop_first=True)"
   ]
  },
  {
   "cell_type": "code",
   "execution_count": 41,
   "metadata": {},
   "outputs": [
    {
     "data": {
      "text/html": [
       "<div>\n",
       "<style scoped>\n",
       "    .dataframe tbody tr th:only-of-type {\n",
       "        vertical-align: middle;\n",
       "    }\n",
       "\n",
       "    .dataframe tbody tr th {\n",
       "        vertical-align: top;\n",
       "    }\n",
       "\n",
       "    .dataframe thead th {\n",
       "        text-align: right;\n",
       "    }\n",
       "</style>\n",
       "<table border=\"1\" class=\"dataframe\">\n",
       "  <thead>\n",
       "    <tr style=\"text-align: right;\">\n",
       "      <th></th>\n",
       "      <th>total_visits</th>\n",
       "      <th>total_time_spent_on_website</th>\n",
       "      <th>page_views_per_visit</th>\n",
       "      <th>converted</th>\n",
       "      <th>lead_origin_Landing Page Submission</th>\n",
       "      <th>lead_origin_Lead Add Form</th>\n",
       "      <th>lead_origin_others</th>\n",
       "      <th>lead_source_Google</th>\n",
       "      <th>lead_source_Olark Chat</th>\n",
       "      <th>lead_source_Organic Search</th>\n",
       "      <th>...</th>\n",
       "      <th>last_notable_activity_Olark Chat Conversation</th>\n",
       "      <th>last_notable_activity_Page Visited on Website</th>\n",
       "      <th>last_notable_activity_SMS Sent</th>\n",
       "      <th>last_notable_activity_Unreachable</th>\n",
       "      <th>last_notable_activity_Unsubscribed</th>\n",
       "      <th>last_notable_activity_others</th>\n",
       "      <th>do_not_email_Yes</th>\n",
       "      <th>country_Non Indian</th>\n",
       "      <th>a_free_copy_of_mastering_the_interview_Yes</th>\n",
       "      <th>what_matters_most_to_you_in_choosing_a_course_Flexibility &amp; Convenience</th>\n",
       "    </tr>\n",
       "  </thead>\n",
       "  <tbody>\n",
       "    <tr>\n",
       "      <th>0</th>\n",
       "      <td>-1.447852</td>\n",
       "      <td>-1.473767</td>\n",
       "      <td>-1.460157</td>\n",
       "      <td>0</td>\n",
       "      <td>0</td>\n",
       "      <td>0</td>\n",
       "      <td>0</td>\n",
       "      <td>0</td>\n",
       "      <td>1</td>\n",
       "      <td>0</td>\n",
       "      <td>...</td>\n",
       "      <td>0</td>\n",
       "      <td>0</td>\n",
       "      <td>0</td>\n",
       "      <td>0</td>\n",
       "      <td>0</td>\n",
       "      <td>0</td>\n",
       "      <td>0</td>\n",
       "      <td>0</td>\n",
       "      <td>0</td>\n",
       "      <td>0</td>\n",
       "    </tr>\n",
       "    <tr>\n",
       "      <th>1</th>\n",
       "      <td>0.812110</td>\n",
       "      <td>0.729628</td>\n",
       "      <td>0.337853</td>\n",
       "      <td>0</td>\n",
       "      <td>0</td>\n",
       "      <td>0</td>\n",
       "      <td>0</td>\n",
       "      <td>0</td>\n",
       "      <td>0</td>\n",
       "      <td>1</td>\n",
       "      <td>...</td>\n",
       "      <td>0</td>\n",
       "      <td>0</td>\n",
       "      <td>0</td>\n",
       "      <td>0</td>\n",
       "      <td>0</td>\n",
       "      <td>0</td>\n",
       "      <td>0</td>\n",
       "      <td>0</td>\n",
       "      <td>0</td>\n",
       "      <td>0</td>\n",
       "    </tr>\n",
       "    <tr>\n",
       "      <th>2</th>\n",
       "      <td>-0.216838</td>\n",
       "      <td>1.306093</td>\n",
       "      <td>0.046968</td>\n",
       "      <td>1</td>\n",
       "      <td>1</td>\n",
       "      <td>0</td>\n",
       "      <td>0</td>\n",
       "      <td>0</td>\n",
       "      <td>0</td>\n",
       "      <td>0</td>\n",
       "      <td>...</td>\n",
       "      <td>0</td>\n",
       "      <td>0</td>\n",
       "      <td>0</td>\n",
       "      <td>0</td>\n",
       "      <td>0</td>\n",
       "      <td>0</td>\n",
       "      <td>0</td>\n",
       "      <td>0</td>\n",
       "      <td>1</td>\n",
       "      <td>0</td>\n",
       "    </tr>\n",
       "    <tr>\n",
       "      <th>3</th>\n",
       "      <td>-0.721778</td>\n",
       "      <td>0.264936</td>\n",
       "      <td>-0.613575</td>\n",
       "      <td>0</td>\n",
       "      <td>1</td>\n",
       "      <td>0</td>\n",
       "      <td>0</td>\n",
       "      <td>0</td>\n",
       "      <td>0</td>\n",
       "      <td>0</td>\n",
       "      <td>...</td>\n",
       "      <td>0</td>\n",
       "      <td>0</td>\n",
       "      <td>0</td>\n",
       "      <td>0</td>\n",
       "      <td>0</td>\n",
       "      <td>0</td>\n",
       "      <td>0</td>\n",
       "      <td>0</td>\n",
       "      <td>0</td>\n",
       "      <td>0</td>\n",
       "    </tr>\n",
       "    <tr>\n",
       "      <th>4</th>\n",
       "      <td>-0.216838</td>\n",
       "      <td>1.252499</td>\n",
       "      <td>-0.613575</td>\n",
       "      <td>1</td>\n",
       "      <td>1</td>\n",
       "      <td>0</td>\n",
       "      <td>0</td>\n",
       "      <td>0</td>\n",
       "      <td>0</td>\n",
       "      <td>0</td>\n",
       "      <td>...</td>\n",
       "      <td>0</td>\n",
       "      <td>0</td>\n",
       "      <td>0</td>\n",
       "      <td>0</td>\n",
       "      <td>0</td>\n",
       "      <td>0</td>\n",
       "      <td>0</td>\n",
       "      <td>0</td>\n",
       "      <td>0</td>\n",
       "      <td>0</td>\n",
       "    </tr>\n",
       "  </tbody>\n",
       "</table>\n",
       "<p>5 rows × 61 columns</p>\n",
       "</div>"
      ],
      "text/plain": [
       "   total_visits  total_time_spent_on_website  page_views_per_visit  converted  \\\n",
       "0     -1.447852                    -1.473767             -1.460157          0   \n",
       "1      0.812110                     0.729628              0.337853          0   \n",
       "2     -0.216838                     1.306093              0.046968          1   \n",
       "3     -0.721778                     0.264936             -0.613575          0   \n",
       "4     -0.216838                     1.252499             -0.613575          1   \n",
       "\n",
       "   lead_origin_Landing Page Submission  lead_origin_Lead Add Form  \\\n",
       "0                                    0                          0   \n",
       "1                                    0                          0   \n",
       "2                                    1                          0   \n",
       "3                                    1                          0   \n",
       "4                                    1                          0   \n",
       "\n",
       "   lead_origin_others  lead_source_Google  lead_source_Olark Chat  \\\n",
       "0                   0                   0                       1   \n",
       "1                   0                   0                       0   \n",
       "2                   0                   0                       0   \n",
       "3                   0                   0                       0   \n",
       "4                   0                   0                       0   \n",
       "\n",
       "   lead_source_Organic Search  ...  \\\n",
       "0                           0  ...   \n",
       "1                           1  ...   \n",
       "2                           0  ...   \n",
       "3                           0  ...   \n",
       "4                           0  ...   \n",
       "\n",
       "   last_notable_activity_Olark Chat Conversation  \\\n",
       "0                                              0   \n",
       "1                                              0   \n",
       "2                                              0   \n",
       "3                                              0   \n",
       "4                                              0   \n",
       "\n",
       "   last_notable_activity_Page Visited on Website  \\\n",
       "0                                              0   \n",
       "1                                              0   \n",
       "2                                              0   \n",
       "3                                              0   \n",
       "4                                              0   \n",
       "\n",
       "   last_notable_activity_SMS Sent  last_notable_activity_Unreachable  \\\n",
       "0                               0                                  0   \n",
       "1                               0                                  0   \n",
       "2                               0                                  0   \n",
       "3                               0                                  0   \n",
       "4                               0                                  0   \n",
       "\n",
       "   last_notable_activity_Unsubscribed  last_notable_activity_others  \\\n",
       "0                                   0                             0   \n",
       "1                                   0                             0   \n",
       "2                                   0                             0   \n",
       "3                                   0                             0   \n",
       "4                                   0                             0   \n",
       "\n",
       "   do_not_email_Yes  country_Non Indian  \\\n",
       "0                 0                   0   \n",
       "1                 0                   0   \n",
       "2                 0                   0   \n",
       "3                 0                   0   \n",
       "4                 0                   0   \n",
       "\n",
       "   a_free_copy_of_mastering_the_interview_Yes  \\\n",
       "0                                           0   \n",
       "1                                           0   \n",
       "2                                           1   \n",
       "3                                           0   \n",
       "4                                           0   \n",
       "\n",
       "   what_matters_most_to_you_in_choosing_a_course_Flexibility & Convenience  \n",
       "0                                                  0                        \n",
       "1                                                  0                        \n",
       "2                                                  0                        \n",
       "3                                                  0                        \n",
       "4                                                  0                        \n",
       "\n",
       "[5 rows x 61 columns]"
      ]
     },
     "execution_count": 41,
     "metadata": {},
     "output_type": "execute_result"
    }
   ],
   "source": [
    "df1.head()"
   ]
  },
  {
   "cell_type": "code",
   "execution_count": 42,
   "metadata": {
    "colab": {
     "base_uri": "https://localhost:8080/"
    },
    "executionInfo": {
     "elapsed": 753,
     "status": "ok",
     "timestamp": 1605623736410,
     "user": {
      "displayName": "GL Capstone Group 8",
      "photoUrl": "",
      "userId": "02048998563036872362"
     },
     "user_tz": -330
    },
    "id": "xUnCY8wMng4R",
    "outputId": "df15907b-c3d2-4a09-844d-c466c291f5e1"
   },
   "outputs": [
    {
     "data": {
      "text/plain": [
       "(9240, 19)"
      ]
     },
     "execution_count": 42,
     "metadata": {},
     "output_type": "execute_result"
    }
   ],
   "source": [
    "LS1.shape"
   ]
  },
  {
   "cell_type": "code",
   "execution_count": 43,
   "metadata": {
    "colab": {
     "base_uri": "https://localhost:8080/"
    },
    "executionInfo": {
     "elapsed": 1156,
     "status": "ok",
     "timestamp": 1605623752719,
     "user": {
      "displayName": "GL Capstone Group 8",
      "photoUrl": "",
      "userId": "02048998563036872362"
     },
     "user_tz": -330
    },
    "id": "bVW20T5_3jYK",
    "outputId": "0d678c7f-ab6f-448c-8381-c9c3919159ec"
   },
   "outputs": [
    {
     "data": {
      "text/plain": [
       "(9240, 61)"
      ]
     },
     "execution_count": 43,
     "metadata": {},
     "output_type": "execute_result"
    }
   ],
   "source": [
    "df1.shape"
   ]
  },
  {
   "cell_type": "markdown",
   "metadata": {
    "id": "H5jH9rcu_d0h"
   },
   "source": [
    "# Separating target and independent variables"
   ]
  },
  {
   "cell_type": "code",
   "execution_count": 44,
   "metadata": {
    "colab": {
     "base_uri": "https://localhost:8080/"
    },
    "executionInfo": {
     "elapsed": 1004,
     "status": "ok",
     "timestamp": 1605623754147,
     "user": {
      "displayName": "GL Capstone Group 8",
      "photoUrl": "",
      "userId": "02048998563036872362"
     },
     "user_tz": -330
    },
    "id": "2h5tW-6S-_xM",
    "outputId": "ed000446-f72e-4bd1-b10f-43c28b9eeae6"
   },
   "outputs": [
    {
     "data": {
      "text/plain": [
       "Index(['total_visits', 'total_time_spent_on_website', 'page_views_per_visit',\n",
       "       'lead_origin_Landing Page Submission', 'lead_origin_Lead Add Form',\n",
       "       'lead_origin_others', 'lead_source_Google', 'lead_source_Olark Chat',\n",
       "       'lead_source_Organic Search', 'lead_source_Reference',\n",
       "       'lead_source_others', 'last_activity_Email Opened',\n",
       "       'last_activity_Olark Chat Conversation',\n",
       "       'last_activity_Page Visited on Website', 'last_activity_SMS Sent',\n",
       "       'last_activity_others', 'specialization_Business Administration',\n",
       "       'specialization_E-Business', 'specialization_Finance Management',\n",
       "       'specialization_Human Resource Management',\n",
       "       'specialization_IT Projects Management',\n",
       "       'specialization_Marketing Management',\n",
       "       'specialization_Operations Management',\n",
       "       'specialization_Supply Chain Management', 'specialization_others',\n",
       "       'how_did_you_hear_about_x_education_Student of SomeSchool',\n",
       "       'how_did_you_hear_about_x_education_Word Of Mouth',\n",
       "       'how_did_you_hear_about_x_education_others',\n",
       "       'what_is_your_current_occupation_Unemployed',\n",
       "       'what_is_your_current_occupation_Working Professional',\n",
       "       'what_is_your_current_occupation_others',\n",
       "       'tags_Interested in other courses', 'tags_Ringing',\n",
       "       'tags_Will revert after reading the email', 'tags_others',\n",
       "       'lead_quality_Low in Relevance', 'lead_quality_Might be',\n",
       "       'lead_quality_Not Sure', 'lead_quality_Worst',\n",
       "       'lead_profile_Potential Lead', 'lead_profile_others',\n",
       "       'city_Other Cities', 'city_Other Cities of Maharashtra',\n",
       "       'city_Other Metro Cities', 'city_Thane & Outskirts',\n",
       "       'city_Tier II Cities', 'last_notable_activity_Email Link Clicked',\n",
       "       'last_notable_activity_Email Opened',\n",
       "       'last_notable_activity_Had a Phone Conversation',\n",
       "       'last_notable_activity_Modified',\n",
       "       'last_notable_activity_Olark Chat Conversation',\n",
       "       'last_notable_activity_Page Visited on Website',\n",
       "       'last_notable_activity_SMS Sent', 'last_notable_activity_Unreachable',\n",
       "       'last_notable_activity_Unsubscribed', 'last_notable_activity_others',\n",
       "       'do_not_email_Yes', 'country_Non Indian',\n",
       "       'a_free_copy_of_mastering_the_interview_Yes',\n",
       "       'what_matters_most_to_you_in_choosing_a_course_Flexibility & Convenience'],\n",
       "      dtype='object')"
      ]
     },
     "execution_count": 44,
     "metadata": {},
     "output_type": "execute_result"
    }
   ],
   "source": [
    "x=df1.drop(['converted'],axis=1)\n",
    "y=df1['converted']\n",
    "x.columns"
   ]
  },
  {
   "cell_type": "markdown",
   "metadata": {
    "id": "_9Hr_aOK_opy"
   },
   "source": [
    "# Splitting the data into train_test"
   ]
  },
  {
   "cell_type": "code",
   "execution_count": 45,
   "metadata": {
    "executionInfo": {
     "elapsed": 1600,
     "status": "ok",
     "timestamp": 1605623758415,
     "user": {
      "displayName": "GL Capstone Group 8",
      "photoUrl": "",
      "userId": "02048998563036872362"
     },
     "user_tz": -330
    },
    "id": "EGmSBkQXc0no"
   },
   "outputs": [],
   "source": [
    "from sklearn.model_selection import train_test_split\n",
    "xtrain,xtest,ytrain,ytest=train_test_split(x,y,test_size=0.3,random_state=0)"
   ]
  },
  {
   "cell_type": "markdown",
   "metadata": {
    "id": "QGhC6qMf-hDJ"
   },
   "source": [
    "## **Base Model**"
   ]
  },
  {
   "cell_type": "code",
   "execution_count": 46,
   "metadata": {
    "colab": {
     "base_uri": "https://localhost:8080/"
    },
    "executionInfo": {
     "elapsed": 1517,
     "status": "ok",
     "timestamp": 1605623759807,
     "user": {
      "displayName": "GL Capstone Group 8",
      "photoUrl": "",
      "userId": "02048998563036872362"
     },
     "user_tz": -330
    },
    "id": "Xgcbxp0x-rkF",
    "outputId": "940bd709-85b4-4647-cf4a-d7deaee3eb67"
   },
   "outputs": [
    {
     "data": {
      "text/plain": [
       "LogisticRegression()"
      ]
     },
     "execution_count": 46,
     "metadata": {},
     "output_type": "execute_result"
    }
   ],
   "source": [
    "from sklearn.linear_model import LogisticRegression\n",
    "from sklearn.neighbors import KNeighborsClassifier\n",
    "from sklearn.naive_bayes import GaussianNB\n",
    "from sklearn.model_selection import cross_val_score,KFold\n",
    "LR=LogisticRegression()\n",
    "model1=LR.fit(xtrain,ytrain)\n",
    "model1\n"
   ]
  },
  {
   "cell_type": "code",
   "execution_count": 47,
   "metadata": {
    "colab": {
     "base_uri": "https://localhost:8080/"
    },
    "executionInfo": {
     "elapsed": 3066,
     "status": "ok",
     "timestamp": 1605623761753,
     "user": {
      "displayName": "GL Capstone Group 8",
      "photoUrl": "",
      "userId": "02048998563036872362"
     },
     "user_tz": -330
    },
    "id": "tlhl3hzU8tdQ",
    "outputId": "116f5c2d-f1b7-4233-fa3a-30f0ba40b19f"
   },
   "outputs": [
    {
     "name": "stdout",
     "output_type": "stream",
     "text": [
      "bias error: 0.06645509742501265 variance error: 0.0029121557412618696\n"
     ]
    }
   ],
   "source": [
    "from sklearn.model_selection import cross_val_score,GridSearchCV,KFold\n",
    "kf=KFold(n_splits=5,shuffle=True,random_state=0)\n",
    "score=cross_val_score(LR,x,y,cv=kf,scoring='roc_auc')\n",
    "print(\"bias error:\",(1-np.mean(score)),\"variance error:\",np.std(score,ddof=1))"
   ]
  },
  {
   "cell_type": "code",
   "execution_count": 48,
   "metadata": {
    "colab": {
     "base_uri": "https://localhost:8080/"
    },
    "executionInfo": {
     "elapsed": 2847,
     "status": "ok",
     "timestamp": 1605623761754,
     "user": {
      "displayName": "GL Capstone Group 8",
      "photoUrl": "",
      "userId": "02048998563036872362"
     },
     "user_tz": -330
    },
    "id": "RtLgyP1J-rfq",
    "outputId": "29c95d0d-77f7-48c4-ce93-7f79d7157f42"
   },
   "outputs": [
    {
     "name": "stdout",
     "output_type": "stream",
     "text": [
      "Accuracy of Logistic Regression base model= 87.77056277056276\n"
     ]
    },
    {
     "data": {
      "text/plain": [
       "array([[1552,  130],\n",
       "       [ 209,  881]], dtype=int64)"
      ]
     },
     "execution_count": 48,
     "metadata": {},
     "output_type": "execute_result"
    }
   ],
   "source": [
    "from sklearn.metrics import accuracy_score,confusion_matrix\n",
    "y_predicted=LR.predict(xtest)\n",
    "acc=accuracy_score(ytest,y_predicted)\n",
    "print(\"Accuracy of Logistic Regression base model=\",acc*100)\n",
    "cm=confusion_matrix(ytest,y_predicted)\n",
    "cm"
   ]
  },
  {
   "cell_type": "code",
   "execution_count": 49,
   "metadata": {
    "executionInfo": {
     "elapsed": 2592,
     "status": "ok",
     "timestamp": 1605623761755,
     "user": {
      "displayName": "GL Capstone Group 8",
      "photoUrl": "",
      "userId": "02048998563036872362"
     },
     "user_tz": -330
    },
    "id": "SheOaHYeWv8U"
   },
   "outputs": [],
   "source": [
    "NB=GaussianNB()\n",
    "model3=NB.fit(xtrain,ytrain)\n"
   ]
  },
  {
   "cell_type": "code",
   "execution_count": 50,
   "metadata": {
    "colab": {
     "base_uri": "https://localhost:8080/"
    },
    "executionInfo": {
     "elapsed": 2392,
     "status": "ok",
     "timestamp": 1605623761756,
     "user": {
      "displayName": "GL Capstone Group 8",
      "photoUrl": "",
      "userId": "02048998563036872362"
     },
     "user_tz": -330
    },
    "id": "E7aFmrtEWv5g",
    "outputId": "b999db14-673c-4e36-a3ee-3241fe2b425b"
   },
   "outputs": [
    {
     "name": "stdout",
     "output_type": "stream",
     "text": [
      "Accuracy of Naive Bayes base model= 81.0966810966811\n"
     ]
    },
    {
     "data": {
      "text/plain": [
       "array([[1439,  243],\n",
       "       [ 281,  809]], dtype=int64)"
      ]
     },
     "execution_count": 50,
     "metadata": {},
     "output_type": "execute_result"
    }
   ],
   "source": [
    "from sklearn.metrics import accuracy_score,confusion_matrix\n",
    "y_predicted=NB.predict(xtest)\n",
    "acc=accuracy_score(ytest,y_predicted)\n",
    "print(\"Accuracy of Naive Bayes base model=\",acc*100)\n",
    "cm=confusion_matrix(ytest,y_predicted)\n",
    "cm"
   ]
  },
  {
   "cell_type": "code",
   "execution_count": 51,
   "metadata": {
    "colab": {
     "base_uri": "https://localhost:8080/"
    },
    "executionInfo": {
     "elapsed": 2176,
     "status": "ok",
     "timestamp": 1605623761757,
     "user": {
      "displayName": "GL Capstone Group 8",
      "photoUrl": "",
      "userId": "02048998563036872362"
     },
     "user_tz": -330
    },
    "id": "AiGqVLwO-L7p",
    "outputId": "3275c2c1-6fd9-4b85-9300-e8bea564d6f2"
   },
   "outputs": [
    {
     "name": "stdout",
     "output_type": "stream",
     "text": [
      "bias error: 0.12982003364426764 variance error: 0.006986148349882503\n"
     ]
    }
   ],
   "source": [
    "from sklearn.model_selection import cross_val_score,GridSearchCV,KFold\n",
    "kf=KFold(n_splits=5,shuffle=True,random_state=0)\n",
    "score=cross_val_score(NB,x,y,cv=kf,scoring='roc_auc')\n",
    "print(\"bias error:\",(1-np.mean(score)),\"variance error:\",np.std(score,ddof=1))"
   ]
  },
  {
   "cell_type": "code",
   "execution_count": 52,
   "metadata": {
    "executionInfo": {
     "elapsed": 1970,
     "status": "ok",
     "timestamp": 1605623761758,
     "user": {
      "displayName": "GL Capstone Group 8",
      "photoUrl": "",
      "userId": "02048998563036872362"
     },
     "user_tz": -330
    },
    "id": "8QyZejSSWv2n"
   },
   "outputs": [],
   "source": [
    "from sklearn.tree import DecisionTreeClassifier\n",
    "dt=DecisionTreeClassifier(random_state=0)\n",
    "model4=dt.fit(xtrain,ytrain)"
   ]
  },
  {
   "cell_type": "code",
   "execution_count": 53,
   "metadata": {
    "colab": {
     "base_uri": "https://localhost:8080/"
    },
    "executionInfo": {
     "elapsed": 1683,
     "status": "ok",
     "timestamp": 1605623761759,
     "user": {
      "displayName": "GL Capstone Group 8",
      "photoUrl": "",
      "userId": "02048998563036872362"
     },
     "user_tz": -330
    },
    "id": "z1VlQD1fWvxr",
    "outputId": "6546cedc-9192-4b23-c281-ff5bf51e7598"
   },
   "outputs": [
    {
     "name": "stdout",
     "output_type": "stream",
     "text": [
      "Accuracy of Decission Tree base model= 84.88455988455989\n"
     ]
    },
    {
     "data": {
      "text/plain": [
       "array([[1475,  207],\n",
       "       [ 212,  878]], dtype=int64)"
      ]
     },
     "execution_count": 53,
     "metadata": {},
     "output_type": "execute_result"
    }
   ],
   "source": [
    "from sklearn.metrics import accuracy_score,confusion_matrix\n",
    "y_predicted=dt.predict(xtest)\n",
    "acc=accuracy_score(ytest,y_predicted)\n",
    "print(\"Accuracy of Decission Tree base model=\",acc*100)\n",
    "cm=confusion_matrix(ytest,y_predicted)\n",
    "cm"
   ]
  },
  {
   "cell_type": "code",
   "execution_count": 54,
   "metadata": {
    "colab": {
     "base_uri": "https://localhost:8080/"
    },
    "executionInfo": {
     "elapsed": 1467,
     "status": "ok",
     "timestamp": 1605623761759,
     "user": {
      "displayName": "GL Capstone Group 8",
      "photoUrl": "",
      "userId": "02048998563036872362"
     },
     "user_tz": -330
    },
    "id": "rWMvkste-TkP",
    "outputId": "f59bf8fb-7797-40ba-9ac9-e802f2b5a0a1"
   },
   "outputs": [
    {
     "name": "stdout",
     "output_type": "stream",
     "text": [
      "bias error: 0.15288428625230954 variance error: 0.013686796370829838\n"
     ]
    }
   ],
   "source": [
    "from sklearn.model_selection import cross_val_score,GridSearchCV,KFold\n",
    "kf=KFold(n_splits=5,shuffle=True,random_state=0)\n",
    "score=cross_val_score(dt,x,y,cv=kf,scoring='roc_auc')\n",
    "print(\"bias error:\",(1-np.mean(score)),\"variance error:\",np.std(score,ddof=1))"
   ]
  },
  {
   "cell_type": "code",
   "execution_count": 55,
   "metadata": {
    "colab": {
     "base_uri": "https://localhost:8080/",
     "height": 137
    },
    "executionInfo": {
     "elapsed": 2030,
     "status": "ok",
     "timestamp": 1605623762577,
     "user": {
      "displayName": "GL Capstone Group 8",
      "photoUrl": "",
      "userId": "02048998563036872362"
     },
     "user_tz": -330
    },
    "id": "dvhhdgMEYs_z",
    "outputId": "1d76810b-34c4-4792-91d4-d23f0a9f9062"
   },
   "outputs": [
    {
     "data": {
      "text/html": [
       "<div>\n",
       "<style scoped>\n",
       "    .dataframe tbody tr th:only-of-type {\n",
       "        vertical-align: middle;\n",
       "    }\n",
       "\n",
       "    .dataframe tbody tr th {\n",
       "        vertical-align: top;\n",
       "    }\n",
       "\n",
       "    .dataframe thead th {\n",
       "        text-align: right;\n",
       "    }\n",
       "</style>\n",
       "<table border=\"1\" class=\"dataframe\">\n",
       "  <thead>\n",
       "    <tr style=\"text-align: right;\">\n",
       "      <th></th>\n",
       "      <th>Accuracy</th>\n",
       "    </tr>\n",
       "  </thead>\n",
       "  <tbody>\n",
       "    <tr>\n",
       "      <th>LogisticRegression</th>\n",
       "      <td>87</td>\n",
       "    </tr>\n",
       "    <tr>\n",
       "      <th>GaussianNB</th>\n",
       "      <td>82</td>\n",
       "    </tr>\n",
       "    <tr>\n",
       "      <th>DecisionTree</th>\n",
       "      <td>86</td>\n",
       "    </tr>\n",
       "  </tbody>\n",
       "</table>\n",
       "</div>"
      ],
      "text/plain": [
       "                    Accuracy\n",
       "LogisticRegression        87\n",
       "GaussianNB                82\n",
       "DecisionTree              86"
      ]
     },
     "execution_count": 55,
     "metadata": {},
     "output_type": "execute_result"
    }
   ],
   "source": [
    "u=[87,82,86]\n",
    "#b=pd.concat(a)\n",
    "l=['LogisticRegression','GaussianNB','DecisionTree']\n",
    "h=pd.DataFrame(data=u,index=l,columns=['Accuracy'])\n",
    "h.head()"
   ]
  },
  {
   "cell_type": "code",
   "execution_count": 56,
   "metadata": {
    "colab": {
     "base_uri": "https://localhost:8080/",
     "height": 264
    },
    "executionInfo": {
     "elapsed": 1833,
     "status": "ok",
     "timestamp": 1605623762581,
     "user": {
      "displayName": "GL Capstone Group 8",
      "photoUrl": "",
      "userId": "02048998563036872362"
     },
     "user_tz": -330
    },
    "id": "qJneGPy2Ys8M",
    "outputId": "c7a902aa-45c7-42cc-db40-7d78bc46874f"
   },
   "outputs": [
    {
     "data": {
      "image/png": "[encoded data removed]",
      "text/plain": [
       "<Figure size 432x288 with 1 Axes>"
      ]
     },
     "metadata": {
      "needs_background": "light"
     },
     "output_type": "display_data"
    }
   ],
   "source": [
    "sns.lineplot(y=h['Accuracy'],x=h.index,marker='o')\n",
    "plt.show()"
   ]
  },
  {
   "cell_type": "code",
   "execution_count": 57,
   "metadata": {
    "colab": {
     "base_uri": "https://localhost:8080/"
    },
    "executionInfo": {
     "elapsed": 1710,
     "status": "ok",
     "timestamp": 1605623763348,
     "user": {
      "displayName": "GL Capstone Group 8",
      "photoUrl": "",
      "userId": "02048998563036872362"
     },
     "user_tz": -330
    },
    "id": "XCKUFL3hYs4h",
    "outputId": "3e8b7fa4-e3d0-4ac5-b5b2-a759344fd938"
   },
   "outputs": [
    {
     "data": {
      "text/plain": [
       "['LogisticRegression', 'GaussianNB', 'DecisionTree']"
      ]
     },
     "execution_count": 57,
     "metadata": {},
     "output_type": "execute_result"
    }
   ],
   "source": [
    "BE=[0.06971378025644392,0.12647517678497588,0.15343311294270046]\n",
    "VE=[0.0050639719710028445,0.0057819258576719615,0.012268556938324416]\n",
    "l"
   ]
  },
  {
   "cell_type": "code",
   "execution_count": 58,
   "metadata": {
    "colab": {
     "base_uri": "https://localhost:8080/",
     "height": 281
    },
    "executionInfo": {
     "elapsed": 1311,
     "status": "ok",
     "timestamp": 1605623763351,
     "user": {
      "displayName": "GL Capstone Group 8",
      "photoUrl": "",
      "userId": "02048998563036872362"
     },
     "user_tz": -330
    },
    "id": "wYqdmZ2YYs1C",
    "outputId": "18abf419-a473-40bf-d596-91c9973a2090"
   },
   "outputs": [
    {
     "data": {
      "image/png": "[encoded data removed]",
      "text/plain": [
       "<Figure size 432x288 with 1 Axes>"
      ]
     },
     "metadata": {
      "needs_background": "light"
     },
     "output_type": "display_data"
    }
   ],
   "source": [
    "d={'Accuracy':[87,82,86],'BE':[0.06971378025644392,0.12647517678497588,0.15343311294270046],'VE':[0.0050639719710028445,0.0057819258576719615,0.012268556938324416]}\n",
    "R=pd.DataFrame(d,index=l)\n",
    "R\n",
    "sns.lineplot(y=R['Accuracy'],x=R.index,marker='o')\n",
    "plt.title(\"Accuracy Score of Base Model\")\n",
    "plt.show()"
   ]
  },
  {
   "cell_type": "code",
   "execution_count": 59,
   "metadata": {
    "colab": {
     "base_uri": "https://localhost:8080/",
     "height": 544
    },
    "executionInfo": {
     "elapsed": 2087,
     "status": "ok",
     "timestamp": 1605623764979,
     "user": {
      "displayName": "GL Capstone Group 8",
      "photoUrl": "",
      "userId": "02048998563036872362"
     },
     "user_tz": -330
    },
    "id": "prQV6jc1Ysqh",
    "outputId": "1fbd028a-93b1-4594-ccb4-dbab0935db14"
   },
   "outputs": [
    {
     "data": {
      "image/png": "[encoded data removed]",
      "text/plain": [
       "<Figure size 432x288 with 1 Axes>"
      ]
     },
     "metadata": {
      "needs_background": "light"
     },
     "output_type": "display_data"
    },
    {
     "data": {
      "image/png": "[encoded data removed]",
      "text/plain": [
       "<Figure size 432x288 with 1 Axes>"
      ]
     },
     "metadata": {
      "needs_background": "light"
     },
     "output_type": "display_data"
    }
   ],
   "source": [
    "sns.lineplot(y=R['BE'],x=R.index,marker='o')\n",
    "plt.title(\"Bias Error of Base Model\")\n",
    "plt.show()\n",
    "sns.lineplot(y=R['VE'],x=R.index,marker='o')\n",
    "plt.title(\"Variance Error of Base Model\")\n",
    "plt.show()"
   ]
  },
  {
   "cell_type": "code",
   "execution_count": 60,
   "metadata": {
    "colab": {
     "base_uri": "https://localhost:8080/"
    },
    "executionInfo": {
     "elapsed": 1118,
     "status": "ok",
     "timestamp": 1605623764981,
     "user": {
      "displayName": "GL Capstone Group 8",
      "photoUrl": "",
      "userId": "02048998563036872362"
     },
     "user_tz": -330
    },
    "id": "8sI9ZvvY-rao",
    "outputId": "6ff13afd-27c1-413e-e944-3974bea772c9"
   },
   "outputs": [
    {
     "data": {
      "text/plain": [
       "Index(['total_visits', 'total_time_spent_on_website', 'page_views_per_visit',\n",
       "       'converted', 'lead_origin', 'lead_source', 'last_activity',\n",
       "       'specialization', 'how_did_you_hear_about_x_education',\n",
       "       'what_is_your_current_occupation', 'tags', 'lead_quality',\n",
       "       'lead_profile', 'city', 'last_notable_activity', 'do_not_email',\n",
       "       'country', 'a_free_copy_of_mastering_the_interview',\n",
       "       'what_matters_most_to_you_in_choosing_a_course'],\n",
       "      dtype='object')"
      ]
     },
     "execution_count": 60,
     "metadata": {},
     "output_type": "execute_result"
    }
   ],
   "source": [
    "LS2.columns"
   ]
  },
  {
   "cell_type": "markdown",
   "metadata": {},
   "source": [
    "## VIF"
   ]
  },
  {
   "cell_type": "code",
   "execution_count": 61,
   "metadata": {
    "id": "lnIcKfWype5E"
   },
   "outputs": [
    {
     "data": {
      "text/html": [
       "<div>\n",
       "<style scoped>\n",
       "    .dataframe tbody tr th:only-of-type {\n",
       "        vertical-align: middle;\n",
       "    }\n",
       "\n",
       "    .dataframe tbody tr th {\n",
       "        vertical-align: top;\n",
       "    }\n",
       "\n",
       "    .dataframe thead th {\n",
       "        text-align: right;\n",
       "    }\n",
       "</style>\n",
       "<table border=\"1\" class=\"dataframe\">\n",
       "  <thead>\n",
       "    <tr style=\"text-align: right;\">\n",
       "      <th></th>\n",
       "      <th>VIF</th>\n",
       "      <th>Features</th>\n",
       "    </tr>\n",
       "  </thead>\n",
       "  <tbody>\n",
       "    <tr>\n",
       "      <th>5</th>\n",
       "      <td>inf</td>\n",
       "      <td>lead_origin_Lead Add Form</td>\n",
       "    </tr>\n",
       "    <tr>\n",
       "      <th>10</th>\n",
       "      <td>inf</td>\n",
       "      <td>lead_source_Reference</td>\n",
       "    </tr>\n",
       "    <tr>\n",
       "      <th>4</th>\n",
       "      <td>38.803042</td>\n",
       "      <td>lead_origin_Landing Page Submission</td>\n",
       "    </tr>\n",
       "    <tr>\n",
       "      <th>48</th>\n",
       "      <td>34.466654</td>\n",
       "      <td>last_notable_activity_Email Opened</td>\n",
       "    </tr>\n",
       "    <tr>\n",
       "      <th>50</th>\n",
       "      <td>34.208510</td>\n",
       "      <td>last_notable_activity_Modified</td>\n",
       "    </tr>\n",
       "    <tr>\n",
       "      <th>...</th>\n",
       "      <td>...</td>\n",
       "      <td>...</td>\n",
       "    </tr>\n",
       "    <tr>\n",
       "      <th>44</th>\n",
       "      <td>1.140719</td>\n",
       "      <td>city_Other Metro Cities</td>\n",
       "    </tr>\n",
       "    <tr>\n",
       "      <th>56</th>\n",
       "      <td>1.075527</td>\n",
       "      <td>last_notable_activity_others</td>\n",
       "    </tr>\n",
       "    <tr>\n",
       "      <th>58</th>\n",
       "      <td>1.072628</td>\n",
       "      <td>country_Non Indian</td>\n",
       "    </tr>\n",
       "    <tr>\n",
       "      <th>46</th>\n",
       "      <td>1.038243</td>\n",
       "      <td>city_Tier II Cities</td>\n",
       "    </tr>\n",
       "    <tr>\n",
       "      <th>60</th>\n",
       "      <td>1.009356</td>\n",
       "      <td>what_matters_most_to_you_in_choosing_a_course_...</td>\n",
       "    </tr>\n",
       "  </tbody>\n",
       "</table>\n",
       "<p>61 rows × 2 columns</p>\n",
       "</div>"
      ],
      "text/plain": [
       "          VIF                                           Features\n",
       "5         inf                          lead_origin_Lead Add Form\n",
       "10        inf                              lead_source_Reference\n",
       "4   38.803042                lead_origin_Landing Page Submission\n",
       "48  34.466654                 last_notable_activity_Email Opened\n",
       "50  34.208510                     last_notable_activity_Modified\n",
       "..        ...                                                ...\n",
       "44   1.140719                            city_Other Metro Cities\n",
       "56   1.075527                       last_notable_activity_others\n",
       "58   1.072628                                 country_Non Indian\n",
       "46   1.038243                                city_Tier II Cities\n",
       "60   1.009356  what_matters_most_to_you_in_choosing_a_course_...\n",
       "\n",
       "[61 rows x 2 columns]"
      ]
     },
     "execution_count": 61,
     "metadata": {},
     "output_type": "execute_result"
    }
   ],
   "source": [
    "from statsmodels.stats.outliers_influence import variance_inflation_factor\n",
    "vif=pd.DataFrame()\n",
    "vif['VIF']=[variance_inflation_factor(df1.values,i)for i in range(df1.shape[1])]\n",
    "vif['VIF']\n",
    "vif['Features']=df1.columns\n",
    "vif.sort_values('VIF',ascending=False)"
   ]
  },
  {
   "cell_type": "code",
   "execution_count": 62,
   "metadata": {},
   "outputs": [],
   "source": [
    "vif_df = LS2.drop(['do_not_email','page_views_per_visit','country','city','what_matters_most_to_you_in_choosing_a_course','a_free_copy_of_mastering_the_interview'],axis=1)"
   ]
  },
  {
   "cell_type": "code",
   "execution_count": 63,
   "metadata": {},
   "outputs": [],
   "source": [
    "Cat=[]\n",
    "for i in vif_df.columns:\n",
    "    if vif_df[i].dtype=='object':\n",
    "        Cat.append(i)\n",
    "vif_df_LS2=pd.get_dummies(data=vif_df,drop_first=True)"
   ]
  },
  {
   "cell_type": "code",
   "execution_count": 64,
   "metadata": {},
   "outputs": [
    {
     "data": {
      "text/html": [
       "<div>\n",
       "<style scoped>\n",
       "    .dataframe tbody tr th:only-of-type {\n",
       "        vertical-align: middle;\n",
       "    }\n",
       "\n",
       "    .dataframe tbody tr th {\n",
       "        vertical-align: top;\n",
       "    }\n",
       "\n",
       "    .dataframe thead th {\n",
       "        text-align: right;\n",
       "    }\n",
       "</style>\n",
       "<table border=\"1\" class=\"dataframe\">\n",
       "  <thead>\n",
       "    <tr style=\"text-align: right;\">\n",
       "      <th></th>\n",
       "      <th>lead_source_Reference</th>\n",
       "      <th>lead_origin_Lead Add Form</th>\n",
       "    </tr>\n",
       "  </thead>\n",
       "  <tbody>\n",
       "    <tr>\n",
       "      <th>0</th>\n",
       "      <td>0</td>\n",
       "      <td>0</td>\n",
       "    </tr>\n",
       "    <tr>\n",
       "      <th>1</th>\n",
       "      <td>0</td>\n",
       "      <td>0</td>\n",
       "    </tr>\n",
       "    <tr>\n",
       "      <th>2</th>\n",
       "      <td>0</td>\n",
       "      <td>0</td>\n",
       "    </tr>\n",
       "    <tr>\n",
       "      <th>3</th>\n",
       "      <td>0</td>\n",
       "      <td>0</td>\n",
       "    </tr>\n",
       "    <tr>\n",
       "      <th>4</th>\n",
       "      <td>0</td>\n",
       "      <td>0</td>\n",
       "    </tr>\n",
       "    <tr>\n",
       "      <th>...</th>\n",
       "      <td>...</td>\n",
       "      <td>...</td>\n",
       "    </tr>\n",
       "    <tr>\n",
       "      <th>145</th>\n",
       "      <td>0</td>\n",
       "      <td>0</td>\n",
       "    </tr>\n",
       "    <tr>\n",
       "      <th>146</th>\n",
       "      <td>0</td>\n",
       "      <td>0</td>\n",
       "    </tr>\n",
       "    <tr>\n",
       "      <th>147</th>\n",
       "      <td>0</td>\n",
       "      <td>0</td>\n",
       "    </tr>\n",
       "    <tr>\n",
       "      <th>148</th>\n",
       "      <td>0</td>\n",
       "      <td>0</td>\n",
       "    </tr>\n",
       "    <tr>\n",
       "      <th>149</th>\n",
       "      <td>0</td>\n",
       "      <td>0</td>\n",
       "    </tr>\n",
       "  </tbody>\n",
       "</table>\n",
       "<p>150 rows × 2 columns</p>\n",
       "</div>"
      ],
      "text/plain": [
       "     lead_source_Reference  lead_origin_Lead Add Form\n",
       "0                        0                          0\n",
       "1                        0                          0\n",
       "2                        0                          0\n",
       "3                        0                          0\n",
       "4                        0                          0\n",
       "..                     ...                        ...\n",
       "145                      0                          0\n",
       "146                      0                          0\n",
       "147                      0                          0\n",
       "148                      0                          0\n",
       "149                      0                          0\n",
       "\n",
       "[150 rows x 2 columns]"
      ]
     },
     "execution_count": 64,
     "metadata": {},
     "output_type": "execute_result"
    }
   ],
   "source": [
    "vif_df_LS2[['lead_source_Reference','lead_origin_Lead Add Form']].head(150)"
   ]
  },
  {
   "cell_type": "code",
   "execution_count": 65,
   "metadata": {},
   "outputs": [
    {
     "data": {
      "text/html": [
       "<div>\n",
       "<style scoped>\n",
       "    .dataframe tbody tr th:only-of-type {\n",
       "        vertical-align: middle;\n",
       "    }\n",
       "\n",
       "    .dataframe tbody tr th {\n",
       "        vertical-align: top;\n",
       "    }\n",
       "\n",
       "    .dataframe thead th {\n",
       "        text-align: right;\n",
       "    }\n",
       "</style>\n",
       "<table border=\"1\" class=\"dataframe\">\n",
       "  <thead>\n",
       "    <tr style=\"text-align: right;\">\n",
       "      <th></th>\n",
       "      <th>VIF</th>\n",
       "      <th>Features</th>\n",
       "    </tr>\n",
       "  </thead>\n",
       "  <tbody>\n",
       "    <tr>\n",
       "      <th>9</th>\n",
       "      <td>inf</td>\n",
       "      <td>lead_source_Reference</td>\n",
       "    </tr>\n",
       "    <tr>\n",
       "      <th>4</th>\n",
       "      <td>inf</td>\n",
       "      <td>lead_origin_Lead Add Form</td>\n",
       "    </tr>\n",
       "    <tr>\n",
       "      <th>3</th>\n",
       "      <td>36.408284</td>\n",
       "      <td>lead_origin_Landing Page Submission</td>\n",
       "    </tr>\n",
       "    <tr>\n",
       "      <th>42</th>\n",
       "      <td>33.969414</td>\n",
       "      <td>last_notable_activity_Email Opened</td>\n",
       "    </tr>\n",
       "    <tr>\n",
       "      <th>44</th>\n",
       "      <td>33.624657</td>\n",
       "      <td>last_notable_activity_Modified</td>\n",
       "    </tr>\n",
       "    <tr>\n",
       "      <th>28</th>\n",
       "      <td>28.446795</td>\n",
       "      <td>what_is_your_current_occupation_Unemployed</td>\n",
       "    </tr>\n",
       "    <tr>\n",
       "      <th>47</th>\n",
       "      <td>26.049906</td>\n",
       "      <td>last_notable_activity_SMS Sent</td>\n",
       "    </tr>\n",
       "    <tr>\n",
       "      <th>7</th>\n",
       "      <td>14.806803</td>\n",
       "      <td>lead_source_Olark Chat</td>\n",
       "    </tr>\n",
       "    <tr>\n",
       "      <th>11</th>\n",
       "      <td>14.376434</td>\n",
       "      <td>last_activity_Email Opened</td>\n",
       "    </tr>\n",
       "    <tr>\n",
       "      <th>37</th>\n",
       "      <td>12.499174</td>\n",
       "      <td>lead_quality_Not Sure</td>\n",
       "    </tr>\n",
       "    <tr>\n",
       "      <th>14</th>\n",
       "      <td>11.776939</td>\n",
       "      <td>last_activity_SMS Sent</td>\n",
       "    </tr>\n",
       "    <tr>\n",
       "      <th>6</th>\n",
       "      <td>9.354053</td>\n",
       "      <td>lead_source_Google</td>\n",
       "    </tr>\n",
       "    <tr>\n",
       "      <th>33</th>\n",
       "      <td>8.248389</td>\n",
       "      <td>tags_Will revert after reading the email</td>\n",
       "    </tr>\n",
       "    <tr>\n",
       "      <th>34</th>\n",
       "      <td>5.808847</td>\n",
       "      <td>tags_others</td>\n",
       "    </tr>\n",
       "    <tr>\n",
       "      <th>46</th>\n",
       "      <td>5.105833</td>\n",
       "      <td>last_notable_activity_Page Visited on Website</td>\n",
       "    </tr>\n",
       "    <tr>\n",
       "      <th>32</th>\n",
       "      <td>4.708719</td>\n",
       "      <td>tags_Ringing</td>\n",
       "    </tr>\n",
       "    <tr>\n",
       "      <th>0</th>\n",
       "      <td>4.624632</td>\n",
       "      <td>total_visits</td>\n",
       "    </tr>\n",
       "    <tr>\n",
       "      <th>29</th>\n",
       "      <td>4.422367</td>\n",
       "      <td>what_is_your_current_occupation_Working Profes...</td>\n",
       "    </tr>\n",
       "    <tr>\n",
       "      <th>24</th>\n",
       "      <td>4.352637</td>\n",
       "      <td>specialization_others</td>\n",
       "    </tr>\n",
       "    <tr>\n",
       "      <th>8</th>\n",
       "      <td>4.283763</td>\n",
       "      <td>lead_source_Organic Search</td>\n",
       "    </tr>\n",
       "    <tr>\n",
       "      <th>12</th>\n",
       "      <td>3.922290</td>\n",
       "      <td>last_activity_Olark Chat Conversation</td>\n",
       "    </tr>\n",
       "    <tr>\n",
       "      <th>39</th>\n",
       "      <td>3.896351</td>\n",
       "      <td>lead_profile_Potential Lead</td>\n",
       "    </tr>\n",
       "    <tr>\n",
       "      <th>2</th>\n",
       "      <td>3.769518</td>\n",
       "      <td>converted</td>\n",
       "    </tr>\n",
       "    <tr>\n",
       "      <th>18</th>\n",
       "      <td>3.743731</td>\n",
       "      <td>specialization_Finance Management</td>\n",
       "    </tr>\n",
       "    <tr>\n",
       "      <th>36</th>\n",
       "      <td>3.694423</td>\n",
       "      <td>lead_quality_Might be</td>\n",
       "    </tr>\n",
       "    <tr>\n",
       "      <th>13</th>\n",
       "      <td>3.618846</td>\n",
       "      <td>last_activity_Page Visited on Website</td>\n",
       "    </tr>\n",
       "    <tr>\n",
       "      <th>19</th>\n",
       "      <td>3.509972</td>\n",
       "      <td>specialization_Human Resource Management</td>\n",
       "    </tr>\n",
       "    <tr>\n",
       "      <th>15</th>\n",
       "      <td>3.404940</td>\n",
       "      <td>last_activity_others</td>\n",
       "    </tr>\n",
       "    <tr>\n",
       "      <th>21</th>\n",
       "      <td>3.361200</td>\n",
       "      <td>specialization_Marketing Management</td>\n",
       "    </tr>\n",
       "    <tr>\n",
       "      <th>45</th>\n",
       "      <td>3.069262</td>\n",
       "      <td>last_notable_activity_Olark Chat Conversation</td>\n",
       "    </tr>\n",
       "    <tr>\n",
       "      <th>1</th>\n",
       "      <td>2.759160</td>\n",
       "      <td>total_time_spent_on_website</td>\n",
       "    </tr>\n",
       "    <tr>\n",
       "      <th>10</th>\n",
       "      <td>2.698976</td>\n",
       "      <td>lead_source_others</td>\n",
       "    </tr>\n",
       "    <tr>\n",
       "      <th>41</th>\n",
       "      <td>2.680529</td>\n",
       "      <td>last_notable_activity_Email Link Clicked</td>\n",
       "    </tr>\n",
       "    <tr>\n",
       "      <th>38</th>\n",
       "      <td>2.529464</td>\n",
       "      <td>lead_quality_Worst</td>\n",
       "    </tr>\n",
       "    <tr>\n",
       "      <th>31</th>\n",
       "      <td>2.422673</td>\n",
       "      <td>tags_Interested in other courses</td>\n",
       "    </tr>\n",
       "    <tr>\n",
       "      <th>22</th>\n",
       "      <td>2.421229</td>\n",
       "      <td>specialization_Operations Management</td>\n",
       "    </tr>\n",
       "    <tr>\n",
       "      <th>16</th>\n",
       "      <td>2.084764</td>\n",
       "      <td>specialization_Business Administration</td>\n",
       "    </tr>\n",
       "    <tr>\n",
       "      <th>20</th>\n",
       "      <td>2.018935</td>\n",
       "      <td>specialization_IT Projects Management</td>\n",
       "    </tr>\n",
       "    <tr>\n",
       "      <th>23</th>\n",
       "      <td>2.004590</td>\n",
       "      <td>specialization_Supply Chain Management</td>\n",
       "    </tr>\n",
       "    <tr>\n",
       "      <th>35</th>\n",
       "      <td>1.968195</td>\n",
       "      <td>lead_quality_Low in Relevance</td>\n",
       "    </tr>\n",
       "    <tr>\n",
       "      <th>40</th>\n",
       "      <td>1.741975</td>\n",
       "      <td>lead_profile_others</td>\n",
       "    </tr>\n",
       "    <tr>\n",
       "      <th>5</th>\n",
       "      <td>1.615351</td>\n",
       "      <td>lead_origin_others</td>\n",
       "    </tr>\n",
       "    <tr>\n",
       "      <th>49</th>\n",
       "      <td>1.474644</td>\n",
       "      <td>last_notable_activity_Unsubscribed</td>\n",
       "    </tr>\n",
       "    <tr>\n",
       "      <th>48</th>\n",
       "      <td>1.320047</td>\n",
       "      <td>last_notable_activity_Unreachable</td>\n",
       "    </tr>\n",
       "    <tr>\n",
       "      <th>30</th>\n",
       "      <td>1.167775</td>\n",
       "      <td>what_is_your_current_occupation_others</td>\n",
       "    </tr>\n",
       "    <tr>\n",
       "      <th>17</th>\n",
       "      <td>1.160424</td>\n",
       "      <td>specialization_E-Business</td>\n",
       "    </tr>\n",
       "    <tr>\n",
       "      <th>27</th>\n",
       "      <td>1.137836</td>\n",
       "      <td>how_did_you_hear_about_x_education_others</td>\n",
       "    </tr>\n",
       "    <tr>\n",
       "      <th>43</th>\n",
       "      <td>1.128262</td>\n",
       "      <td>last_notable_activity_Had a Phone Conversation</td>\n",
       "    </tr>\n",
       "    <tr>\n",
       "      <th>26</th>\n",
       "      <td>1.090323</td>\n",
       "      <td>how_did_you_hear_about_x_education_Word Of Mouth</td>\n",
       "    </tr>\n",
       "    <tr>\n",
       "      <th>25</th>\n",
       "      <td>1.080612</td>\n",
       "      <td>how_did_you_hear_about_x_education_Student of ...</td>\n",
       "    </tr>\n",
       "    <tr>\n",
       "      <th>50</th>\n",
       "      <td>1.070619</td>\n",
       "      <td>last_notable_activity_others</td>\n",
       "    </tr>\n",
       "  </tbody>\n",
       "</table>\n",
       "</div>"
      ],
      "text/plain": [
       "          VIF                                           Features\n",
       "9         inf                              lead_source_Reference\n",
       "4         inf                          lead_origin_Lead Add Form\n",
       "3   36.408284                lead_origin_Landing Page Submission\n",
       "42  33.969414                 last_notable_activity_Email Opened\n",
       "44  33.624657                     last_notable_activity_Modified\n",
       "28  28.446795         what_is_your_current_occupation_Unemployed\n",
       "47  26.049906                     last_notable_activity_SMS Sent\n",
       "7   14.806803                             lead_source_Olark Chat\n",
       "11  14.376434                         last_activity_Email Opened\n",
       "37  12.499174                              lead_quality_Not Sure\n",
       "14  11.776939                             last_activity_SMS Sent\n",
       "6    9.354053                                 lead_source_Google\n",
       "33   8.248389           tags_Will revert after reading the email\n",
       "34   5.808847                                        tags_others\n",
       "46   5.105833      last_notable_activity_Page Visited on Website\n",
       "32   4.708719                                       tags_Ringing\n",
       "0    4.624632                                       total_visits\n",
       "29   4.422367  what_is_your_current_occupation_Working Profes...\n",
       "24   4.352637                              specialization_others\n",
       "8    4.283763                         lead_source_Organic Search\n",
       "12   3.922290              last_activity_Olark Chat Conversation\n",
       "39   3.896351                        lead_profile_Potential Lead\n",
       "2    3.769518                                          converted\n",
       "18   3.743731                  specialization_Finance Management\n",
       "36   3.694423                              lead_quality_Might be\n",
       "13   3.618846              last_activity_Page Visited on Website\n",
       "19   3.509972           specialization_Human Resource Management\n",
       "15   3.404940                               last_activity_others\n",
       "21   3.361200                specialization_Marketing Management\n",
       "45   3.069262      last_notable_activity_Olark Chat Conversation\n",
       "1    2.759160                        total_time_spent_on_website\n",
       "10   2.698976                                 lead_source_others\n",
       "41   2.680529           last_notable_activity_Email Link Clicked\n",
       "38   2.529464                                 lead_quality_Worst\n",
       "31   2.422673                   tags_Interested in other courses\n",
       "22   2.421229               specialization_Operations Management\n",
       "16   2.084764             specialization_Business Administration\n",
       "20   2.018935              specialization_IT Projects Management\n",
       "23   2.004590             specialization_Supply Chain Management\n",
       "35   1.968195                      lead_quality_Low in Relevance\n",
       "40   1.741975                                lead_profile_others\n",
       "5    1.615351                                 lead_origin_others\n",
       "49   1.474644                 last_notable_activity_Unsubscribed\n",
       "48   1.320047                  last_notable_activity_Unreachable\n",
       "30   1.167775             what_is_your_current_occupation_others\n",
       "17   1.160424                          specialization_E-Business\n",
       "27   1.137836          how_did_you_hear_about_x_education_others\n",
       "43   1.128262     last_notable_activity_Had a Phone Conversation\n",
       "26   1.090323   how_did_you_hear_about_x_education_Word Of Mouth\n",
       "25   1.080612  how_did_you_hear_about_x_education_Student of ...\n",
       "50   1.070619                       last_notable_activity_others"
      ]
     },
     "execution_count": 65,
     "metadata": {},
     "output_type": "execute_result"
    }
   ],
   "source": [
    "from statsmodels.stats.outliers_influence import variance_inflation_factor\n",
    "vif=pd.DataFrame()\n",
    "vif['VIF']=[variance_inflation_factor(vif_df_LS2.values,i)for i in range(vif_df_LS2.shape[1])]\n",
    "vif['VIF']\n",
    "vif['Features']=vif_df_LS2.columns\n",
    "vif.sort_values('VIF',ascending=False)"
   ]
  },
  {
   "cell_type": "markdown",
   "metadata": {},
   "source": [
    "### Dropping lead_source_Reference and keeping lead_origin_Lead Add Form"
   ]
  },
  {
   "cell_type": "code",
   "execution_count": 66,
   "metadata": {},
   "outputs": [
    {
     "data": {
      "text/html": [
       "<div>\n",
       "<style scoped>\n",
       "    .dataframe tbody tr th:only-of-type {\n",
       "        vertical-align: middle;\n",
       "    }\n",
       "\n",
       "    .dataframe tbody tr th {\n",
       "        vertical-align: top;\n",
       "    }\n",
       "\n",
       "    .dataframe thead th {\n",
       "        text-align: right;\n",
       "    }\n",
       "</style>\n",
       "<table border=\"1\" class=\"dataframe\">\n",
       "  <thead>\n",
       "    <tr style=\"text-align: right;\">\n",
       "      <th></th>\n",
       "      <th>VIF</th>\n",
       "      <th>Features</th>\n",
       "    </tr>\n",
       "  </thead>\n",
       "  <tbody>\n",
       "    <tr>\n",
       "      <th>3</th>\n",
       "      <td>36.408284</td>\n",
       "      <td>lead_origin_Landing Page Submission</td>\n",
       "    </tr>\n",
       "    <tr>\n",
       "      <th>41</th>\n",
       "      <td>33.969414</td>\n",
       "      <td>last_notable_activity_Email Opened</td>\n",
       "    </tr>\n",
       "    <tr>\n",
       "      <th>43</th>\n",
       "      <td>33.624657</td>\n",
       "      <td>last_notable_activity_Modified</td>\n",
       "    </tr>\n",
       "    <tr>\n",
       "      <th>27</th>\n",
       "      <td>28.446795</td>\n",
       "      <td>what_is_your_current_occupation_Unemployed</td>\n",
       "    </tr>\n",
       "    <tr>\n",
       "      <th>46</th>\n",
       "      <td>26.049906</td>\n",
       "      <td>last_notable_activity_SMS Sent</td>\n",
       "    </tr>\n",
       "    <tr>\n",
       "      <th>7</th>\n",
       "      <td>14.806803</td>\n",
       "      <td>lead_source_Olark Chat</td>\n",
       "    </tr>\n",
       "    <tr>\n",
       "      <th>10</th>\n",
       "      <td>14.376434</td>\n",
       "      <td>last_activity_Email Opened</td>\n",
       "    </tr>\n",
       "    <tr>\n",
       "      <th>36</th>\n",
       "      <td>12.499174</td>\n",
       "      <td>lead_quality_Not Sure</td>\n",
       "    </tr>\n",
       "    <tr>\n",
       "      <th>13</th>\n",
       "      <td>11.776939</td>\n",
       "      <td>last_activity_SMS Sent</td>\n",
       "    </tr>\n",
       "    <tr>\n",
       "      <th>6</th>\n",
       "      <td>9.354053</td>\n",
       "      <td>lead_source_Google</td>\n",
       "    </tr>\n",
       "    <tr>\n",
       "      <th>32</th>\n",
       "      <td>8.248389</td>\n",
       "      <td>tags_Will revert after reading the email</td>\n",
       "    </tr>\n",
       "    <tr>\n",
       "      <th>4</th>\n",
       "      <td>6.858542</td>\n",
       "      <td>lead_origin_Lead Add Form</td>\n",
       "    </tr>\n",
       "    <tr>\n",
       "      <th>33</th>\n",
       "      <td>5.808847</td>\n",
       "      <td>tags_others</td>\n",
       "    </tr>\n",
       "    <tr>\n",
       "      <th>45</th>\n",
       "      <td>5.105833</td>\n",
       "      <td>last_notable_activity_Page Visited on Website</td>\n",
       "    </tr>\n",
       "    <tr>\n",
       "      <th>31</th>\n",
       "      <td>4.708719</td>\n",
       "      <td>tags_Ringing</td>\n",
       "    </tr>\n",
       "    <tr>\n",
       "      <th>0</th>\n",
       "      <td>4.624632</td>\n",
       "      <td>total_visits</td>\n",
       "    </tr>\n",
       "    <tr>\n",
       "      <th>28</th>\n",
       "      <td>4.422367</td>\n",
       "      <td>what_is_your_current_occupation_Working Profes...</td>\n",
       "    </tr>\n",
       "    <tr>\n",
       "      <th>23</th>\n",
       "      <td>4.352637</td>\n",
       "      <td>specialization_others</td>\n",
       "    </tr>\n",
       "    <tr>\n",
       "      <th>8</th>\n",
       "      <td>4.283763</td>\n",
       "      <td>lead_source_Organic Search</td>\n",
       "    </tr>\n",
       "    <tr>\n",
       "      <th>11</th>\n",
       "      <td>3.922290</td>\n",
       "      <td>last_activity_Olark Chat Conversation</td>\n",
       "    </tr>\n",
       "    <tr>\n",
       "      <th>38</th>\n",
       "      <td>3.896351</td>\n",
       "      <td>lead_profile_Potential Lead</td>\n",
       "    </tr>\n",
       "    <tr>\n",
       "      <th>2</th>\n",
       "      <td>3.769518</td>\n",
       "      <td>converted</td>\n",
       "    </tr>\n",
       "    <tr>\n",
       "      <th>17</th>\n",
       "      <td>3.743731</td>\n",
       "      <td>specialization_Finance Management</td>\n",
       "    </tr>\n",
       "    <tr>\n",
       "      <th>35</th>\n",
       "      <td>3.694423</td>\n",
       "      <td>lead_quality_Might be</td>\n",
       "    </tr>\n",
       "    <tr>\n",
       "      <th>12</th>\n",
       "      <td>3.618846</td>\n",
       "      <td>last_activity_Page Visited on Website</td>\n",
       "    </tr>\n",
       "    <tr>\n",
       "      <th>18</th>\n",
       "      <td>3.509972</td>\n",
       "      <td>specialization_Human Resource Management</td>\n",
       "    </tr>\n",
       "    <tr>\n",
       "      <th>14</th>\n",
       "      <td>3.404940</td>\n",
       "      <td>last_activity_others</td>\n",
       "    </tr>\n",
       "    <tr>\n",
       "      <th>20</th>\n",
       "      <td>3.361200</td>\n",
       "      <td>specialization_Marketing Management</td>\n",
       "    </tr>\n",
       "    <tr>\n",
       "      <th>44</th>\n",
       "      <td>3.069262</td>\n",
       "      <td>last_notable_activity_Olark Chat Conversation</td>\n",
       "    </tr>\n",
       "    <tr>\n",
       "      <th>1</th>\n",
       "      <td>2.759160</td>\n",
       "      <td>total_time_spent_on_website</td>\n",
       "    </tr>\n",
       "    <tr>\n",
       "      <th>9</th>\n",
       "      <td>2.698976</td>\n",
       "      <td>lead_source_others</td>\n",
       "    </tr>\n",
       "    <tr>\n",
       "      <th>40</th>\n",
       "      <td>2.680529</td>\n",
       "      <td>last_notable_activity_Email Link Clicked</td>\n",
       "    </tr>\n",
       "    <tr>\n",
       "      <th>37</th>\n",
       "      <td>2.529464</td>\n",
       "      <td>lead_quality_Worst</td>\n",
       "    </tr>\n",
       "    <tr>\n",
       "      <th>30</th>\n",
       "      <td>2.422673</td>\n",
       "      <td>tags_Interested in other courses</td>\n",
       "    </tr>\n",
       "    <tr>\n",
       "      <th>21</th>\n",
       "      <td>2.421229</td>\n",
       "      <td>specialization_Operations Management</td>\n",
       "    </tr>\n",
       "    <tr>\n",
       "      <th>15</th>\n",
       "      <td>2.084764</td>\n",
       "      <td>specialization_Business Administration</td>\n",
       "    </tr>\n",
       "    <tr>\n",
       "      <th>19</th>\n",
       "      <td>2.018935</td>\n",
       "      <td>specialization_IT Projects Management</td>\n",
       "    </tr>\n",
       "    <tr>\n",
       "      <th>22</th>\n",
       "      <td>2.004590</td>\n",
       "      <td>specialization_Supply Chain Management</td>\n",
       "    </tr>\n",
       "    <tr>\n",
       "      <th>34</th>\n",
       "      <td>1.968195</td>\n",
       "      <td>lead_quality_Low in Relevance</td>\n",
       "    </tr>\n",
       "    <tr>\n",
       "      <th>39</th>\n",
       "      <td>1.741975</td>\n",
       "      <td>lead_profile_others</td>\n",
       "    </tr>\n",
       "    <tr>\n",
       "      <th>5</th>\n",
       "      <td>1.615351</td>\n",
       "      <td>lead_origin_others</td>\n",
       "    </tr>\n",
       "    <tr>\n",
       "      <th>48</th>\n",
       "      <td>1.474644</td>\n",
       "      <td>last_notable_activity_Unsubscribed</td>\n",
       "    </tr>\n",
       "    <tr>\n",
       "      <th>47</th>\n",
       "      <td>1.320047</td>\n",
       "      <td>last_notable_activity_Unreachable</td>\n",
       "    </tr>\n",
       "    <tr>\n",
       "      <th>29</th>\n",
       "      <td>1.167775</td>\n",
       "      <td>what_is_your_current_occupation_others</td>\n",
       "    </tr>\n",
       "    <tr>\n",
       "      <th>16</th>\n",
       "      <td>1.160424</td>\n",
       "      <td>specialization_E-Business</td>\n",
       "    </tr>\n",
       "    <tr>\n",
       "      <th>26</th>\n",
       "      <td>1.137836</td>\n",
       "      <td>how_did_you_hear_about_x_education_others</td>\n",
       "    </tr>\n",
       "    <tr>\n",
       "      <th>42</th>\n",
       "      <td>1.128262</td>\n",
       "      <td>last_notable_activity_Had a Phone Conversation</td>\n",
       "    </tr>\n",
       "    <tr>\n",
       "      <th>25</th>\n",
       "      <td>1.090323</td>\n",
       "      <td>how_did_you_hear_about_x_education_Word Of Mouth</td>\n",
       "    </tr>\n",
       "    <tr>\n",
       "      <th>24</th>\n",
       "      <td>1.080612</td>\n",
       "      <td>how_did_you_hear_about_x_education_Student of ...</td>\n",
       "    </tr>\n",
       "    <tr>\n",
       "      <th>49</th>\n",
       "      <td>1.070619</td>\n",
       "      <td>last_notable_activity_others</td>\n",
       "    </tr>\n",
       "  </tbody>\n",
       "</table>\n",
       "</div>"
      ],
      "text/plain": [
       "          VIF                                           Features\n",
       "3   36.408284                lead_origin_Landing Page Submission\n",
       "41  33.969414                 last_notable_activity_Email Opened\n",
       "43  33.624657                     last_notable_activity_Modified\n",
       "27  28.446795         what_is_your_current_occupation_Unemployed\n",
       "46  26.049906                     last_notable_activity_SMS Sent\n",
       "7   14.806803                             lead_source_Olark Chat\n",
       "10  14.376434                         last_activity_Email Opened\n",
       "36  12.499174                              lead_quality_Not Sure\n",
       "13  11.776939                             last_activity_SMS Sent\n",
       "6    9.354053                                 lead_source_Google\n",
       "32   8.248389           tags_Will revert after reading the email\n",
       "4    6.858542                          lead_origin_Lead Add Form\n",
       "33   5.808847                                        tags_others\n",
       "45   5.105833      last_notable_activity_Page Visited on Website\n",
       "31   4.708719                                       tags_Ringing\n",
       "0    4.624632                                       total_visits\n",
       "28   4.422367  what_is_your_current_occupation_Working Profes...\n",
       "23   4.352637                              specialization_others\n",
       "8    4.283763                         lead_source_Organic Search\n",
       "11   3.922290              last_activity_Olark Chat Conversation\n",
       "38   3.896351                        lead_profile_Potential Lead\n",
       "2    3.769518                                          converted\n",
       "17   3.743731                  specialization_Finance Management\n",
       "35   3.694423                              lead_quality_Might be\n",
       "12   3.618846              last_activity_Page Visited on Website\n",
       "18   3.509972           specialization_Human Resource Management\n",
       "14   3.404940                               last_activity_others\n",
       "20   3.361200                specialization_Marketing Management\n",
       "44   3.069262      last_notable_activity_Olark Chat Conversation\n",
       "1    2.759160                        total_time_spent_on_website\n",
       "9    2.698976                                 lead_source_others\n",
       "40   2.680529           last_notable_activity_Email Link Clicked\n",
       "37   2.529464                                 lead_quality_Worst\n",
       "30   2.422673                   tags_Interested in other courses\n",
       "21   2.421229               specialization_Operations Management\n",
       "15   2.084764             specialization_Business Administration\n",
       "19   2.018935              specialization_IT Projects Management\n",
       "22   2.004590             specialization_Supply Chain Management\n",
       "34   1.968195                      lead_quality_Low in Relevance\n",
       "39   1.741975                                lead_profile_others\n",
       "5    1.615351                                 lead_origin_others\n",
       "48   1.474644                 last_notable_activity_Unsubscribed\n",
       "47   1.320047                  last_notable_activity_Unreachable\n",
       "29   1.167775             what_is_your_current_occupation_others\n",
       "16   1.160424                          specialization_E-Business\n",
       "26   1.137836          how_did_you_hear_about_x_education_others\n",
       "42   1.128262     last_notable_activity_Had a Phone Conversation\n",
       "25   1.090323   how_did_you_hear_about_x_education_Word Of Mouth\n",
       "24   1.080612  how_did_you_hear_about_x_education_Student of ...\n",
       "49   1.070619                       last_notable_activity_others"
      ]
     },
     "execution_count": 66,
     "metadata": {},
     "output_type": "execute_result"
    }
   ],
   "source": [
    "vif_df_LS2_dropping_reference = vif_df_LS2.drop('lead_source_Reference',axis=1)\n",
    "\n",
    "from statsmodels.stats.outliers_influence import variance_inflation_factor\n",
    "vif=pd.DataFrame()\n",
    "vif['VIF']=[variance_inflation_factor(vif_df_LS2_dropping_reference.values,i)for i in range(vif_df_LS2_dropping_reference.shape[1])]\n",
    "vif['VIF']\n",
    "vif['Features']=vif_df_LS2_dropping_reference.columns\n",
    "vif.sort_values('VIF',ascending=False)"
   ]
  },
  {
   "cell_type": "markdown",
   "metadata": {},
   "source": [
    "### Dropping lead_origin_Lead Add Form  and keeping lead_source_Reference"
   ]
  },
  {
   "cell_type": "code",
   "execution_count": 67,
   "metadata": {},
   "outputs": [
    {
     "data": {
      "text/html": [
       "<div>\n",
       "<style scoped>\n",
       "    .dataframe tbody tr th:only-of-type {\n",
       "        vertical-align: middle;\n",
       "    }\n",
       "\n",
       "    .dataframe tbody tr th {\n",
       "        vertical-align: top;\n",
       "    }\n",
       "\n",
       "    .dataframe thead th {\n",
       "        text-align: right;\n",
       "    }\n",
       "</style>\n",
       "<table border=\"1\" class=\"dataframe\">\n",
       "  <thead>\n",
       "    <tr style=\"text-align: right;\">\n",
       "      <th></th>\n",
       "      <th>VIF</th>\n",
       "      <th>Features</th>\n",
       "    </tr>\n",
       "  </thead>\n",
       "  <tbody>\n",
       "    <tr>\n",
       "      <th>3</th>\n",
       "      <td>36.408284</td>\n",
       "      <td>lead_origin_Landing Page Submission</td>\n",
       "    </tr>\n",
       "    <tr>\n",
       "      <th>41</th>\n",
       "      <td>33.969414</td>\n",
       "      <td>last_notable_activity_Email Opened</td>\n",
       "    </tr>\n",
       "    <tr>\n",
       "      <th>43</th>\n",
       "      <td>33.624657</td>\n",
       "      <td>last_notable_activity_Modified</td>\n",
       "    </tr>\n",
       "    <tr>\n",
       "      <th>27</th>\n",
       "      <td>28.446795</td>\n",
       "      <td>what_is_your_current_occupation_Unemployed</td>\n",
       "    </tr>\n",
       "    <tr>\n",
       "      <th>46</th>\n",
       "      <td>26.049906</td>\n",
       "      <td>last_notable_activity_SMS Sent</td>\n",
       "    </tr>\n",
       "    <tr>\n",
       "      <th>6</th>\n",
       "      <td>14.806803</td>\n",
       "      <td>lead_source_Olark Chat</td>\n",
       "    </tr>\n",
       "    <tr>\n",
       "      <th>10</th>\n",
       "      <td>14.376434</td>\n",
       "      <td>last_activity_Email Opened</td>\n",
       "    </tr>\n",
       "    <tr>\n",
       "      <th>36</th>\n",
       "      <td>12.499174</td>\n",
       "      <td>lead_quality_Not Sure</td>\n",
       "    </tr>\n",
       "    <tr>\n",
       "      <th>13</th>\n",
       "      <td>11.776939</td>\n",
       "      <td>last_activity_SMS Sent</td>\n",
       "    </tr>\n",
       "    <tr>\n",
       "      <th>5</th>\n",
       "      <td>9.354053</td>\n",
       "      <td>lead_source_Google</td>\n",
       "    </tr>\n",
       "    <tr>\n",
       "      <th>32</th>\n",
       "      <td>8.248389</td>\n",
       "      <td>tags_Will revert after reading the email</td>\n",
       "    </tr>\n",
       "    <tr>\n",
       "      <th>8</th>\n",
       "      <td>6.858542</td>\n",
       "      <td>lead_source_Reference</td>\n",
       "    </tr>\n",
       "    <tr>\n",
       "      <th>33</th>\n",
       "      <td>5.808847</td>\n",
       "      <td>tags_others</td>\n",
       "    </tr>\n",
       "    <tr>\n",
       "      <th>45</th>\n",
       "      <td>5.105833</td>\n",
       "      <td>last_notable_activity_Page Visited on Website</td>\n",
       "    </tr>\n",
       "    <tr>\n",
       "      <th>31</th>\n",
       "      <td>4.708719</td>\n",
       "      <td>tags_Ringing</td>\n",
       "    </tr>\n",
       "    <tr>\n",
       "      <th>0</th>\n",
       "      <td>4.624632</td>\n",
       "      <td>total_visits</td>\n",
       "    </tr>\n",
       "    <tr>\n",
       "      <th>28</th>\n",
       "      <td>4.422367</td>\n",
       "      <td>what_is_your_current_occupation_Working Profes...</td>\n",
       "    </tr>\n",
       "    <tr>\n",
       "      <th>23</th>\n",
       "      <td>4.352637</td>\n",
       "      <td>specialization_others</td>\n",
       "    </tr>\n",
       "    <tr>\n",
       "      <th>7</th>\n",
       "      <td>4.283763</td>\n",
       "      <td>lead_source_Organic Search</td>\n",
       "    </tr>\n",
       "    <tr>\n",
       "      <th>11</th>\n",
       "      <td>3.922290</td>\n",
       "      <td>last_activity_Olark Chat Conversation</td>\n",
       "    </tr>\n",
       "    <tr>\n",
       "      <th>38</th>\n",
       "      <td>3.896351</td>\n",
       "      <td>lead_profile_Potential Lead</td>\n",
       "    </tr>\n",
       "    <tr>\n",
       "      <th>2</th>\n",
       "      <td>3.769518</td>\n",
       "      <td>converted</td>\n",
       "    </tr>\n",
       "    <tr>\n",
       "      <th>17</th>\n",
       "      <td>3.743731</td>\n",
       "      <td>specialization_Finance Management</td>\n",
       "    </tr>\n",
       "    <tr>\n",
       "      <th>35</th>\n",
       "      <td>3.694423</td>\n",
       "      <td>lead_quality_Might be</td>\n",
       "    </tr>\n",
       "    <tr>\n",
       "      <th>12</th>\n",
       "      <td>3.618846</td>\n",
       "      <td>last_activity_Page Visited on Website</td>\n",
       "    </tr>\n",
       "    <tr>\n",
       "      <th>18</th>\n",
       "      <td>3.509972</td>\n",
       "      <td>specialization_Human Resource Management</td>\n",
       "    </tr>\n",
       "    <tr>\n",
       "      <th>14</th>\n",
       "      <td>3.404940</td>\n",
       "      <td>last_activity_others</td>\n",
       "    </tr>\n",
       "    <tr>\n",
       "      <th>20</th>\n",
       "      <td>3.361200</td>\n",
       "      <td>specialization_Marketing Management</td>\n",
       "    </tr>\n",
       "    <tr>\n",
       "      <th>44</th>\n",
       "      <td>3.069262</td>\n",
       "      <td>last_notable_activity_Olark Chat Conversation</td>\n",
       "    </tr>\n",
       "    <tr>\n",
       "      <th>1</th>\n",
       "      <td>2.759160</td>\n",
       "      <td>total_time_spent_on_website</td>\n",
       "    </tr>\n",
       "    <tr>\n",
       "      <th>9</th>\n",
       "      <td>2.698976</td>\n",
       "      <td>lead_source_others</td>\n",
       "    </tr>\n",
       "    <tr>\n",
       "      <th>40</th>\n",
       "      <td>2.680529</td>\n",
       "      <td>last_notable_activity_Email Link Clicked</td>\n",
       "    </tr>\n",
       "    <tr>\n",
       "      <th>37</th>\n",
       "      <td>2.529464</td>\n",
       "      <td>lead_quality_Worst</td>\n",
       "    </tr>\n",
       "    <tr>\n",
       "      <th>30</th>\n",
       "      <td>2.422673</td>\n",
       "      <td>tags_Interested in other courses</td>\n",
       "    </tr>\n",
       "    <tr>\n",
       "      <th>21</th>\n",
       "      <td>2.421229</td>\n",
       "      <td>specialization_Operations Management</td>\n",
       "    </tr>\n",
       "    <tr>\n",
       "      <th>15</th>\n",
       "      <td>2.084764</td>\n",
       "      <td>specialization_Business Administration</td>\n",
       "    </tr>\n",
       "    <tr>\n",
       "      <th>19</th>\n",
       "      <td>2.018935</td>\n",
       "      <td>specialization_IT Projects Management</td>\n",
       "    </tr>\n",
       "    <tr>\n",
       "      <th>22</th>\n",
       "      <td>2.004590</td>\n",
       "      <td>specialization_Supply Chain Management</td>\n",
       "    </tr>\n",
       "    <tr>\n",
       "      <th>34</th>\n",
       "      <td>1.968195</td>\n",
       "      <td>lead_quality_Low in Relevance</td>\n",
       "    </tr>\n",
       "    <tr>\n",
       "      <th>39</th>\n",
       "      <td>1.741975</td>\n",
       "      <td>lead_profile_others</td>\n",
       "    </tr>\n",
       "    <tr>\n",
       "      <th>4</th>\n",
       "      <td>1.615351</td>\n",
       "      <td>lead_origin_others</td>\n",
       "    </tr>\n",
       "    <tr>\n",
       "      <th>48</th>\n",
       "      <td>1.474644</td>\n",
       "      <td>last_notable_activity_Unsubscribed</td>\n",
       "    </tr>\n",
       "    <tr>\n",
       "      <th>47</th>\n",
       "      <td>1.320047</td>\n",
       "      <td>last_notable_activity_Unreachable</td>\n",
       "    </tr>\n",
       "    <tr>\n",
       "      <th>29</th>\n",
       "      <td>1.167775</td>\n",
       "      <td>what_is_your_current_occupation_others</td>\n",
       "    </tr>\n",
       "    <tr>\n",
       "      <th>16</th>\n",
       "      <td>1.160424</td>\n",
       "      <td>specialization_E-Business</td>\n",
       "    </tr>\n",
       "    <tr>\n",
       "      <th>26</th>\n",
       "      <td>1.137836</td>\n",
       "      <td>how_did_you_hear_about_x_education_others</td>\n",
       "    </tr>\n",
       "    <tr>\n",
       "      <th>42</th>\n",
       "      <td>1.128262</td>\n",
       "      <td>last_notable_activity_Had a Phone Conversation</td>\n",
       "    </tr>\n",
       "    <tr>\n",
       "      <th>25</th>\n",
       "      <td>1.090323</td>\n",
       "      <td>how_did_you_hear_about_x_education_Word Of Mouth</td>\n",
       "    </tr>\n",
       "    <tr>\n",
       "      <th>24</th>\n",
       "      <td>1.080612</td>\n",
       "      <td>how_did_you_hear_about_x_education_Student of ...</td>\n",
       "    </tr>\n",
       "    <tr>\n",
       "      <th>49</th>\n",
       "      <td>1.070619</td>\n",
       "      <td>last_notable_activity_others</td>\n",
       "    </tr>\n",
       "  </tbody>\n",
       "</table>\n",
       "</div>"
      ],
      "text/plain": [
       "          VIF                                           Features\n",
       "3   36.408284                lead_origin_Landing Page Submission\n",
       "41  33.969414                 last_notable_activity_Email Opened\n",
       "43  33.624657                     last_notable_activity_Modified\n",
       "27  28.446795         what_is_your_current_occupation_Unemployed\n",
       "46  26.049906                     last_notable_activity_SMS Sent\n",
       "6   14.806803                             lead_source_Olark Chat\n",
       "10  14.376434                         last_activity_Email Opened\n",
       "36  12.499174                              lead_quality_Not Sure\n",
       "13  11.776939                             last_activity_SMS Sent\n",
       "5    9.354053                                 lead_source_Google\n",
       "32   8.248389           tags_Will revert after reading the email\n",
       "8    6.858542                              lead_source_Reference\n",
       "33   5.808847                                        tags_others\n",
       "45   5.105833      last_notable_activity_Page Visited on Website\n",
       "31   4.708719                                       tags_Ringing\n",
       "0    4.624632                                       total_visits\n",
       "28   4.422367  what_is_your_current_occupation_Working Profes...\n",
       "23   4.352637                              specialization_others\n",
       "7    4.283763                         lead_source_Organic Search\n",
       "11   3.922290              last_activity_Olark Chat Conversation\n",
       "38   3.896351                        lead_profile_Potential Lead\n",
       "2    3.769518                                          converted\n",
       "17   3.743731                  specialization_Finance Management\n",
       "35   3.694423                              lead_quality_Might be\n",
       "12   3.618846              last_activity_Page Visited on Website\n",
       "18   3.509972           specialization_Human Resource Management\n",
       "14   3.404940                               last_activity_others\n",
       "20   3.361200                specialization_Marketing Management\n",
       "44   3.069262      last_notable_activity_Olark Chat Conversation\n",
       "1    2.759160                        total_time_spent_on_website\n",
       "9    2.698976                                 lead_source_others\n",
       "40   2.680529           last_notable_activity_Email Link Clicked\n",
       "37   2.529464                                 lead_quality_Worst\n",
       "30   2.422673                   tags_Interested in other courses\n",
       "21   2.421229               specialization_Operations Management\n",
       "15   2.084764             specialization_Business Administration\n",
       "19   2.018935              specialization_IT Projects Management\n",
       "22   2.004590             specialization_Supply Chain Management\n",
       "34   1.968195                      lead_quality_Low in Relevance\n",
       "39   1.741975                                lead_profile_others\n",
       "4    1.615351                                 lead_origin_others\n",
       "48   1.474644                 last_notable_activity_Unsubscribed\n",
       "47   1.320047                  last_notable_activity_Unreachable\n",
       "29   1.167775             what_is_your_current_occupation_others\n",
       "16   1.160424                          specialization_E-Business\n",
       "26   1.137836          how_did_you_hear_about_x_education_others\n",
       "42   1.128262     last_notable_activity_Had a Phone Conversation\n",
       "25   1.090323   how_did_you_hear_about_x_education_Word Of Mouth\n",
       "24   1.080612  how_did_you_hear_about_x_education_Student of ...\n",
       "49   1.070619                       last_notable_activity_others"
      ]
     },
     "execution_count": 67,
     "metadata": {},
     "output_type": "execute_result"
    }
   ],
   "source": [
    "vif_df_LS2_drop_add_form = vif_df_LS2.drop('lead_origin_Lead Add Form',axis=1)\n",
    "\n",
    "from statsmodels.stats.outliers_influence import variance_inflation_factor\n",
    "vif=pd.DataFrame()\n",
    "vif['VIF']=[variance_inflation_factor(vif_df_LS2_drop_add_form.values,i)for i in range(vif_df_LS2_drop_add_form.shape[1])]\n",
    "vif['VIF']\n",
    "vif['Features']=vif_df_LS2_drop_add_form.columns\n",
    "vif.sort_values('VIF',ascending=False)"
   ]
  },
  {
   "cell_type": "markdown",
   "metadata": {},
   "source": [
    "<b> lead_origin_Lead Add Form and lead_source_Reference are mirrored values and this can also be confirmed by the VIF values.Hence dropping one of the columns"
   ]
  },
  {
   "cell_type": "markdown",
   "metadata": {},
   "source": [
    "#### Dropping lead_source_Reference"
   ]
  },
  {
   "cell_type": "code",
   "execution_count": 68,
   "metadata": {},
   "outputs": [
    {
     "data": {
      "text/html": [
       "<div>\n",
       "<style scoped>\n",
       "    .dataframe tbody tr th:only-of-type {\n",
       "        vertical-align: middle;\n",
       "    }\n",
       "\n",
       "    .dataframe tbody tr th {\n",
       "        vertical-align: top;\n",
       "    }\n",
       "\n",
       "    .dataframe thead th {\n",
       "        text-align: right;\n",
       "    }\n",
       "</style>\n",
       "<table border=\"1\" class=\"dataframe\">\n",
       "  <thead>\n",
       "    <tr style=\"text-align: right;\">\n",
       "      <th></th>\n",
       "      <th>VIF</th>\n",
       "      <th>Features</th>\n",
       "    </tr>\n",
       "  </thead>\n",
       "  <tbody>\n",
       "    <tr>\n",
       "      <th>3</th>\n",
       "      <td>36.408284</td>\n",
       "      <td>lead_origin_Landing Page Submission</td>\n",
       "    </tr>\n",
       "    <tr>\n",
       "      <th>41</th>\n",
       "      <td>33.969414</td>\n",
       "      <td>last_notable_activity_Email Opened</td>\n",
       "    </tr>\n",
       "    <tr>\n",
       "      <th>43</th>\n",
       "      <td>33.624657</td>\n",
       "      <td>last_notable_activity_Modified</td>\n",
       "    </tr>\n",
       "    <tr>\n",
       "      <th>27</th>\n",
       "      <td>28.446795</td>\n",
       "      <td>what_is_your_current_occupation_Unemployed</td>\n",
       "    </tr>\n",
       "    <tr>\n",
       "      <th>46</th>\n",
       "      <td>26.049906</td>\n",
       "      <td>last_notable_activity_SMS Sent</td>\n",
       "    </tr>\n",
       "    <tr>\n",
       "      <th>7</th>\n",
       "      <td>14.806803</td>\n",
       "      <td>lead_source_Olark Chat</td>\n",
       "    </tr>\n",
       "    <tr>\n",
       "      <th>10</th>\n",
       "      <td>14.376434</td>\n",
       "      <td>last_activity_Email Opened</td>\n",
       "    </tr>\n",
       "    <tr>\n",
       "      <th>36</th>\n",
       "      <td>12.499174</td>\n",
       "      <td>lead_quality_Not Sure</td>\n",
       "    </tr>\n",
       "    <tr>\n",
       "      <th>13</th>\n",
       "      <td>11.776939</td>\n",
       "      <td>last_activity_SMS Sent</td>\n",
       "    </tr>\n",
       "    <tr>\n",
       "      <th>6</th>\n",
       "      <td>9.354053</td>\n",
       "      <td>lead_source_Google</td>\n",
       "    </tr>\n",
       "    <tr>\n",
       "      <th>32</th>\n",
       "      <td>8.248389</td>\n",
       "      <td>tags_Will revert after reading the email</td>\n",
       "    </tr>\n",
       "    <tr>\n",
       "      <th>4</th>\n",
       "      <td>6.858542</td>\n",
       "      <td>lead_origin_Lead Add Form</td>\n",
       "    </tr>\n",
       "    <tr>\n",
       "      <th>33</th>\n",
       "      <td>5.808847</td>\n",
       "      <td>tags_others</td>\n",
       "    </tr>\n",
       "    <tr>\n",
       "      <th>45</th>\n",
       "      <td>5.105833</td>\n",
       "      <td>last_notable_activity_Page Visited on Website</td>\n",
       "    </tr>\n",
       "    <tr>\n",
       "      <th>31</th>\n",
       "      <td>4.708719</td>\n",
       "      <td>tags_Ringing</td>\n",
       "    </tr>\n",
       "    <tr>\n",
       "      <th>0</th>\n",
       "      <td>4.624632</td>\n",
       "      <td>total_visits</td>\n",
       "    </tr>\n",
       "    <tr>\n",
       "      <th>28</th>\n",
       "      <td>4.422367</td>\n",
       "      <td>what_is_your_current_occupation_Working Profes...</td>\n",
       "    </tr>\n",
       "    <tr>\n",
       "      <th>23</th>\n",
       "      <td>4.352637</td>\n",
       "      <td>specialization_others</td>\n",
       "    </tr>\n",
       "    <tr>\n",
       "      <th>8</th>\n",
       "      <td>4.283763</td>\n",
       "      <td>lead_source_Organic Search</td>\n",
       "    </tr>\n",
       "    <tr>\n",
       "      <th>11</th>\n",
       "      <td>3.922290</td>\n",
       "      <td>last_activity_Olark Chat Conversation</td>\n",
       "    </tr>\n",
       "    <tr>\n",
       "      <th>38</th>\n",
       "      <td>3.896351</td>\n",
       "      <td>lead_profile_Potential Lead</td>\n",
       "    </tr>\n",
       "    <tr>\n",
       "      <th>2</th>\n",
       "      <td>3.769518</td>\n",
       "      <td>converted</td>\n",
       "    </tr>\n",
       "    <tr>\n",
       "      <th>17</th>\n",
       "      <td>3.743731</td>\n",
       "      <td>specialization_Finance Management</td>\n",
       "    </tr>\n",
       "    <tr>\n",
       "      <th>35</th>\n",
       "      <td>3.694423</td>\n",
       "      <td>lead_quality_Might be</td>\n",
       "    </tr>\n",
       "    <tr>\n",
       "      <th>12</th>\n",
       "      <td>3.618846</td>\n",
       "      <td>last_activity_Page Visited on Website</td>\n",
       "    </tr>\n",
       "    <tr>\n",
       "      <th>18</th>\n",
       "      <td>3.509972</td>\n",
       "      <td>specialization_Human Resource Management</td>\n",
       "    </tr>\n",
       "    <tr>\n",
       "      <th>14</th>\n",
       "      <td>3.404940</td>\n",
       "      <td>last_activity_others</td>\n",
       "    </tr>\n",
       "    <tr>\n",
       "      <th>20</th>\n",
       "      <td>3.361200</td>\n",
       "      <td>specialization_Marketing Management</td>\n",
       "    </tr>\n",
       "    <tr>\n",
       "      <th>44</th>\n",
       "      <td>3.069262</td>\n",
       "      <td>last_notable_activity_Olark Chat Conversation</td>\n",
       "    </tr>\n",
       "    <tr>\n",
       "      <th>1</th>\n",
       "      <td>2.759160</td>\n",
       "      <td>total_time_spent_on_website</td>\n",
       "    </tr>\n",
       "    <tr>\n",
       "      <th>9</th>\n",
       "      <td>2.698976</td>\n",
       "      <td>lead_source_others</td>\n",
       "    </tr>\n",
       "    <tr>\n",
       "      <th>40</th>\n",
       "      <td>2.680529</td>\n",
       "      <td>last_notable_activity_Email Link Clicked</td>\n",
       "    </tr>\n",
       "    <tr>\n",
       "      <th>37</th>\n",
       "      <td>2.529464</td>\n",
       "      <td>lead_quality_Worst</td>\n",
       "    </tr>\n",
       "    <tr>\n",
       "      <th>30</th>\n",
       "      <td>2.422673</td>\n",
       "      <td>tags_Interested in other courses</td>\n",
       "    </tr>\n",
       "    <tr>\n",
       "      <th>21</th>\n",
       "      <td>2.421229</td>\n",
       "      <td>specialization_Operations Management</td>\n",
       "    </tr>\n",
       "    <tr>\n",
       "      <th>15</th>\n",
       "      <td>2.084764</td>\n",
       "      <td>specialization_Business Administration</td>\n",
       "    </tr>\n",
       "    <tr>\n",
       "      <th>19</th>\n",
       "      <td>2.018935</td>\n",
       "      <td>specialization_IT Projects Management</td>\n",
       "    </tr>\n",
       "    <tr>\n",
       "      <th>22</th>\n",
       "      <td>2.004590</td>\n",
       "      <td>specialization_Supply Chain Management</td>\n",
       "    </tr>\n",
       "    <tr>\n",
       "      <th>34</th>\n",
       "      <td>1.968195</td>\n",
       "      <td>lead_quality_Low in Relevance</td>\n",
       "    </tr>\n",
       "    <tr>\n",
       "      <th>39</th>\n",
       "      <td>1.741975</td>\n",
       "      <td>lead_profile_others</td>\n",
       "    </tr>\n",
       "    <tr>\n",
       "      <th>5</th>\n",
       "      <td>1.615351</td>\n",
       "      <td>lead_origin_others</td>\n",
       "    </tr>\n",
       "    <tr>\n",
       "      <th>48</th>\n",
       "      <td>1.474644</td>\n",
       "      <td>last_notable_activity_Unsubscribed</td>\n",
       "    </tr>\n",
       "    <tr>\n",
       "      <th>47</th>\n",
       "      <td>1.320047</td>\n",
       "      <td>last_notable_activity_Unreachable</td>\n",
       "    </tr>\n",
       "    <tr>\n",
       "      <th>29</th>\n",
       "      <td>1.167775</td>\n",
       "      <td>what_is_your_current_occupation_others</td>\n",
       "    </tr>\n",
       "    <tr>\n",
       "      <th>16</th>\n",
       "      <td>1.160424</td>\n",
       "      <td>specialization_E-Business</td>\n",
       "    </tr>\n",
       "    <tr>\n",
       "      <th>26</th>\n",
       "      <td>1.137836</td>\n",
       "      <td>how_did_you_hear_about_x_education_others</td>\n",
       "    </tr>\n",
       "    <tr>\n",
       "      <th>42</th>\n",
       "      <td>1.128262</td>\n",
       "      <td>last_notable_activity_Had a Phone Conversation</td>\n",
       "    </tr>\n",
       "    <tr>\n",
       "      <th>25</th>\n",
       "      <td>1.090323</td>\n",
       "      <td>how_did_you_hear_about_x_education_Word Of Mouth</td>\n",
       "    </tr>\n",
       "    <tr>\n",
       "      <th>24</th>\n",
       "      <td>1.080612</td>\n",
       "      <td>how_did_you_hear_about_x_education_Student of ...</td>\n",
       "    </tr>\n",
       "    <tr>\n",
       "      <th>49</th>\n",
       "      <td>1.070619</td>\n",
       "      <td>last_notable_activity_others</td>\n",
       "    </tr>\n",
       "  </tbody>\n",
       "</table>\n",
       "</div>"
      ],
      "text/plain": [
       "          VIF                                           Features\n",
       "3   36.408284                lead_origin_Landing Page Submission\n",
       "41  33.969414                 last_notable_activity_Email Opened\n",
       "43  33.624657                     last_notable_activity_Modified\n",
       "27  28.446795         what_is_your_current_occupation_Unemployed\n",
       "46  26.049906                     last_notable_activity_SMS Sent\n",
       "7   14.806803                             lead_source_Olark Chat\n",
       "10  14.376434                         last_activity_Email Opened\n",
       "36  12.499174                              lead_quality_Not Sure\n",
       "13  11.776939                             last_activity_SMS Sent\n",
       "6    9.354053                                 lead_source_Google\n",
       "32   8.248389           tags_Will revert after reading the email\n",
       "4    6.858542                          lead_origin_Lead Add Form\n",
       "33   5.808847                                        tags_others\n",
       "45   5.105833      last_notable_activity_Page Visited on Website\n",
       "31   4.708719                                       tags_Ringing\n",
       "0    4.624632                                       total_visits\n",
       "28   4.422367  what_is_your_current_occupation_Working Profes...\n",
       "23   4.352637                              specialization_others\n",
       "8    4.283763                         lead_source_Organic Search\n",
       "11   3.922290              last_activity_Olark Chat Conversation\n",
       "38   3.896351                        lead_profile_Potential Lead\n",
       "2    3.769518                                          converted\n",
       "17   3.743731                  specialization_Finance Management\n",
       "35   3.694423                              lead_quality_Might be\n",
       "12   3.618846              last_activity_Page Visited on Website\n",
       "18   3.509972           specialization_Human Resource Management\n",
       "14   3.404940                               last_activity_others\n",
       "20   3.361200                specialization_Marketing Management\n",
       "44   3.069262      last_notable_activity_Olark Chat Conversation\n",
       "1    2.759160                        total_time_spent_on_website\n",
       "9    2.698976                                 lead_source_others\n",
       "40   2.680529           last_notable_activity_Email Link Clicked\n",
       "37   2.529464                                 lead_quality_Worst\n",
       "30   2.422673                   tags_Interested in other courses\n",
       "21   2.421229               specialization_Operations Management\n",
       "15   2.084764             specialization_Business Administration\n",
       "19   2.018935              specialization_IT Projects Management\n",
       "22   2.004590             specialization_Supply Chain Management\n",
       "34   1.968195                      lead_quality_Low in Relevance\n",
       "39   1.741975                                lead_profile_others\n",
       "5    1.615351                                 lead_origin_others\n",
       "48   1.474644                 last_notable_activity_Unsubscribed\n",
       "47   1.320047                  last_notable_activity_Unreachable\n",
       "29   1.167775             what_is_your_current_occupation_others\n",
       "16   1.160424                          specialization_E-Business\n",
       "26   1.137836          how_did_you_hear_about_x_education_others\n",
       "42   1.128262     last_notable_activity_Had a Phone Conversation\n",
       "25   1.090323   how_did_you_hear_about_x_education_Word Of Mouth\n",
       "24   1.080612  how_did_you_hear_about_x_education_Student of ...\n",
       "49   1.070619                       last_notable_activity_others"
      ]
     },
     "execution_count": 68,
     "metadata": {},
     "output_type": "execute_result"
    }
   ],
   "source": [
    "vif_df_LS2 = vif_df_LS2.drop('lead_source_Reference',axis=1)\n",
    "\n",
    "vif=pd.DataFrame()\n",
    "vif['VIF']=[variance_inflation_factor(vif_df_LS2.values,i)for i in range(vif_df_LS2.shape[1])]\n",
    "vif['VIF']\n",
    "vif['Features']=vif_df_LS2.columns\n",
    "vif.sort_values('VIF',ascending=False)"
   ]
  },
  {
   "cell_type": "markdown",
   "metadata": {},
   "source": [
    "#### Dropping lead_origin_Landing Page Submission"
   ]
  },
  {
   "cell_type": "code",
   "execution_count": 69,
   "metadata": {},
   "outputs": [
    {
     "data": {
      "text/html": [
       "<div>\n",
       "<style scoped>\n",
       "    .dataframe tbody tr th:only-of-type {\n",
       "        vertical-align: middle;\n",
       "    }\n",
       "\n",
       "    .dataframe tbody tr th {\n",
       "        vertical-align: top;\n",
       "    }\n",
       "\n",
       "    .dataframe thead th {\n",
       "        text-align: right;\n",
       "    }\n",
       "</style>\n",
       "<table border=\"1\" class=\"dataframe\">\n",
       "  <thead>\n",
       "    <tr style=\"text-align: right;\">\n",
       "      <th></th>\n",
       "      <th>VIF</th>\n",
       "      <th>Features</th>\n",
       "    </tr>\n",
       "  </thead>\n",
       "  <tbody>\n",
       "    <tr>\n",
       "      <th>26</th>\n",
       "      <td>27.841065</td>\n",
       "      <td>what_is_your_current_occupation_Unemployed</td>\n",
       "    </tr>\n",
       "    <tr>\n",
       "      <th>40</th>\n",
       "      <td>26.384871</td>\n",
       "      <td>last_notable_activity_Email Opened</td>\n",
       "    </tr>\n",
       "    <tr>\n",
       "      <th>42</th>\n",
       "      <td>24.576207</td>\n",
       "      <td>last_notable_activity_Modified</td>\n",
       "    </tr>\n",
       "    <tr>\n",
       "      <th>45</th>\n",
       "      <td>20.372060</td>\n",
       "      <td>last_notable_activity_SMS Sent</td>\n",
       "    </tr>\n",
       "    <tr>\n",
       "      <th>9</th>\n",
       "      <td>14.222437</td>\n",
       "      <td>last_activity_Email Opened</td>\n",
       "    </tr>\n",
       "    <tr>\n",
       "      <th>35</th>\n",
       "      <td>12.297741</td>\n",
       "      <td>lead_quality_Not Sure</td>\n",
       "    </tr>\n",
       "    <tr>\n",
       "      <th>12</th>\n",
       "      <td>11.636850</td>\n",
       "      <td>last_activity_SMS Sent</td>\n",
       "    </tr>\n",
       "    <tr>\n",
       "      <th>31</th>\n",
       "      <td>8.168921</td>\n",
       "      <td>tags_Will revert after reading the email</td>\n",
       "    </tr>\n",
       "    <tr>\n",
       "      <th>32</th>\n",
       "      <td>5.742685</td>\n",
       "      <td>tags_others</td>\n",
       "    </tr>\n",
       "    <tr>\n",
       "      <th>30</th>\n",
       "      <td>4.673422</td>\n",
       "      <td>tags_Ringing</td>\n",
       "    </tr>\n",
       "    <tr>\n",
       "      <th>0</th>\n",
       "      <td>4.623906</td>\n",
       "      <td>total_visits</td>\n",
       "    </tr>\n",
       "    <tr>\n",
       "      <th>27</th>\n",
       "      <td>4.363600</td>\n",
       "      <td>what_is_your_current_occupation_Working Profes...</td>\n",
       "    </tr>\n",
       "    <tr>\n",
       "      <th>44</th>\n",
       "      <td>4.320095</td>\n",
       "      <td>last_notable_activity_Page Visited on Website</td>\n",
       "    </tr>\n",
       "    <tr>\n",
       "      <th>22</th>\n",
       "      <td>4.293943</td>\n",
       "      <td>specialization_others</td>\n",
       "    </tr>\n",
       "    <tr>\n",
       "      <th>10</th>\n",
       "      <td>3.899809</td>\n",
       "      <td>last_activity_Olark Chat Conversation</td>\n",
       "    </tr>\n",
       "    <tr>\n",
       "      <th>37</th>\n",
       "      <td>3.880438</td>\n",
       "      <td>lead_profile_Potential Lead</td>\n",
       "    </tr>\n",
       "    <tr>\n",
       "      <th>2</th>\n",
       "      <td>3.769183</td>\n",
       "      <td>converted</td>\n",
       "    </tr>\n",
       "    <tr>\n",
       "      <th>16</th>\n",
       "      <td>3.693465</td>\n",
       "      <td>specialization_Finance Management</td>\n",
       "    </tr>\n",
       "    <tr>\n",
       "      <th>34</th>\n",
       "      <td>3.640454</td>\n",
       "      <td>lead_quality_Might be</td>\n",
       "    </tr>\n",
       "    <tr>\n",
       "      <th>11</th>\n",
       "      <td>3.585151</td>\n",
       "      <td>last_activity_Page Visited on Website</td>\n",
       "    </tr>\n",
       "    <tr>\n",
       "      <th>17</th>\n",
       "      <td>3.465243</td>\n",
       "      <td>specialization_Human Resource Management</td>\n",
       "    </tr>\n",
       "    <tr>\n",
       "      <th>19</th>\n",
       "      <td>3.314876</td>\n",
       "      <td>specialization_Marketing Management</td>\n",
       "    </tr>\n",
       "    <tr>\n",
       "      <th>13</th>\n",
       "      <td>3.283383</td>\n",
       "      <td>last_activity_others</td>\n",
       "    </tr>\n",
       "    <tr>\n",
       "      <th>6</th>\n",
       "      <td>2.794941</td>\n",
       "      <td>lead_source_Olark Chat</td>\n",
       "    </tr>\n",
       "    <tr>\n",
       "      <th>1</th>\n",
       "      <td>2.757937</td>\n",
       "      <td>total_time_spent_on_website</td>\n",
       "    </tr>\n",
       "    <tr>\n",
       "      <th>43</th>\n",
       "      <td>2.568220</td>\n",
       "      <td>last_notable_activity_Olark Chat Conversation</td>\n",
       "    </tr>\n",
       "    <tr>\n",
       "      <th>36</th>\n",
       "      <td>2.464782</td>\n",
       "      <td>lead_quality_Worst</td>\n",
       "    </tr>\n",
       "    <tr>\n",
       "      <th>29</th>\n",
       "      <td>2.415119</td>\n",
       "      <td>tags_Interested in other courses</td>\n",
       "    </tr>\n",
       "    <tr>\n",
       "      <th>20</th>\n",
       "      <td>2.401125</td>\n",
       "      <td>specialization_Operations Management</td>\n",
       "    </tr>\n",
       "    <tr>\n",
       "      <th>39</th>\n",
       "      <td>2.309397</td>\n",
       "      <td>last_notable_activity_Email Link Clicked</td>\n",
       "    </tr>\n",
       "    <tr>\n",
       "      <th>14</th>\n",
       "      <td>2.063672</td>\n",
       "      <td>specialization_Business Administration</td>\n",
       "    </tr>\n",
       "    <tr>\n",
       "      <th>18</th>\n",
       "      <td>2.001916</td>\n",
       "      <td>specialization_IT Projects Management</td>\n",
       "    </tr>\n",
       "    <tr>\n",
       "      <th>21</th>\n",
       "      <td>1.983464</td>\n",
       "      <td>specialization_Supply Chain Management</td>\n",
       "    </tr>\n",
       "    <tr>\n",
       "      <th>33</th>\n",
       "      <td>1.947446</td>\n",
       "      <td>lead_quality_Low in Relevance</td>\n",
       "    </tr>\n",
       "    <tr>\n",
       "      <th>3</th>\n",
       "      <td>1.943900</td>\n",
       "      <td>lead_origin_Lead Add Form</td>\n",
       "    </tr>\n",
       "    <tr>\n",
       "      <th>38</th>\n",
       "      <td>1.731050</td>\n",
       "      <td>lead_profile_others</td>\n",
       "    </tr>\n",
       "    <tr>\n",
       "      <th>4</th>\n",
       "      <td>1.615166</td>\n",
       "      <td>lead_origin_others</td>\n",
       "    </tr>\n",
       "    <tr>\n",
       "      <th>8</th>\n",
       "      <td>1.614765</td>\n",
       "      <td>lead_source_others</td>\n",
       "    </tr>\n",
       "    <tr>\n",
       "      <th>47</th>\n",
       "      <td>1.372433</td>\n",
       "      <td>last_notable_activity_Unsubscribed</td>\n",
       "    </tr>\n",
       "    <tr>\n",
       "      <th>5</th>\n",
       "      <td>1.352493</td>\n",
       "      <td>lead_source_Google</td>\n",
       "    </tr>\n",
       "    <tr>\n",
       "      <th>46</th>\n",
       "      <td>1.246029</td>\n",
       "      <td>last_notable_activity_Unreachable</td>\n",
       "    </tr>\n",
       "    <tr>\n",
       "      <th>28</th>\n",
       "      <td>1.165685</td>\n",
       "      <td>what_is_your_current_occupation_others</td>\n",
       "    </tr>\n",
       "    <tr>\n",
       "      <th>15</th>\n",
       "      <td>1.158183</td>\n",
       "      <td>specialization_E-Business</td>\n",
       "    </tr>\n",
       "    <tr>\n",
       "      <th>25</th>\n",
       "      <td>1.134157</td>\n",
       "      <td>how_did_you_hear_about_x_education_others</td>\n",
       "    </tr>\n",
       "    <tr>\n",
       "      <th>7</th>\n",
       "      <td>1.130959</td>\n",
       "      <td>lead_source_Organic Search</td>\n",
       "    </tr>\n",
       "    <tr>\n",
       "      <th>41</th>\n",
       "      <td>1.108902</td>\n",
       "      <td>last_notable_activity_Had a Phone Conversation</td>\n",
       "    </tr>\n",
       "    <tr>\n",
       "      <th>24</th>\n",
       "      <td>1.087629</td>\n",
       "      <td>how_did_you_hear_about_x_education_Word Of Mouth</td>\n",
       "    </tr>\n",
       "    <tr>\n",
       "      <th>23</th>\n",
       "      <td>1.079146</td>\n",
       "      <td>how_did_you_hear_about_x_education_Student of ...</td>\n",
       "    </tr>\n",
       "    <tr>\n",
       "      <th>48</th>\n",
       "      <td>1.054169</td>\n",
       "      <td>last_notable_activity_others</td>\n",
       "    </tr>\n",
       "  </tbody>\n",
       "</table>\n",
       "</div>"
      ],
      "text/plain": [
       "          VIF                                           Features\n",
       "26  27.841065         what_is_your_current_occupation_Unemployed\n",
       "40  26.384871                 last_notable_activity_Email Opened\n",
       "42  24.576207                     last_notable_activity_Modified\n",
       "45  20.372060                     last_notable_activity_SMS Sent\n",
       "9   14.222437                         last_activity_Email Opened\n",
       "35  12.297741                              lead_quality_Not Sure\n",
       "12  11.636850                             last_activity_SMS Sent\n",
       "31   8.168921           tags_Will revert after reading the email\n",
       "32   5.742685                                        tags_others\n",
       "30   4.673422                                       tags_Ringing\n",
       "0    4.623906                                       total_visits\n",
       "27   4.363600  what_is_your_current_occupation_Working Profes...\n",
       "44   4.320095      last_notable_activity_Page Visited on Website\n",
       "22   4.293943                              specialization_others\n",
       "10   3.899809              last_activity_Olark Chat Conversation\n",
       "37   3.880438                        lead_profile_Potential Lead\n",
       "2    3.769183                                          converted\n",
       "16   3.693465                  specialization_Finance Management\n",
       "34   3.640454                              lead_quality_Might be\n",
       "11   3.585151              last_activity_Page Visited on Website\n",
       "17   3.465243           specialization_Human Resource Management\n",
       "19   3.314876                specialization_Marketing Management\n",
       "13   3.283383                               last_activity_others\n",
       "6    2.794941                             lead_source_Olark Chat\n",
       "1    2.757937                        total_time_spent_on_website\n",
       "43   2.568220      last_notable_activity_Olark Chat Conversation\n",
       "36   2.464782                                 lead_quality_Worst\n",
       "29   2.415119                   tags_Interested in other courses\n",
       "20   2.401125               specialization_Operations Management\n",
       "39   2.309397           last_notable_activity_Email Link Clicked\n",
       "14   2.063672             specialization_Business Administration\n",
       "18   2.001916              specialization_IT Projects Management\n",
       "21   1.983464             specialization_Supply Chain Management\n",
       "33   1.947446                      lead_quality_Low in Relevance\n",
       "3    1.943900                          lead_origin_Lead Add Form\n",
       "38   1.731050                                lead_profile_others\n",
       "4    1.615166                                 lead_origin_others\n",
       "8    1.614765                                 lead_source_others\n",
       "47   1.372433                 last_notable_activity_Unsubscribed\n",
       "5    1.352493                                 lead_source_Google\n",
       "46   1.246029                  last_notable_activity_Unreachable\n",
       "28   1.165685             what_is_your_current_occupation_others\n",
       "15   1.158183                          specialization_E-Business\n",
       "25   1.134157          how_did_you_hear_about_x_education_others\n",
       "7    1.130959                         lead_source_Organic Search\n",
       "41   1.108902     last_notable_activity_Had a Phone Conversation\n",
       "24   1.087629   how_did_you_hear_about_x_education_Word Of Mouth\n",
       "23   1.079146  how_did_you_hear_about_x_education_Student of ...\n",
       "48   1.054169                       last_notable_activity_others"
      ]
     },
     "execution_count": 69,
     "metadata": {},
     "output_type": "execute_result"
    }
   ],
   "source": [
    "vif_df_LS2 = vif_df_LS2.drop('lead_origin_Landing Page Submission',axis=1)\n",
    "\n",
    "vif=pd.DataFrame()\n",
    "vif['VIF']=[variance_inflation_factor(vif_df_LS2.values,i)for i in range(vif_df_LS2.shape[1])]\n",
    "vif['VIF']\n",
    "vif['Features']=vif_df_LS2.columns\n",
    "vif.sort_values('VIF',ascending=False)"
   ]
  },
  {
   "cell_type": "markdown",
   "metadata": {},
   "source": [
    "#### Dropping what_is_your_current_occupation_Unemployed"
   ]
  },
  {
   "cell_type": "code",
   "execution_count": 70,
   "metadata": {},
   "outputs": [
    {
     "data": {
      "text/html": [
       "<div>\n",
       "<style scoped>\n",
       "    .dataframe tbody tr th:only-of-type {\n",
       "        vertical-align: middle;\n",
       "    }\n",
       "\n",
       "    .dataframe tbody tr th {\n",
       "        vertical-align: top;\n",
       "    }\n",
       "\n",
       "    .dataframe thead th {\n",
       "        text-align: right;\n",
       "    }\n",
       "</style>\n",
       "<table border=\"1\" class=\"dataframe\">\n",
       "  <thead>\n",
       "    <tr style=\"text-align: right;\">\n",
       "      <th></th>\n",
       "      <th>VIF</th>\n",
       "      <th>Features</th>\n",
       "    </tr>\n",
       "  </thead>\n",
       "  <tbody>\n",
       "    <tr>\n",
       "      <th>39</th>\n",
       "      <td>23.128438</td>\n",
       "      <td>last_notable_activity_Email Opened</td>\n",
       "    </tr>\n",
       "    <tr>\n",
       "      <th>41</th>\n",
       "      <td>20.671051</td>\n",
       "      <td>last_notable_activity_Modified</td>\n",
       "    </tr>\n",
       "    <tr>\n",
       "      <th>44</th>\n",
       "      <td>17.885311</td>\n",
       "      <td>last_notable_activity_SMS Sent</td>\n",
       "    </tr>\n",
       "    <tr>\n",
       "      <th>9</th>\n",
       "      <td>14.180950</td>\n",
       "      <td>last_activity_Email Opened</td>\n",
       "    </tr>\n",
       "    <tr>\n",
       "      <th>34</th>\n",
       "      <td>12.187590</td>\n",
       "      <td>lead_quality_Not Sure</td>\n",
       "    </tr>\n",
       "    <tr>\n",
       "      <th>12</th>\n",
       "      <td>11.594499</td>\n",
       "      <td>last_activity_SMS Sent</td>\n",
       "    </tr>\n",
       "    <tr>\n",
       "      <th>30</th>\n",
       "      <td>7.891946</td>\n",
       "      <td>tags_Will revert after reading the email</td>\n",
       "    </tr>\n",
       "    <tr>\n",
       "      <th>31</th>\n",
       "      <td>5.447553</td>\n",
       "      <td>tags_others</td>\n",
       "    </tr>\n",
       "    <tr>\n",
       "      <th>0</th>\n",
       "      <td>4.620694</td>\n",
       "      <td>total_visits</td>\n",
       "    </tr>\n",
       "    <tr>\n",
       "      <th>29</th>\n",
       "      <td>4.447068</td>\n",
       "      <td>tags_Ringing</td>\n",
       "    </tr>\n",
       "    <tr>\n",
       "      <th>22</th>\n",
       "      <td>4.258365</td>\n",
       "      <td>specialization_others</td>\n",
       "    </tr>\n",
       "    <tr>\n",
       "      <th>43</th>\n",
       "      <td>3.967131</td>\n",
       "      <td>last_notable_activity_Page Visited on Website</td>\n",
       "    </tr>\n",
       "    <tr>\n",
       "      <th>10</th>\n",
       "      <td>3.888619</td>\n",
       "      <td>last_activity_Olark Chat Conversation</td>\n",
       "    </tr>\n",
       "    <tr>\n",
       "      <th>36</th>\n",
       "      <td>3.865232</td>\n",
       "      <td>lead_profile_Potential Lead</td>\n",
       "    </tr>\n",
       "    <tr>\n",
       "      <th>2</th>\n",
       "      <td>3.764320</td>\n",
       "      <td>converted</td>\n",
       "    </tr>\n",
       "    <tr>\n",
       "      <th>16</th>\n",
       "      <td>3.662923</td>\n",
       "      <td>specialization_Finance Management</td>\n",
       "    </tr>\n",
       "    <tr>\n",
       "      <th>33</th>\n",
       "      <td>3.630399</td>\n",
       "      <td>lead_quality_Might be</td>\n",
       "    </tr>\n",
       "    <tr>\n",
       "      <th>11</th>\n",
       "      <td>3.574567</td>\n",
       "      <td>last_activity_Page Visited on Website</td>\n",
       "    </tr>\n",
       "    <tr>\n",
       "      <th>17</th>\n",
       "      <td>3.435140</td>\n",
       "      <td>specialization_Human Resource Management</td>\n",
       "    </tr>\n",
       "    <tr>\n",
       "      <th>19</th>\n",
       "      <td>3.288328</td>\n",
       "      <td>specialization_Marketing Management</td>\n",
       "    </tr>\n",
       "    <tr>\n",
       "      <th>13</th>\n",
       "      <td>3.239453</td>\n",
       "      <td>last_activity_others</td>\n",
       "    </tr>\n",
       "    <tr>\n",
       "      <th>6</th>\n",
       "      <td>2.794623</td>\n",
       "      <td>lead_source_Olark Chat</td>\n",
       "    </tr>\n",
       "    <tr>\n",
       "      <th>1</th>\n",
       "      <td>2.756291</td>\n",
       "      <td>total_time_spent_on_website</td>\n",
       "    </tr>\n",
       "    <tr>\n",
       "      <th>35</th>\n",
       "      <td>2.463464</td>\n",
       "      <td>lead_quality_Worst</td>\n",
       "    </tr>\n",
       "    <tr>\n",
       "      <th>20</th>\n",
       "      <td>2.382417</td>\n",
       "      <td>specialization_Operations Management</td>\n",
       "    </tr>\n",
       "    <tr>\n",
       "      <th>42</th>\n",
       "      <td>2.372503</td>\n",
       "      <td>last_notable_activity_Olark Chat Conversation</td>\n",
       "    </tr>\n",
       "    <tr>\n",
       "      <th>28</th>\n",
       "      <td>2.318558</td>\n",
       "      <td>tags_Interested in other courses</td>\n",
       "    </tr>\n",
       "    <tr>\n",
       "      <th>38</th>\n",
       "      <td>2.140988</td>\n",
       "      <td>last_notable_activity_Email Link Clicked</td>\n",
       "    </tr>\n",
       "    <tr>\n",
       "      <th>14</th>\n",
       "      <td>2.055553</td>\n",
       "      <td>specialization_Business Administration</td>\n",
       "    </tr>\n",
       "    <tr>\n",
       "      <th>18</th>\n",
       "      <td>1.987949</td>\n",
       "      <td>specialization_IT Projects Management</td>\n",
       "    </tr>\n",
       "    <tr>\n",
       "      <th>21</th>\n",
       "      <td>1.971081</td>\n",
       "      <td>specialization_Supply Chain Management</td>\n",
       "    </tr>\n",
       "    <tr>\n",
       "      <th>32</th>\n",
       "      <td>1.947356</td>\n",
       "      <td>lead_quality_Low in Relevance</td>\n",
       "    </tr>\n",
       "    <tr>\n",
       "      <th>3</th>\n",
       "      <td>1.943423</td>\n",
       "      <td>lead_origin_Lead Add Form</td>\n",
       "    </tr>\n",
       "    <tr>\n",
       "      <th>37</th>\n",
       "      <td>1.730422</td>\n",
       "      <td>lead_profile_others</td>\n",
       "    </tr>\n",
       "    <tr>\n",
       "      <th>4</th>\n",
       "      <td>1.615149</td>\n",
       "      <td>lead_origin_others</td>\n",
       "    </tr>\n",
       "    <tr>\n",
       "      <th>8</th>\n",
       "      <td>1.614378</td>\n",
       "      <td>lead_source_others</td>\n",
       "    </tr>\n",
       "    <tr>\n",
       "      <th>5</th>\n",
       "      <td>1.351756</td>\n",
       "      <td>lead_source_Google</td>\n",
       "    </tr>\n",
       "    <tr>\n",
       "      <th>46</th>\n",
       "      <td>1.323589</td>\n",
       "      <td>last_notable_activity_Unsubscribed</td>\n",
       "    </tr>\n",
       "    <tr>\n",
       "      <th>26</th>\n",
       "      <td>1.311457</td>\n",
       "      <td>what_is_your_current_occupation_Working Profes...</td>\n",
       "    </tr>\n",
       "    <tr>\n",
       "      <th>45</th>\n",
       "      <td>1.216398</td>\n",
       "      <td>last_notable_activity_Unreachable</td>\n",
       "    </tr>\n",
       "    <tr>\n",
       "      <th>15</th>\n",
       "      <td>1.155835</td>\n",
       "      <td>specialization_E-Business</td>\n",
       "    </tr>\n",
       "    <tr>\n",
       "      <th>25</th>\n",
       "      <td>1.134130</td>\n",
       "      <td>how_did_you_hear_about_x_education_others</td>\n",
       "    </tr>\n",
       "    <tr>\n",
       "      <th>7</th>\n",
       "      <td>1.130919</td>\n",
       "      <td>lead_source_Organic Search</td>\n",
       "    </tr>\n",
       "    <tr>\n",
       "      <th>40</th>\n",
       "      <td>1.093400</td>\n",
       "      <td>last_notable_activity_Had a Phone Conversation</td>\n",
       "    </tr>\n",
       "    <tr>\n",
       "      <th>24</th>\n",
       "      <td>1.087578</td>\n",
       "      <td>how_did_you_hear_about_x_education_Word Of Mouth</td>\n",
       "    </tr>\n",
       "    <tr>\n",
       "      <th>23</th>\n",
       "      <td>1.079084</td>\n",
       "      <td>how_did_you_hear_about_x_education_Student of ...</td>\n",
       "    </tr>\n",
       "    <tr>\n",
       "      <th>47</th>\n",
       "      <td>1.046510</td>\n",
       "      <td>last_notable_activity_others</td>\n",
       "    </tr>\n",
       "    <tr>\n",
       "      <th>27</th>\n",
       "      <td>1.022682</td>\n",
       "      <td>what_is_your_current_occupation_others</td>\n",
       "    </tr>\n",
       "  </tbody>\n",
       "</table>\n",
       "</div>"
      ],
      "text/plain": [
       "          VIF                                           Features\n",
       "39  23.128438                 last_notable_activity_Email Opened\n",
       "41  20.671051                     last_notable_activity_Modified\n",
       "44  17.885311                     last_notable_activity_SMS Sent\n",
       "9   14.180950                         last_activity_Email Opened\n",
       "34  12.187590                              lead_quality_Not Sure\n",
       "12  11.594499                             last_activity_SMS Sent\n",
       "30   7.891946           tags_Will revert after reading the email\n",
       "31   5.447553                                        tags_others\n",
       "0    4.620694                                       total_visits\n",
       "29   4.447068                                       tags_Ringing\n",
       "22   4.258365                              specialization_others\n",
       "43   3.967131      last_notable_activity_Page Visited on Website\n",
       "10   3.888619              last_activity_Olark Chat Conversation\n",
       "36   3.865232                        lead_profile_Potential Lead\n",
       "2    3.764320                                          converted\n",
       "16   3.662923                  specialization_Finance Management\n",
       "33   3.630399                              lead_quality_Might be\n",
       "11   3.574567              last_activity_Page Visited on Website\n",
       "17   3.435140           specialization_Human Resource Management\n",
       "19   3.288328                specialization_Marketing Management\n",
       "13   3.239453                               last_activity_others\n",
       "6    2.794623                             lead_source_Olark Chat\n",
       "1    2.756291                        total_time_spent_on_website\n",
       "35   2.463464                                 lead_quality_Worst\n",
       "20   2.382417               specialization_Operations Management\n",
       "42   2.372503      last_notable_activity_Olark Chat Conversation\n",
       "28   2.318558                   tags_Interested in other courses\n",
       "38   2.140988           last_notable_activity_Email Link Clicked\n",
       "14   2.055553             specialization_Business Administration\n",
       "18   1.987949              specialization_IT Projects Management\n",
       "21   1.971081             specialization_Supply Chain Management\n",
       "32   1.947356                      lead_quality_Low in Relevance\n",
       "3    1.943423                          lead_origin_Lead Add Form\n",
       "37   1.730422                                lead_profile_others\n",
       "4    1.615149                                 lead_origin_others\n",
       "8    1.614378                                 lead_source_others\n",
       "5    1.351756                                 lead_source_Google\n",
       "46   1.323589                 last_notable_activity_Unsubscribed\n",
       "26   1.311457  what_is_your_current_occupation_Working Profes...\n",
       "45   1.216398                  last_notable_activity_Unreachable\n",
       "15   1.155835                          specialization_E-Business\n",
       "25   1.134130          how_did_you_hear_about_x_education_others\n",
       "7    1.130919                         lead_source_Organic Search\n",
       "40   1.093400     last_notable_activity_Had a Phone Conversation\n",
       "24   1.087578   how_did_you_hear_about_x_education_Word Of Mouth\n",
       "23   1.079084  how_did_you_hear_about_x_education_Student of ...\n",
       "47   1.046510                       last_notable_activity_others\n",
       "27   1.022682             what_is_your_current_occupation_others"
      ]
     },
     "execution_count": 70,
     "metadata": {},
     "output_type": "execute_result"
    }
   ],
   "source": [
    "vif_df_LS2 = vif_df_LS2.drop('what_is_your_current_occupation_Unemployed',axis=1)\n",
    "\n",
    "vif=pd.DataFrame()\n",
    "vif['VIF']=[variance_inflation_factor(vif_df_LS2.values,i)for i in range(vif_df_LS2.shape[1])]\n",
    "vif['VIF']\n",
    "vif['Features']=vif_df_LS2.columns\n",
    "vif.sort_values('VIF',ascending=False)"
   ]
  },
  {
   "cell_type": "markdown",
   "metadata": {},
   "source": [
    "#### Dropping last_notable_activity_Email Opened"
   ]
  },
  {
   "cell_type": "code",
   "execution_count": 71,
   "metadata": {},
   "outputs": [
    {
     "data": {
      "text/html": [
       "<div>\n",
       "<style scoped>\n",
       "    .dataframe tbody tr th:only-of-type {\n",
       "        vertical-align: middle;\n",
       "    }\n",
       "\n",
       "    .dataframe tbody tr th {\n",
       "        vertical-align: top;\n",
       "    }\n",
       "\n",
       "    .dataframe thead th {\n",
       "        text-align: right;\n",
       "    }\n",
       "</style>\n",
       "<table border=\"1\" class=\"dataframe\">\n",
       "  <thead>\n",
       "    <tr style=\"text-align: right;\">\n",
       "      <th></th>\n",
       "      <th>VIF</th>\n",
       "      <th>Features</th>\n",
       "    </tr>\n",
       "  </thead>\n",
       "  <tbody>\n",
       "    <tr>\n",
       "      <th>12</th>\n",
       "      <td>10.862578</td>\n",
       "      <td>last_activity_SMS Sent</td>\n",
       "    </tr>\n",
       "    <tr>\n",
       "      <th>34</th>\n",
       "      <td>10.382051</td>\n",
       "      <td>lead_quality_Not Sure</td>\n",
       "    </tr>\n",
       "    <tr>\n",
       "      <th>9</th>\n",
       "      <td>9.735691</td>\n",
       "      <td>last_activity_Email Opened</td>\n",
       "    </tr>\n",
       "    <tr>\n",
       "      <th>43</th>\n",
       "      <td>7.858806</td>\n",
       "      <td>last_notable_activity_SMS Sent</td>\n",
       "    </tr>\n",
       "    <tr>\n",
       "      <th>30</th>\n",
       "      <td>7.079910</td>\n",
       "      <td>tags_Will revert after reading the email</td>\n",
       "    </tr>\n",
       "    <tr>\n",
       "      <th>40</th>\n",
       "      <td>5.465198</td>\n",
       "      <td>last_notable_activity_Modified</td>\n",
       "    </tr>\n",
       "    <tr>\n",
       "      <th>31</th>\n",
       "      <td>4.960720</td>\n",
       "      <td>tags_others</td>\n",
       "    </tr>\n",
       "    <tr>\n",
       "      <th>0</th>\n",
       "      <td>4.584681</td>\n",
       "      <td>total_visits</td>\n",
       "    </tr>\n",
       "    <tr>\n",
       "      <th>29</th>\n",
       "      <td>4.013227</td>\n",
       "      <td>tags_Ringing</td>\n",
       "    </tr>\n",
       "    <tr>\n",
       "      <th>22</th>\n",
       "      <td>3.861916</td>\n",
       "      <td>specialization_others</td>\n",
       "    </tr>\n",
       "    <tr>\n",
       "      <th>36</th>\n",
       "      <td>3.776454</td>\n",
       "      <td>lead_profile_Potential Lead</td>\n",
       "    </tr>\n",
       "    <tr>\n",
       "      <th>2</th>\n",
       "      <td>3.733419</td>\n",
       "      <td>converted</td>\n",
       "    </tr>\n",
       "    <tr>\n",
       "      <th>10</th>\n",
       "      <td>3.601342</td>\n",
       "      <td>last_activity_Olark Chat Conversation</td>\n",
       "    </tr>\n",
       "    <tr>\n",
       "      <th>11</th>\n",
       "      <td>3.424654</td>\n",
       "      <td>last_activity_Page Visited on Website</td>\n",
       "    </tr>\n",
       "    <tr>\n",
       "      <th>16</th>\n",
       "      <td>3.337887</td>\n",
       "      <td>specialization_Finance Management</td>\n",
       "    </tr>\n",
       "    <tr>\n",
       "      <th>33</th>\n",
       "      <td>3.322921</td>\n",
       "      <td>lead_quality_Might be</td>\n",
       "    </tr>\n",
       "    <tr>\n",
       "      <th>17</th>\n",
       "      <td>3.168489</td>\n",
       "      <td>specialization_Human Resource Management</td>\n",
       "    </tr>\n",
       "    <tr>\n",
       "      <th>13</th>\n",
       "      <td>3.156827</td>\n",
       "      <td>last_activity_others</td>\n",
       "    </tr>\n",
       "    <tr>\n",
       "      <th>19</th>\n",
       "      <td>3.023177</td>\n",
       "      <td>specialization_Marketing Management</td>\n",
       "    </tr>\n",
       "    <tr>\n",
       "      <th>6</th>\n",
       "      <td>2.786412</td>\n",
       "      <td>lead_source_Olark Chat</td>\n",
       "    </tr>\n",
       "    <tr>\n",
       "      <th>1</th>\n",
       "      <td>2.746944</td>\n",
       "      <td>total_time_spent_on_website</td>\n",
       "    </tr>\n",
       "    <tr>\n",
       "      <th>42</th>\n",
       "      <td>2.533469</td>\n",
       "      <td>last_notable_activity_Page Visited on Website</td>\n",
       "    </tr>\n",
       "    <tr>\n",
       "      <th>20</th>\n",
       "      <td>2.223791</td>\n",
       "      <td>specialization_Operations Management</td>\n",
       "    </tr>\n",
       "    <tr>\n",
       "      <th>28</th>\n",
       "      <td>2.181507</td>\n",
       "      <td>tags_Interested in other courses</td>\n",
       "    </tr>\n",
       "    <tr>\n",
       "      <th>35</th>\n",
       "      <td>2.100742</td>\n",
       "      <td>lead_quality_Worst</td>\n",
       "    </tr>\n",
       "    <tr>\n",
       "      <th>14</th>\n",
       "      <td>1.936205</td>\n",
       "      <td>specialization_Business Administration</td>\n",
       "    </tr>\n",
       "    <tr>\n",
       "      <th>3</th>\n",
       "      <td>1.914932</td>\n",
       "      <td>lead_origin_Lead Add Form</td>\n",
       "    </tr>\n",
       "    <tr>\n",
       "      <th>18</th>\n",
       "      <td>1.873111</td>\n",
       "      <td>specialization_IT Projects Management</td>\n",
       "    </tr>\n",
       "    <tr>\n",
       "      <th>21</th>\n",
       "      <td>1.859637</td>\n",
       "      <td>specialization_Supply Chain Management</td>\n",
       "    </tr>\n",
       "    <tr>\n",
       "      <th>32</th>\n",
       "      <td>1.842909</td>\n",
       "      <td>lead_quality_Low in Relevance</td>\n",
       "    </tr>\n",
       "    <tr>\n",
       "      <th>37</th>\n",
       "      <td>1.665884</td>\n",
       "      <td>lead_profile_others</td>\n",
       "    </tr>\n",
       "    <tr>\n",
       "      <th>8</th>\n",
       "      <td>1.614377</td>\n",
       "      <td>lead_source_others</td>\n",
       "    </tr>\n",
       "    <tr>\n",
       "      <th>4</th>\n",
       "      <td>1.609207</td>\n",
       "      <td>lead_origin_others</td>\n",
       "    </tr>\n",
       "    <tr>\n",
       "      <th>41</th>\n",
       "      <td>1.530642</td>\n",
       "      <td>last_notable_activity_Olark Chat Conversation</td>\n",
       "    </tr>\n",
       "    <tr>\n",
       "      <th>38</th>\n",
       "      <td>1.523009</td>\n",
       "      <td>last_notable_activity_Email Link Clicked</td>\n",
       "    </tr>\n",
       "    <tr>\n",
       "      <th>5</th>\n",
       "      <td>1.350685</td>\n",
       "      <td>lead_source_Google</td>\n",
       "    </tr>\n",
       "    <tr>\n",
       "      <th>26</th>\n",
       "      <td>1.311149</td>\n",
       "      <td>what_is_your_current_occupation_Working Profes...</td>\n",
       "    </tr>\n",
       "    <tr>\n",
       "      <th>45</th>\n",
       "      <td>1.145505</td>\n",
       "      <td>last_notable_activity_Unsubscribed</td>\n",
       "    </tr>\n",
       "    <tr>\n",
       "      <th>15</th>\n",
       "      <td>1.140942</td>\n",
       "      <td>specialization_E-Business</td>\n",
       "    </tr>\n",
       "    <tr>\n",
       "      <th>25</th>\n",
       "      <td>1.133683</td>\n",
       "      <td>how_did_you_hear_about_x_education_others</td>\n",
       "    </tr>\n",
       "    <tr>\n",
       "      <th>7</th>\n",
       "      <td>1.130255</td>\n",
       "      <td>lead_source_Organic Search</td>\n",
       "    </tr>\n",
       "    <tr>\n",
       "      <th>44</th>\n",
       "      <td>1.104623</td>\n",
       "      <td>last_notable_activity_Unreachable</td>\n",
       "    </tr>\n",
       "    <tr>\n",
       "      <th>24</th>\n",
       "      <td>1.087578</td>\n",
       "      <td>how_did_you_hear_about_x_education_Word Of Mouth</td>\n",
       "    </tr>\n",
       "    <tr>\n",
       "      <th>23</th>\n",
       "      <td>1.078823</td>\n",
       "      <td>how_did_you_hear_about_x_education_Student of ...</td>\n",
       "    </tr>\n",
       "    <tr>\n",
       "      <th>39</th>\n",
       "      <td>1.050621</td>\n",
       "      <td>last_notable_activity_Had a Phone Conversation</td>\n",
       "    </tr>\n",
       "    <tr>\n",
       "      <th>46</th>\n",
       "      <td>1.023378</td>\n",
       "      <td>last_notable_activity_others</td>\n",
       "    </tr>\n",
       "    <tr>\n",
       "      <th>27</th>\n",
       "      <td>1.022679</td>\n",
       "      <td>what_is_your_current_occupation_others</td>\n",
       "    </tr>\n",
       "  </tbody>\n",
       "</table>\n",
       "</div>"
      ],
      "text/plain": [
       "          VIF                                           Features\n",
       "12  10.862578                             last_activity_SMS Sent\n",
       "34  10.382051                              lead_quality_Not Sure\n",
       "9    9.735691                         last_activity_Email Opened\n",
       "43   7.858806                     last_notable_activity_SMS Sent\n",
       "30   7.079910           tags_Will revert after reading the email\n",
       "40   5.465198                     last_notable_activity_Modified\n",
       "31   4.960720                                        tags_others\n",
       "0    4.584681                                       total_visits\n",
       "29   4.013227                                       tags_Ringing\n",
       "22   3.861916                              specialization_others\n",
       "36   3.776454                        lead_profile_Potential Lead\n",
       "2    3.733419                                          converted\n",
       "10   3.601342              last_activity_Olark Chat Conversation\n",
       "11   3.424654              last_activity_Page Visited on Website\n",
       "16   3.337887                  specialization_Finance Management\n",
       "33   3.322921                              lead_quality_Might be\n",
       "17   3.168489           specialization_Human Resource Management\n",
       "13   3.156827                               last_activity_others\n",
       "19   3.023177                specialization_Marketing Management\n",
       "6    2.786412                             lead_source_Olark Chat\n",
       "1    2.746944                        total_time_spent_on_website\n",
       "42   2.533469      last_notable_activity_Page Visited on Website\n",
       "20   2.223791               specialization_Operations Management\n",
       "28   2.181507                   tags_Interested in other courses\n",
       "35   2.100742                                 lead_quality_Worst\n",
       "14   1.936205             specialization_Business Administration\n",
       "3    1.914932                          lead_origin_Lead Add Form\n",
       "18   1.873111              specialization_IT Projects Management\n",
       "21   1.859637             specialization_Supply Chain Management\n",
       "32   1.842909                      lead_quality_Low in Relevance\n",
       "37   1.665884                                lead_profile_others\n",
       "8    1.614377                                 lead_source_others\n",
       "4    1.609207                                 lead_origin_others\n",
       "41   1.530642      last_notable_activity_Olark Chat Conversation\n",
       "38   1.523009           last_notable_activity_Email Link Clicked\n",
       "5    1.350685                                 lead_source_Google\n",
       "26   1.311149  what_is_your_current_occupation_Working Profes...\n",
       "45   1.145505                 last_notable_activity_Unsubscribed\n",
       "15   1.140942                          specialization_E-Business\n",
       "25   1.133683          how_did_you_hear_about_x_education_others\n",
       "7    1.130255                         lead_source_Organic Search\n",
       "44   1.104623                  last_notable_activity_Unreachable\n",
       "24   1.087578   how_did_you_hear_about_x_education_Word Of Mouth\n",
       "23   1.078823  how_did_you_hear_about_x_education_Student of ...\n",
       "39   1.050621     last_notable_activity_Had a Phone Conversation\n",
       "46   1.023378                       last_notable_activity_others\n",
       "27   1.022679             what_is_your_current_occupation_others"
      ]
     },
     "execution_count": 71,
     "metadata": {},
     "output_type": "execute_result"
    }
   ],
   "source": [
    "vif_df_LS2 = vif_df_LS2.drop('last_notable_activity_Email Opened',axis=1)\n",
    "\n",
    "vif=pd.DataFrame()\n",
    "vif['VIF']=[variance_inflation_factor(vif_df_LS2.values,i)for i in range(vif_df_LS2.shape[1])]\n",
    "vif['VIF']\n",
    "vif['Features']=vif_df_LS2.columns\n",
    "vif.sort_values('VIF',ascending=False)"
   ]
  },
  {
   "cell_type": "markdown",
   "metadata": {},
   "source": [
    "### SFS after VIF"
   ]
  },
  {
   "cell_type": "code",
   "execution_count": 72,
   "metadata": {},
   "outputs": [
    {
     "data": {
      "text/plain": [
       "Index(['total_visits', 'total_time_spent_on_website',\n",
       "       'lead_origin_Lead Add Form', 'lead_origin_others', 'lead_source_Google',\n",
       "       'lead_source_Olark Chat', 'lead_source_Organic Search',\n",
       "       'lead_source_others', 'last_activity_Email Opened',\n",
       "       'last_activity_Olark Chat Conversation',\n",
       "       'last_activity_Page Visited on Website', 'last_activity_SMS Sent',\n",
       "       'last_activity_others', 'specialization_Business Administration',\n",
       "       'specialization_E-Business', 'specialization_Finance Management',\n",
       "       'specialization_Human Resource Management',\n",
       "       'specialization_IT Projects Management',\n",
       "       'specialization_Marketing Management',\n",
       "       'specialization_Operations Management',\n",
       "       'specialization_Supply Chain Management', 'specialization_others',\n",
       "       'how_did_you_hear_about_x_education_Student of SomeSchool',\n",
       "       'how_did_you_hear_about_x_education_Word Of Mouth',\n",
       "       'how_did_you_hear_about_x_education_others',\n",
       "       'what_is_your_current_occupation_Working Professional',\n",
       "       'what_is_your_current_occupation_others',\n",
       "       'tags_Interested in other courses', 'tags_Ringing',\n",
       "       'tags_Will revert after reading the email', 'tags_others',\n",
       "       'lead_quality_Low in Relevance', 'lead_quality_Might be',\n",
       "       'lead_quality_Not Sure', 'lead_quality_Worst',\n",
       "       'lead_profile_Potential Lead', 'lead_profile_others',\n",
       "       'last_notable_activity_Email Link Clicked',\n",
       "       'last_notable_activity_Had a Phone Conversation',\n",
       "       'last_notable_activity_Modified',\n",
       "       'last_notable_activity_Olark Chat Conversation',\n",
       "       'last_notable_activity_Page Visited on Website',\n",
       "       'last_notable_activity_SMS Sent', 'last_notable_activity_Unreachable',\n",
       "       'last_notable_activity_Unsubscribed', 'last_notable_activity_others'],\n",
       "      dtype='object')"
      ]
     },
     "execution_count": 72,
     "metadata": {},
     "output_type": "execute_result"
    }
   ],
   "source": [
    "x=vif_df_LS2.drop(['converted'],axis=1)\n",
    "y=vif_df_LS2['converted']\n",
    "x.columns"
   ]
  },
  {
   "cell_type": "markdown",
   "metadata": {},
   "source": [
    "### SFS with estimator as LR"
   ]
  },
  {
   "cell_type": "code",
   "execution_count": 73,
   "metadata": {},
   "outputs": [],
   "source": [
    "from mlxtend.feature_selection import SequentialFeatureSelector \n",
    "from sklearn.linear_model import LinearRegression\n",
    "lr = LinearRegression()\n",
    "features = SequentialFeatureSelector(lr,k_features='best',cv=3)\n",
    "features1 = features.fit(x,y)"
   ]
  },
  {
   "cell_type": "code",
   "execution_count": 74,
   "metadata": {},
   "outputs": [
    {
     "data": {
      "text/plain": [
       "('total_time_spent_on_website',\n",
       " 'lead_origin_Lead Add Form',\n",
       " 'lead_origin_others',\n",
       " 'lead_source_Google',\n",
       " 'lead_source_Olark Chat',\n",
       " 'lead_source_Organic Search',\n",
       " 'lead_source_others',\n",
       " 'last_activity_Email Opened',\n",
       " 'last_activity_Olark Chat Conversation',\n",
       " 'last_activity_SMS Sent',\n",
       " 'specialization_Business Administration',\n",
       " 'specialization_IT Projects Management',\n",
       " 'specialization_others',\n",
       " 'how_did_you_hear_about_x_education_Student of SomeSchool',\n",
       " 'how_did_you_hear_about_x_education_others',\n",
       " 'tags_Interested in other courses',\n",
       " 'tags_Ringing',\n",
       " 'tags_Will revert after reading the email',\n",
       " 'tags_others',\n",
       " 'lead_quality_Might be',\n",
       " 'lead_quality_Not Sure',\n",
       " 'lead_quality_Worst',\n",
       " 'last_notable_activity_Had a Phone Conversation',\n",
       " 'last_notable_activity_Modified',\n",
       " 'last_notable_activity_Olark Chat Conversation',\n",
       " 'last_notable_activity_Page Visited on Website',\n",
       " 'last_notable_activity_SMS Sent',\n",
       " 'last_notable_activity_others')"
      ]
     },
     "execution_count": 74,
     "metadata": {},
     "output_type": "execute_result"
    }
   ],
   "source": [
    "features1.k_feature_names_"
   ]
  },
  {
   "cell_type": "code",
   "execution_count": 75,
   "metadata": {},
   "outputs": [],
   "source": [
    "sfs_features = ['total_time_spent_on_website',\n",
    " 'lead_origin_Lead Add Form',\n",
    " 'lead_origin_others',\n",
    " 'lead_source_Google',\n",
    " 'lead_source_Olark Chat',\n",
    " 'lead_source_Organic Search',\n",
    " 'lead_source_others',\n",
    " 'last_activity_Email Opened',\n",
    " 'last_activity_Olark Chat Conversation',\n",
    " 'last_activity_SMS Sent',\n",
    " 'specialization_Business Administration',\n",
    " 'specialization_IT Projects Management',\n",
    " 'specialization_others',\n",
    " 'how_did_you_hear_about_x_education_Student of SomeSchool',\n",
    " 'how_did_you_hear_about_x_education_others',\n",
    " 'tags_Interested in other courses',\n",
    " 'tags_Ringing',\n",
    " 'tags_Will revert after reading the email',\n",
    " 'tags_others',\n",
    " 'lead_quality_Might be',\n",
    " 'lead_quality_Not Sure',\n",
    " 'lead_quality_Worst',\n",
    " 'last_notable_activity_Had a Phone Conversation',\n",
    " 'last_notable_activity_Modified',\n",
    " 'last_notable_activity_Olark Chat Conversation',\n",
    " 'last_notable_activity_Page Visited on Website',\n",
    " 'last_notable_activity_SMS Sent',\n",
    " 'last_notable_activity_others']"
   ]
  },
  {
   "cell_type": "markdown",
   "metadata": {},
   "source": [
    "## Modeling"
   ]
  },
  {
   "cell_type": "code",
   "execution_count": 76,
   "metadata": {},
   "outputs": [
    {
     "data": {
      "text/plain": [
       "Index(['total_time_spent_on_website', 'lead_origin_Lead Add Form',\n",
       "       'lead_origin_others', 'lead_source_Google', 'lead_source_Olark Chat',\n",
       "       'lead_source_Organic Search', 'lead_source_others',\n",
       "       'last_activity_Email Opened', 'last_activity_Olark Chat Conversation',\n",
       "       'last_activity_SMS Sent', 'specialization_Business Administration',\n",
       "       'specialization_IT Projects Management', 'specialization_others',\n",
       "       'how_did_you_hear_about_x_education_Student of SomeSchool',\n",
       "       'how_did_you_hear_about_x_education_others',\n",
       "       'tags_Interested in other courses', 'tags_Ringing',\n",
       "       'tags_Will revert after reading the email', 'tags_others',\n",
       "       'lead_quality_Might be', 'lead_quality_Not Sure', 'lead_quality_Worst',\n",
       "       'last_notable_activity_Had a Phone Conversation',\n",
       "       'last_notable_activity_Modified',\n",
       "       'last_notable_activity_Olark Chat Conversation',\n",
       "       'last_notable_activity_Page Visited on Website',\n",
       "       'last_notable_activity_SMS Sent', 'last_notable_activity_others'],\n",
       "      dtype='object')"
      ]
     },
     "execution_count": 76,
     "metadata": {},
     "output_type": "execute_result"
    }
   ],
   "source": [
    "x=vif_df_LS2[sfs_features]\n",
    "y=vif_df_LS2['converted']\n",
    "x.columns"
   ]
  },
  {
   "cell_type": "code",
   "execution_count": 78,
   "metadata": {},
   "outputs": [],
   "source": [
    "from sklearn.model_selection import train_test_split\n",
    "from sklearn.linear_model import LogisticRegression\n",
    "from sklearn.neighbors import KNeighborsClassifier\n",
    "from sklearn.tree import DecisionTreeClassifier\n",
    "from sklearn.naive_bayes import GaussianNB\n",
    "from sklearn.model_selection import cross_val_score,GridSearchCV,KFold\n",
    "from sklearn.metrics import accuracy_score,confusion_matrix\n",
    "\n",
    "kf=KFold(n_splits=5,shuffle=True,random_state=0)\n",
    "\n",
    "xtrain,xtest,ytrain,ytest=train_test_split(x,y,test_size=0.3,random_state=0)"
   ]
  },
  {
   "cell_type": "markdown",
   "metadata": {},
   "source": [
    "### Logistic Regression"
   ]
  },
  {
   "cell_type": "code",
   "execution_count": 79,
   "metadata": {},
   "outputs": [
    {
     "name": "stdout",
     "output_type": "stream",
     "text": [
      "bias error: 0.0681741333189706 variance error: 0.00388490806849272\n",
      "Accuracy of Logistic Regression base model= 87.15728715728716\n"
     ]
    },
    {
     "data": {
      "text/plain": [
       "array([[1537,  145],\n",
       "       [ 211,  879]], dtype=int64)"
      ]
     },
     "execution_count": 79,
     "metadata": {},
     "output_type": "execute_result"
    }
   ],
   "source": [
    "LR=LogisticRegression()\n",
    "model1=LR.fit(xtrain,ytrain)\n",
    "\n",
    "score=cross_val_score(LR,x,y,cv=kf,scoring='roc_auc')\n",
    "print(\"bias error:\",(1-np.mean(score)),\"variance error:\",np.std(score,ddof=1))\n",
    "\n",
    "y_predicted=LR.predict(xtest)\n",
    "acc=accuracy_score(ytest,y_predicted)\n",
    "print(\"Accuracy of Logistic Regression base model=\",acc*100)\n",
    "cm=confusion_matrix(ytest,y_predicted)\n",
    "cm"
   ]
  },
  {
   "cell_type": "code",
   "execution_count": 80,
   "metadata": {},
   "outputs": [
    {
     "name": "stdout",
     "output_type": "stream",
     "text": [
      "              precision    recall  f1-score   support\n",
      "\n",
      "           0       0.88      0.91      0.90      1682\n",
      "           1       0.86      0.81      0.83      1090\n",
      "\n",
      "    accuracy                           0.87      2772\n",
      "   macro avg       0.87      0.86      0.86      2772\n",
      "weighted avg       0.87      0.87      0.87      2772\n",
      "\n"
     ]
    }
   ],
   "source": [
    "from sklearn import metrics\n",
    "print(metrics.classification_report(ytest,y_predicted))"
   ]
  },
  {
   "cell_type": "markdown",
   "metadata": {},
   "source": [
    "### DecisionTreeClassifier"
   ]
  },
  {
   "cell_type": "code",
   "execution_count": 81,
   "metadata": {},
   "outputs": [
    {
     "name": "stdout",
     "output_type": "stream",
     "text": [
      "Accuracy of Decission Tree base model= 85.82251082251082\n"
     ]
    },
    {
     "data": {
      "text/plain": [
       "array([[1501,  181],\n",
       "       [ 212,  878]], dtype=int64)"
      ]
     },
     "execution_count": 81,
     "metadata": {},
     "output_type": "execute_result"
    }
   ],
   "source": [
    "dt=DecisionTreeClassifier(random_state=0)\n",
    "model4=dt.fit(xtrain,ytrain)\n",
    "\n",
    "y_predicted=dt.predict(xtest)\n",
    "acc=accuracy_score(ytest,y_predicted)\n",
    "print(\"Accuracy of Decission Tree base model=\",acc*100)\n",
    "cm=confusion_matrix(ytest,y_predicted)\n",
    "cm"
   ]
  },
  {
   "cell_type": "code",
   "execution_count": 82,
   "metadata": {},
   "outputs": [
    {
     "name": "stdout",
     "output_type": "stream",
     "text": [
      "              precision    recall  f1-score   support\n",
      "\n",
      "           0       0.88      0.89      0.88      1682\n",
      "           1       0.83      0.81      0.82      1090\n",
      "\n",
      "    accuracy                           0.86      2772\n",
      "   macro avg       0.85      0.85      0.85      2772\n",
      "weighted avg       0.86      0.86      0.86      2772\n",
      "\n"
     ]
    }
   ],
   "source": [
    "from sklearn import metrics\n",
    "print(metrics.classification_report(ytest,y_predicted))"
   ]
  },
  {
   "cell_type": "markdown",
   "metadata": {},
   "source": [
    "###  GaussianNB"
   ]
  },
  {
   "cell_type": "code",
   "execution_count": 83,
   "metadata": {},
   "outputs": [
    {
     "name": "stdout",
     "output_type": "stream",
     "text": [
      "Accuracy of Naive Bayes base model= 81.63780663780665\n"
     ]
    },
    {
     "data": {
      "text/plain": [
       "array([[1356,  326],\n",
       "       [ 183,  907]], dtype=int64)"
      ]
     },
     "execution_count": 83,
     "metadata": {},
     "output_type": "execute_result"
    }
   ],
   "source": [
    "NB=GaussianNB()\n",
    "model3=NB.fit(xtrain,ytrain)\n",
    "\n",
    "y_predicted=NB.predict(xtest)\n",
    "acc=accuracy_score(ytest,y_predicted)\n",
    "print(\"Accuracy of Naive Bayes base model=\",acc*100)\n",
    "cm=confusion_matrix(ytest,y_predicted)\n",
    "cm"
   ]
  },
  {
   "cell_type": "code",
   "execution_count": 84,
   "metadata": {},
   "outputs": [
    {
     "name": "stdout",
     "output_type": "stream",
     "text": [
      "              precision    recall  f1-score   support\n",
      "\n",
      "           0       0.88      0.81      0.84      1682\n",
      "           1       0.74      0.83      0.78      1090\n",
      "\n",
      "    accuracy                           0.82      2772\n",
      "   macro avg       0.81      0.82      0.81      2772\n",
      "weighted avg       0.82      0.82      0.82      2772\n",
      "\n"
     ]
    }
   ],
   "source": [
    "print(metrics.classification_report(ytest,y_predicted))"
   ]
  },
  {
   "cell_type": "markdown",
   "metadata": {},
   "source": [
    "----"
   ]
  },
  {
   "cell_type": "markdown",
   "metadata": {},
   "source": [
    "### SFS with estimator as DT"
   ]
  },
  {
   "cell_type": "code",
   "execution_count": 85,
   "metadata": {},
   "outputs": [],
   "source": [
    "dt = DecisionTreeClassifier()\n",
    "features = SequentialFeatureSelector(dt,k_features='best',cv=3)\n",
    "features1 = features.fit(x,y)"
   ]
  },
  {
   "cell_type": "code",
   "execution_count": 86,
   "metadata": {},
   "outputs": [
    {
     "data": {
      "text/plain": [
       "('lead_origin_Lead Add Form',\n",
       " 'lead_origin_others',\n",
       " 'lead_source_Organic Search',\n",
       " 'lead_source_others',\n",
       " 'last_activity_Email Opened',\n",
       " 'last_activity_Olark Chat Conversation',\n",
       " 'last_activity_SMS Sent',\n",
       " 'specialization_Business Administration',\n",
       " 'tags_Interested in other courses',\n",
       " 'tags_Ringing',\n",
       " 'tags_Will revert after reading the email',\n",
       " 'lead_quality_Might be',\n",
       " 'lead_quality_Not Sure',\n",
       " 'lead_quality_Worst',\n",
       " 'last_notable_activity_Had a Phone Conversation',\n",
       " 'last_notable_activity_Page Visited on Website',\n",
       " 'last_notable_activity_SMS Sent',\n",
       " 'last_notable_activity_others')"
      ]
     },
     "execution_count": 86,
     "metadata": {},
     "output_type": "execute_result"
    }
   ],
   "source": [
    "features1.k_feature_names_"
   ]
  },
  {
   "cell_type": "code",
   "execution_count": 87,
   "metadata": {},
   "outputs": [],
   "source": [
    "sfs_DT_features = ['lead_origin_Lead Add Form',\n",
    " 'lead_origin_others',\n",
    " 'lead_source_Organic Search',\n",
    " 'lead_source_others',\n",
    " 'last_activity_Email Opened',\n",
    " 'last_activity_Olark Chat Conversation',\n",
    " 'last_activity_SMS Sent',\n",
    " 'specialization_Business Administration',\n",
    " 'tags_Interested in other courses',\n",
    " 'tags_Ringing',\n",
    " 'tags_Will revert after reading the email',\n",
    " 'lead_quality_Might be',\n",
    " 'lead_quality_Not Sure',\n",
    " 'lead_quality_Worst',\n",
    " 'last_notable_activity_Had a Phone Conversation',\n",
    " 'last_notable_activity_Page Visited on Website',\n",
    " 'last_notable_activity_SMS Sent',\n",
    " 'last_notable_activity_others']"
   ]
  },
  {
   "cell_type": "markdown",
   "metadata": {},
   "source": [
    "## Modeling"
   ]
  },
  {
   "cell_type": "code",
   "execution_count": 88,
   "metadata": {},
   "outputs": [
    {
     "data": {
      "text/plain": [
       "Index(['lead_origin_Lead Add Form', 'lead_origin_others',\n",
       "       'lead_source_Organic Search', 'lead_source_others',\n",
       "       'last_activity_Email Opened', 'last_activity_Olark Chat Conversation',\n",
       "       'last_activity_SMS Sent', 'specialization_Business Administration',\n",
       "       'tags_Interested in other courses', 'tags_Ringing',\n",
       "       'tags_Will revert after reading the email', 'lead_quality_Might be',\n",
       "       'lead_quality_Not Sure', 'lead_quality_Worst',\n",
       "       'last_notable_activity_Had a Phone Conversation',\n",
       "       'last_notable_activity_Page Visited on Website',\n",
       "       'last_notable_activity_SMS Sent', 'last_notable_activity_others'],\n",
       "      dtype='object')"
      ]
     },
     "execution_count": 88,
     "metadata": {},
     "output_type": "execute_result"
    }
   ],
   "source": [
    "x=vif_df_LS2[sfs_DT_features]\n",
    "y=vif_df_LS2['converted']\n",
    "x.columns"
   ]
  },
  {
   "cell_type": "code",
   "execution_count": 89,
   "metadata": {},
   "outputs": [],
   "source": [
    "kf=KFold(n_splits=5,shuffle=True,random_state=0)\n",
    "xtrain,xtest,ytrain,ytest=train_test_split(x,y,test_size=0.3,random_state=0)"
   ]
  },
  {
   "cell_type": "markdown",
   "metadata": {},
   "source": [
    "### Logistic Regression"
   ]
  },
  {
   "cell_type": "code",
   "execution_count": 90,
   "metadata": {},
   "outputs": [
    {
     "name": "stdout",
     "output_type": "stream",
     "text": [
      "bias error: 0.09154330824250034 variance error: 0.0019606160241728604\n",
      "Accuracy of Logistic Regression base model= 85.42568542568543\n"
     ]
    },
    {
     "data": {
      "text/plain": [
       "array([[1519,  163],\n",
       "       [ 241,  849]], dtype=int64)"
      ]
     },
     "execution_count": 90,
     "metadata": {},
     "output_type": "execute_result"
    }
   ],
   "source": [
    "LR=LogisticRegression()\n",
    "model1=LR.fit(xtrain,ytrain)\n",
    "\n",
    "score=cross_val_score(LR,x,y,cv=kf,scoring='roc_auc')\n",
    "print(\"bias error:\",(1-np.mean(score)),\"variance error:\",np.std(score,ddof=1))\n",
    "\n",
    "y_predicted=LR.predict(xtest)\n",
    "acc=accuracy_score(ytest,y_predicted)\n",
    "print(\"Accuracy of Logistic Regression base model=\",acc*100)\n",
    "cm=confusion_matrix(ytest,y_predicted)\n",
    "cm"
   ]
  },
  {
   "cell_type": "code",
   "execution_count": 91,
   "metadata": {},
   "outputs": [
    {
     "name": "stdout",
     "output_type": "stream",
     "text": [
      "              precision    recall  f1-score   support\n",
      "\n",
      "           0       0.86      0.90      0.88      1682\n",
      "           1       0.84      0.78      0.81      1090\n",
      "\n",
      "    accuracy                           0.85      2772\n",
      "   macro avg       0.85      0.84      0.85      2772\n",
      "weighted avg       0.85      0.85      0.85      2772\n",
      "\n"
     ]
    }
   ],
   "source": [
    "from sklearn import metrics\n",
    "print(metrics.classification_report(ytest,y_predicted))"
   ]
  },
  {
   "cell_type": "markdown",
   "metadata": {},
   "source": [
    "### DecisionTreeClassifier"
   ]
  },
  {
   "cell_type": "code",
   "execution_count": 92,
   "metadata": {},
   "outputs": [
    {
     "name": "stdout",
     "output_type": "stream",
     "text": [
      "Accuracy of Decission Tree base model= 88.09523809523809\n"
     ]
    },
    {
     "data": {
      "text/plain": [
       "array([[1589,   93],\n",
       "       [ 237,  853]], dtype=int64)"
      ]
     },
     "execution_count": 92,
     "metadata": {},
     "output_type": "execute_result"
    }
   ],
   "source": [
    "dt=DecisionTreeClassifier(random_state=0)\n",
    "model4=dt.fit(xtrain,ytrain)\n",
    "\n",
    "y_predicted=dt.predict(xtest)\n",
    "acc=accuracy_score(ytest,y_predicted)\n",
    "print(\"Accuracy of Decission Tree base model=\",acc*100)\n",
    "cm=confusion_matrix(ytest,y_predicted)\n",
    "cm"
   ]
  },
  {
   "cell_type": "code",
   "execution_count": 93,
   "metadata": {},
   "outputs": [
    {
     "name": "stdout",
     "output_type": "stream",
     "text": [
      "              precision    recall  f1-score   support\n",
      "\n",
      "           0       0.87      0.94      0.91      1682\n",
      "           1       0.90      0.78      0.84      1090\n",
      "\n",
      "    accuracy                           0.88      2772\n",
      "   macro avg       0.89      0.86      0.87      2772\n",
      "weighted avg       0.88      0.88      0.88      2772\n",
      "\n"
     ]
    }
   ],
   "source": [
    "from sklearn import metrics\n",
    "print(metrics.classification_report(ytest,y_predicted))"
   ]
  },
  {
   "cell_type": "markdown",
   "metadata": {},
   "source": [
    "###  GaussianNB"
   ]
  },
  {
   "cell_type": "code",
   "execution_count": 94,
   "metadata": {},
   "outputs": [
    {
     "name": "stdout",
     "output_type": "stream",
     "text": [
      "Accuracy of Naive Bayes base model= 79.04040404040404\n"
     ]
    },
    {
     "data": {
      "text/plain": [
       "array([[1345,  337],\n",
       "       [ 244,  846]], dtype=int64)"
      ]
     },
     "execution_count": 94,
     "metadata": {},
     "output_type": "execute_result"
    }
   ],
   "source": [
    "NB=GaussianNB()\n",
    "model3=NB.fit(xtrain,ytrain)\n",
    "\n",
    "y_predicted=NB.predict(xtest)\n",
    "acc=accuracy_score(ytest,y_predicted)\n",
    "print(\"Accuracy of Naive Bayes base model=\",acc*100)\n",
    "cm=confusion_matrix(ytest,y_predicted)\n",
    "cm"
   ]
  },
  {
   "cell_type": "code",
   "execution_count": 95,
   "metadata": {},
   "outputs": [
    {
     "name": "stdout",
     "output_type": "stream",
     "text": [
      "              precision    recall  f1-score   support\n",
      "\n",
      "           0       0.85      0.80      0.82      1682\n",
      "           1       0.72      0.78      0.74      1090\n",
      "\n",
      "    accuracy                           0.79      2772\n",
      "   macro avg       0.78      0.79      0.78      2772\n",
      "weighted avg       0.79      0.79      0.79      2772\n",
      "\n"
     ]
    }
   ],
   "source": [
    "print(metrics.classification_report(ytest,y_predicted))"
   ]
  },
  {
   "cell_type": "markdown",
   "metadata": {},
   "source": [
    "___"
   ]
  },
  {
   "cell_type": "code",
   "execution_count": null,
   "metadata": {},
   "outputs": [],
   "source": []
  }
 ],
 "metadata": {
  "kernelspec": {
   "display_name": "Python 3",
   "language": "python",
   "name": "python3"
  },
  "language_info": {
   "codemirror_mode": {
    "name": "ipython",
    "version": 3
   },
   "file_extension": ".py",
   "mimetype": "text/x-python",
   "name": "python",
   "nbconvert_exporter": "python",
   "pygments_lexer": "ipython3",
   "version": "3.7.9"
  }
 },
 "nbformat": 4,
 "nbformat_minor": 4
}
